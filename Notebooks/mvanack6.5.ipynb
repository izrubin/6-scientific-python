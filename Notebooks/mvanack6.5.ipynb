{
 "cells": [
  {
   "cell_type": "markdown",
   "metadata": {},
   "source": [
    "# Assignment\n",
    "\n",
    "-------------\n",
    "\n",
    "**1) Complete this notebook and make a pull request:** \n",
    "\n",
    "Answer questions (Q) in the space provided (A) in this notebook. When finished, copy your notebook to the `Assignment/` directory and name it `nb-6.5-<Github-username>.ipynb`. Then make a pull request to the upstream repo. The entered answers in this notebook will be simply Markdown text where I want you to interpret and describe a block of code to better understand what it is doing. Much of this code you will have seen already. \n",
    "\n",
    "\n",
    "**2) Write an importable Python package, save as a repo, and test it here.**\n",
    "\n",
    "The package should be written as we did in our last lession (`.py` files in a directory with a setup.py file so it can be installed with `pip`). Follow instructions at the end of this notebook for how to write your package. Test it here by importing the package and executing the code at the end. It should work and give correct answers, if not, continue working on it. When you have it completed save your package as a new Github repo named `seqlib`."
   ]
  },
  {
   "cell_type": "markdown",
   "metadata": {},
   "source": [
    "### The `seqlib` package\n",
    "\n",
    "Together we are going to write several functions here that will make up your new package called `seqlib`. It will be your job to copy these functions, organize them into a Class, save the code into a `.py` file (you can use SublimeText if you're comfortable with it for much of this, or any text editor including the one in jupyter), package the files so they can be imported as a library, and test the package so that it accomplishes the tasks which are defined at the end of this notebook. First things first, though, let's write the functions. "
   ]
  },
  {
   "cell_type": "code",
   "execution_count": 1,
   "metadata": {},
   "outputs": [],
   "source": [
    "import numpy as np\n",
    "import pandas as pd"
   ]
  },
  {
   "cell_type": "markdown",
   "metadata": {},
   "source": [
    "### Q.  Describe what the `mutate()` function below does:\n",
    "\n",
    "\n",
    "A. The function provides a set of bases and subtracts the base provided by the user that will be mutated and then returns the mutated base."
   ]
  },
  {
   "cell_type": "code",
   "execution_count": 2,
   "metadata": {},
   "outputs": [],
   "source": [
    "def mutate(base):\n",
    "    diff = set(\"ACTG\") - set(base) # provides a set of 4 bases and subtracts an individual base from the original set \n",
    "    return np.random.choice(list(diff)) # returns one of the three remaining bases after the base is subtracted"
   ]
  },
  {
   "cell_type": "code",
   "execution_count": 3,
   "metadata": {},
   "outputs": [
    {
     "data": {
      "text/plain": [
       "'T'"
      ]
     },
     "execution_count": 3,
     "metadata": {},
     "output_type": "execute_result"
    }
   ],
   "source": [
    "# test it\n",
    "mutate(\"A\")"
   ]
  },
  {
   "cell_type": "markdown",
   "metadata": {},
   "source": [
    "### Q. Describe how the `seqdata()` function below works:\n",
    "Annotate the code by inserting lines with comments as you read through the function to make sense of it. What is being created at each step and how is it used?\n",
    "\n",
    "\n",
    "A. "
   ]
  },
  {
   "cell_type": "code",
   "execution_count": 7,
   "metadata": {},
   "outputs": [],
   "source": [
    "def simulate(ninds, nsites):  #ninds: number of individuals, nsites: each base\n",
    "    oseq = np.random.choice(list(\"ACGT\"), size=nsites) # calls orginal sequence array and creates a sequence of bases\n",
    "    arr = np.array([oseq for i in range(ninds)]) # creates new array of sequences for the range of # of individuals \n",
    "    muts = np.random.binomial(1, 0.1, (ninds, nsites)) # iterates over columns and creates mutation with a 10% mutation probability \n",
    "    \n",
    "    for col in range(nsites):\n",
    "        newbase = mutate(arr[0, col]) #Use mutate function to create mutations in first row of each column\n",
    "        mask = muts[:, col].astype(bool) #goes over each column and grabs only the sites that are mutated - returns boolean type\n",
    "        arr[:, col][mask] = newbase # grab the column, apply mask to .....\n",
    "    missing = np.random.binomial(1, 0.1, (ninds, nsites)) # create missing values using a binomial distribution \n",
    "    arr[missing.astype(bool)] = \"N\" # return missing values with \"N\"\n",
    "    return arr # return array"
   ]
  },
  {
   "cell_type": "code",
   "execution_count": 6,
   "metadata": {},
   "outputs": [
    {
     "name": "stdout",
     "output_type": "stream",
     "text": [
      "[['G' 'G' 'C' 'T' 'G' 'T' 'A' 'G' 'C' 'A' 'A' 'T' 'T' 'N' 'T']\n",
      " ['A' 'G' 'C' 'T' 'A' 'T' 'C' 'G' 'A' 'G' 'A' 'T' 'N' 'A' 'T']\n",
      " ['G' 'N' 'C' 'T' 'A' 'T' 'A' 'G' 'C' 'A' 'A' 'A' 'N' 'A' 'T']\n",
      " ['G' 'G' 'C' 'T' 'A' 'T' 'A' 'G' 'A' 'A' 'A' 'T' 'T' 'N' 'A']\n",
      " ['G' 'G' 'C' 'T' 'A' 'T' 'A' 'G' 'A' 'A' 'A' 'T' 'T' 'A' 'T']\n",
      " ['G' 'G' 'C' 'T' 'A' 'T' 'A' 'G' 'A' 'A' 'A' 'N' 'T' 'C' 'T']]\n"
     ]
    }
   ],
   "source": [
    "seqs = simulate(6, 15) # 6 individuals and 15 bases \n",
    "print(seqs)"
   ]
  },
  {
   "cell_type": "markdown",
   "metadata": {},
   "source": [
    "### **Q: Describe how the `filter_missing` function works:**\n",
    "Annotate the code by inserting lines with comments as you read through the function to make sense of it. How does it find columns with missing (N) values in them? How might you mprove it?\n",
    "\n",
    "A. "
   ]
  },
  {
   "cell_type": "code",
   "execution_count": 8,
   "metadata": {},
   "outputs": [],
   "source": [
    "def filter_missing(arr, maxfreq):\n",
    "    freqmissing = np.sum(arr == \"N\", axis=0) / arr.shape[0] #sum every first row element that equals \"N\", divide by the number of rows \n",
    "    return arr[:, freqmissing <= maxfreq] # return all rows in array where the proportion of freqmissing equals the value given for maxfreq"
   ]
  },
  {
   "cell_type": "code",
   "execution_count": 16,
   "metadata": {},
   "outputs": [
    {
     "data": {
      "text/plain": [
       "array([['G', 'C', 'T', 'G', 'T', 'A', 'G', 'C', 'A', 'A', 'T'],\n",
       "       ['A', 'C', 'T', 'A', 'T', 'C', 'G', 'A', 'G', 'A', 'T'],\n",
       "       ['G', 'C', 'T', 'A', 'T', 'A', 'G', 'C', 'A', 'A', 'T'],\n",
       "       ['G', 'C', 'T', 'A', 'T', 'A', 'G', 'A', 'A', 'A', 'A'],\n",
       "       ['G', 'C', 'T', 'A', 'T', 'A', 'G', 'A', 'A', 'A', 'T'],\n",
       "       ['G', 'C', 'T', 'A', 'T', 'A', 'G', 'A', 'A', 'A', 'T']],\n",
       "      dtype='<U1')"
      ]
     },
     "execution_count": 16,
     "metadata": {},
     "output_type": "execute_result"
    }
   ],
   "source": [
    "filter_missing(seqs, 0.1) # filter seq data so that the missing data is less than 10%"
   ]
  },
  {
   "cell_type": "markdown",
   "metadata": {},
   "source": [
    "### **Q: Describe how the `filter_maf` function works:**\n",
    "Annotate the code by inserting lines with comments as you read through the function to make sense of it. How does it calculate minor allele frequencies? Why does it use copy?\n",
    "\n",
    "A. "
   ]
  },
  {
   "cell_type": "code",
   "execution_count": 10,
   "metadata": {},
   "outputs": [],
   "source": [
    "def filter_maf(arr, minfreq):\n",
    "    freqs = np.sum(arr != arr[0], axis=0) / arr.shape[0] # sum every row element that doesn't match the first element in the column, divide by the number of rows \n",
    "    maf = freqs.copy() # make copy to not change original frequency array\n",
    "    maf[maf > 0.5] = 1 - maf[maf > 0.5] # subselect sites with major freq (>0.5) and modify to be 1-value\n",
    "    return arr[:, maf > minfreq] # return array rows where major allele frequency is greater than minimum allele frequency"
   ]
  },
  {
   "cell_type": "code",
   "execution_count": 17,
   "metadata": {},
   "outputs": [
    {
     "data": {
      "text/plain": [
       "array([['G', 'G', 'G', 'A', 'C', 'A', 'T', 'T', 'N', 'T'],\n",
       "       ['A', 'G', 'A', 'C', 'A', 'G', 'T', 'N', 'A', 'T'],\n",
       "       ['G', 'N', 'A', 'A', 'C', 'A', 'A', 'N', 'A', 'T'],\n",
       "       ['G', 'G', 'A', 'A', 'A', 'A', 'T', 'T', 'N', 'A'],\n",
       "       ['G', 'G', 'A', 'A', 'A', 'A', 'T', 'T', 'A', 'T'],\n",
       "       ['G', 'G', 'A', 'A', 'A', 'A', 'N', 'T', 'C', 'T']], dtype='<U1')"
      ]
     },
     "execution_count": 17,
     "metadata": {},
     "output_type": "execute_result"
    }
   ],
   "source": [
    "filter_maf(seqs, 0.1)"
   ]
  },
  {
   "cell_type": "markdown",
   "metadata": {},
   "source": [
    "### Q: What order should these functions be applied, does it matter?\n",
    "\n",
    "A. The order of these functions should be swapped so that the missing values identified through the filter_missing function are removed and the sequence data used for the filter_maf function does not include \"N\" elements. "
   ]
  },
  {
   "cell_type": "code",
   "execution_count": 19,
   "metadata": {},
   "outputs": [
    {
     "data": {
      "text/plain": [
       "array([['G', 'G', 'A', 'C', 'A', 'T'],\n",
       "       ['A', 'A', 'C', 'A', 'G', 'T'],\n",
       "       ['G', 'A', 'A', 'C', 'A', 'T'],\n",
       "       ['G', 'A', 'A', 'A', 'A', 'A'],\n",
       "       ['G', 'A', 'A', 'A', 'A', 'T'],\n",
       "       ['G', 'A', 'A', 'A', 'A', 'T']], dtype='<U1')"
      ]
     },
     "execution_count": 19,
     "metadata": {},
     "output_type": "execute_result"
    }
   ],
   "source": [
    "filter_missing(filter_maf(seqs, 0.1), 0.1)"
   ]
  },
  {
   "cell_type": "code",
   "execution_count": 20,
   "metadata": {},
   "outputs": [
    {
     "data": {
      "text/plain": [
       "array([['G', 'G', 'A', 'C', 'A', 'T'],\n",
       "       ['A', 'A', 'C', 'A', 'G', 'T'],\n",
       "       ['G', 'A', 'A', 'C', 'A', 'T'],\n",
       "       ['G', 'A', 'A', 'A', 'A', 'A'],\n",
       "       ['G', 'A', 'A', 'A', 'A', 'T'],\n",
       "       ['G', 'A', 'A', 'A', 'A', 'T']], dtype='<U1')"
      ]
     },
     "execution_count": 20,
     "metadata": {},
     "output_type": "execute_result"
    }
   ],
   "source": [
    "filter_maf(filter_missing(seqs, 0.1), 0.1)"
   ]
  },
  {
   "cell_type": "markdown",
   "metadata": {},
   "source": [
    "### Q: Describe how `calculate_statistics()` works\n",
    "\n",
    "\n",
    "A. "
   ]
  },
  {
   "cell_type": "code",
   "execution_count": 21,
   "metadata": {},
   "outputs": [],
   "source": [
    "def calculcate_statistics(arr):\n",
    "    nd = np.var(arr == arr[0], axis=0).mean() # get mean value for all elements present\n",
    "    mf = np.mean(np.sum(arr != arr[0], axis=0) / arr.shape[0]) # get mean value for elements that have mutated (=1)\n",
    "    inv = np.any(arr != arr[0], axis=0).sum() # get sum value for all elements that have not mutated (=0)\n",
    "    var = arr.shape[1] - inv # subtract invariant sites from whole array to get the variable sites\n",
    "    return pd.Series(\n",
    "        {\"mean nucleotide diversity\": nd, # provide column headers shown as strings for the objects defined in the series \n",
    "         \"mean minor allele frequency\": mf,\n",
    "         \"invariant sites\": inv,\n",
    "         \"variable sites\": var,\n",
    "        })"
   ]
  },
  {
   "cell_type": "code",
   "execution_count": 22,
   "metadata": {},
   "outputs": [
    {
     "data": {
      "text/plain": [
       "invariant sites                10.000000\n",
       "mean minor allele frequency     0.244444\n",
       "mean nucleotide diversity       0.114815\n",
       "variable sites                  5.000000\n",
       "dtype: float64"
      ]
     },
     "execution_count": 22,
     "metadata": {},
     "output_type": "execute_result"
    }
   ],
   "source": [
    "calculcate_statistics(seqs)"
   ]
  },
  {
   "cell_type": "markdown",
   "metadata": {},
   "source": [
    "### Instructions: Write a `seqlib` Class object\n",
    "\n",
    "I started writing the bare bones of it below. You should write it so that it can be executed as described below to perform all of the functions we defined above, and so that its attributes can be accessed. Save this class object in a `.py` file and make it into an importable package called `seqlib`. You can write and test your object in this notebook if you like, but it must be saved separately in a `.py` file and be imported. You cannot execute the code at the end using your object defined here in the notebook. When finished save your package to GitHub as a repo just like we did with the `helloworld` package. You do not need to write a CLI script like we did for the `helloworld` package, we will only be using the Python API here. See the examples below for **how you should write your Class object**. It should be able to run in the way written below, so look at that code and think about how you would write a Class object that can do that. \n",
    "\n",
    "While you can mostly copy the functions from above, you will need to modify them slightly to access information about the Class object using *self*. For example, the `simulate()` function below takes self as a first argument and can access `self.inds` and `self.nsites` from that, so we do not need to provide those as arguments to the `simulate` function like we did above. "
   ]
  },
  {
   "cell_type": "code",
   "execution_count": 148,
   "metadata": {},
   "outputs": [],
   "source": [
    "\n",
    "import numpy as np\n",
    "import pandas as pd\n",
    "\n",
    "\n",
    "class Seqlib:\n",
    "    def __init__(self, ninds, nsites):\n",
    "        \n",
    "        self.ninds = ninds\n",
    "        self.nsites = nsites\n",
    "        self.arr = self.simulate()\n",
    "     \n",
    "\n",
    "    def mutate(self, base):\n",
    "        diff = set(\"ACTG\") - set(base) # provides a set of 4 bases and subtracts an individual base from the original set \n",
    "        return np.random.choice(list(diff)) # returns one of the three remaining bases after the base is subtracted\n",
    "        \n",
    "    def simulate(self):\n",
    "        oseq = np.random.choice(list(\"ACGT\"), size=self.nsites) # calls orginal sequence array and creates a sequence of bases\n",
    "        self.arr = np.array([oseq for i in range(self.ninds)]) # creates new array of sequences for the range of # of individuals \n",
    "        muts = np.random.binomial(1, 0.1, (self.ninds, self.nsites)) # iterates over columns and creates mutation with a 10% mutation probability \n",
    "    \n",
    "        for col in range(self.nsites):\n",
    "            newbase = mutate(self.arr[0, col]) #Use mutate function to create mutations in first row of each column\n",
    "            mask = muts[:, col].astype(bool) #goes over each column and grabs only the sites that are mutated - returns boolean type\n",
    "            self.arr[:, col][mask] = newbase # grab the column, apply mask to .....\n",
    "        missing = np.random.binomial(1, 0.1, (self.ninds, self.nsites)) # create missing values using a binomial distribution \n",
    "        self.arr[missing.astype(bool)] = \"N\" # return missing values with \"N\"\n",
    "        return self.arr # return array\n",
    "\n",
    "    def filter_missing(self, maxfreq):\n",
    "        freqmissing = np.sum(self.arr == \"N\", axis=0) / self.arr.shape[0] #sum every first row element that equals \"N\", divide by the number of rows \n",
    "        return self.arr[:, freqmissing <= maxfreq] # return all rows in array where the proportion of freqmissing equals the value given for maxfreq\n",
    "\n",
    "    def filter_maf(self, minfreq):\n",
    "        freqs = np.sum(self.arr != self.arr[0], axis=0) / self.arr.shape[0] # sum every row element that doesn't match the first element in the column, divide by the number of rows \n",
    "        maf = freqs.copy() # make copy to not change original frequency array\n",
    "        maf[maf > 0.5] = 1 - maf[maf > 0.5] # subselect sites with major freq (>0.5) and modify to be 1-value\n",
    "        return self.arr[:, maf > minfreq] # return array rows where major allele frequency is greater than minimum allele frequency\n",
    "    \n",
    "    def descriptive(self, minmaf, maxmissing):\n",
    "        job1 = self.filter_missing(maxfreq = maxmissing)\n",
    "        freqs = np.sum(job1 != job1[0], axis=0) / job1.shape[0]  \n",
    "        maf = freqs.copy() \n",
    "        maf[maf > 0.5] = 1 - maf[maf > 0.5] \n",
    "        return job1[:, maf > minmaf] \n",
    "    \n",
    "    def calculcate_statistics(self):\n",
    "        nd = np.var(self.arr == self.arr[0], axis=0).mean() # get mean value for all elements present\n",
    "        mf = np.mean(np.sum(self.arr != self.arr[0], axis=0) / self.arr.shape[0]) # get mean value for elements that have mutated (=1)\n",
    "        inv = np.any(self.arr != self.arr[0], axis=0).sum() # get sum value for all elements that have not mutated (=0)\n",
    "        var = self.arr.shape[1] - inv # subtract invariant sites from whole array to get the variable sites\n",
    "        return pd.Series(\n",
    "        {\"mean nucleotide diversity\": nd,\n",
    "         \"mean minor allele frequency\": mf,\n",
    "         \"invariant sites\": inv,\n",
    "         \"variable sites\": var,\n",
    "        })\n",
    "    \n",
    "    "
   ]
  },
  {
   "cell_type": "markdown",
   "metadata": {},
   "source": [
    "## Test your package\n",
    "The package should be globally importable (you ran `pip install .` or `pip install -e .` to install it), and it should be able to execute the following code without error. "
   ]
  },
  {
   "cell_type": "code",
   "execution_count": 159,
   "metadata": {},
   "outputs": [],
   "source": [
    "#import Seqlib"
   ]
  },
  {
   "cell_type": "code",
   "execution_count": 160,
   "metadata": {},
   "outputs": [
    {
     "data": {
      "text/plain": [
       "<__main__.Seqlib at 0x111909860>"
      ]
     },
     "execution_count": 160,
     "metadata": {},
     "output_type": "execute_result"
    }
   ],
   "source": [
    "# init a Seqlib Class object\n",
    "seqs = Seqlib(ninds=10, nsites=50)\n",
    "seqs"
   ]
  },
  {
   "cell_type": "code",
   "execution_count": 161,
   "metadata": {},
   "outputs": [
    {
     "name": "stdout",
     "output_type": "stream",
     "text": [
      "10 50\n"
     ]
    }
   ],
   "source": [
    "# access attributes from the object\n",
    "print(seqs.ninds, seqs.nsites)"
   ]
  },
  {
   "cell_type": "code",
   "execution_count": 162,
   "metadata": {},
   "outputs": [
    {
     "data": {
      "text/plain": [
       "array([['G', 'C', 'T', 'C', 'C', 'G', 'G', 'T', 'T', 'N', 'A', 'C', 'C',\n",
       "        'C', 'C', 'C', 'N', 'T', 'G', 'C', 'N', 'C', 'A', 'G', 'C', 'G',\n",
       "        'T', 'N', 'A', 'G', 'A'],\n",
       "       ['T', 'C', 'T', 'C', 'C', 'G', 'G', 'T', 'T', 'T', 'N', 'C', 'C',\n",
       "        'C', 'N', 'N', 'G', 'T', 'G', 'C', 'A', 'C', 'A', 'G', 'C', 'C',\n",
       "        'A', 'N', 'A', 'G', 'A'],\n",
       "       ['T', 'C', 'T', 'G', 'C', 'G', 'G', 'T', 'N', 'T', 'A', 'C', 'N',\n",
       "        'N', 'C', 'C', 'G', 'T', 'G', 'C', 'A', 'C', 'N', 'G', 'C', 'N',\n",
       "        'T', 'T', 'A', 'G', 'A'],\n",
       "       ['T', 'C', 'T', 'C', 'N', 'G', 'G', 'N', 'N', 'T', 'A', 'N', 'C',\n",
       "        'N', 'C', 'C', 'N', 'N', 'N', 'N', 'A', 'C', 'A', 'C', 'C', 'G',\n",
       "        'T', 'T', 'N', 'N', 'A'],\n",
       "       ['T', 'C', 'T', 'G', 'N', 'G', 'N', 'T', 'N', 'N', 'T', 'C', 'C',\n",
       "        'C', 'C', 'N', 'G', 'T', 'T', 'C', 'A', 'C', 'A', 'N', 'C', 'G',\n",
       "        'T', 'A', 'A', 'G', 'N'],\n",
       "       ['N', 'C', 'T', 'G', 'C', 'A', 'T', 'N', 'T', 'G', 'A', 'C', 'C',\n",
       "        'C', 'C', 'C', 'G', 'T', 'G', 'C', 'A', 'C', 'A', 'G', 'C', 'G',\n",
       "        'T', 'T', 'A', 'G', 'A'],\n",
       "       ['G', 'C', 'T', 'G', 'C', 'N', 'G', 'A', 'A', 'T', 'N', 'N', 'C',\n",
       "        'C', 'A', 'C', 'G', 'A', 'G', 'C', 'A', 'C', 'G', 'G', 'N', 'G',\n",
       "        'T', 'A', 'T', 'A', 'A'],\n",
       "       ['T', 'C', 'G', 'N', 'C', 'G', 'G', 'T', 'T', 'T', 'A', 'C', 'C',\n",
       "        'C', 'C', 'N', 'G', 'A', 'T', 'C', 'A', 'C', 'A', 'G', 'C', 'G',\n",
       "        'N', 'A', 'A', 'G', 'A'],\n",
       "       ['T', 'G', 'G', 'C', 'C', 'G', 'N', 'T', 'T', 'N', 'N', 'C', 'C',\n",
       "        'C', 'C', 'C', 'G', 'T', 'G', 'G', 'N', 'A', 'A', 'N', 'C', 'G',\n",
       "        'A', 'T', 'A', 'G', 'A'],\n",
       "       ['T', 'N', 'T', 'C', 'C', 'N', 'G', 'N', 'N', 'T', 'A', 'C', 'T',\n",
       "        'N', 'C', 'C', 'N', 'T', 'G', 'C', 'A', 'N', 'A', 'G', 'N', 'G',\n",
       "        'N', 'A', 'A', 'G', 'G']], dtype='<U1')"
      ]
     },
     "execution_count": 162,
     "metadata": {},
     "output_type": "execute_result"
    }
   ],
   "source": [
    "# returns the MAF of the array as an array of floats\n",
    "seqs.filter_maf(0.1)"
   ]
  },
  {
   "cell_type": "code",
   "execution_count": 163,
   "metadata": {},
   "outputs": [
    {
     "data": {
      "text/plain": [
       "array([['T'],\n",
       "       ['T'],\n",
       "       ['T'],\n",
       "       ['T'],\n",
       "       ['T'],\n",
       "       ['T'],\n",
       "       ['T'],\n",
       "       ['G'],\n",
       "       ['G'],\n",
       "       ['T']], dtype='<U1')"
      ]
     },
     "execution_count": 163,
     "metadata": {},
     "output_type": "execute_result"
    }
   ],
   "source": [
    "# return a view of the filtered sequence array by applying a new function \n",
    "# called `filter()` that applies both the maf and missing filter functions\n",
    "seqs.descriptive(minmaf=0.1, maxmissing=0.0)"
   ]
  },
  {
   "cell_type": "code",
   "execution_count": 164,
   "metadata": {},
   "outputs": [
    {
     "ename": "AttributeError",
     "evalue": "'Seqlib' object has no attribute 'calculate_statistics'",
     "output_type": "error",
     "traceback": [
      "\u001b[0;31m---------------------------------------------------------------------------\u001b[0m",
      "\u001b[0;31mAttributeError\u001b[0m                            Traceback (most recent call last)",
      "\u001b[0;32m<ipython-input-164-0db23b66c058>\u001b[0m in \u001b[0;36m<module>\u001b[0;34m()\u001b[0m\n\u001b[1;32m      1\u001b[0m \u001b[0;31m# calculate statistics for an array with the results returned as a DataFrame\u001b[0m\u001b[0;34m\u001b[0m\u001b[0;34m\u001b[0m\u001b[0m\n\u001b[0;32m----> 2\u001b[0;31m \u001b[0mseqs\u001b[0m\u001b[0;34m.\u001b[0m\u001b[0mcalculate_statistics\u001b[0m\u001b[0;34m(\u001b[0m\u001b[0;34m)\u001b[0m\u001b[0;34m\u001b[0m\u001b[0m\n\u001b[0m",
      "\u001b[0;31mAttributeError\u001b[0m: 'Seqlib' object has no attribute 'calculate_statistics'"
     ]
    }
   ],
   "source": [
    "# calculate statistics for an array with the results returned as a DataFrame\n",
    "seqs.calculate_statistics()"
   ]
  },
  {
   "cell_type": "code",
   "execution_count": null,
   "metadata": {},
   "outputs": [],
   "source": [
    "# calculate statistics for an array after filtering it\n",
    "seqs.filter(minmaf=0.1, maxmissing=0.0).calculate_statistics()"
   ]
  }
 ],
 "metadata": {
  "kernelspec": {
   "display_name": "Python 3",
   "language": "python",
   "name": "python3"
  },
  "language_info": {
   "codemirror_mode": {
    "name": "ipython",
    "version": 3
   },
   "file_extension": ".py",
   "mimetype": "text/x-python",
   "name": "python",
   "nbconvert_exporter": "python",
   "pygments_lexer": "ipython3",
   "version": "3.6.3"
  }
 },
 "nbformat": 4,
 "nbformat_minor": 2
}
