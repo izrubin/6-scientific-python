{
 "cells": [
  {
   "cell_type": "markdown",
   "metadata": {},
   "source": [
    "# Assignment\n",
    "\n",
    "-------------\n",
    "\n",
    "**1) Complete this notebook and make a pull request:** \n",
    "\n",
    "Answer questions (Q) in the space provided (A) in this notebook. When finished, copy your notebook to the `Assignment/` directory and name it `nb-6.5-<Github-username>.ipynb`. Then make a pull request to the upstream repo. The entered answers in this notebook will be simply Markdown text where I want you to interpret and describe a block of code to better understand what it is doing. Much of this code you will have seen already. \n",
    "\n",
    "\n",
    "**2) Write an importable Python package, save as a repo, and test it here.**\n",
    "\n",
    "The package should be written as we did in our last lession (`.py` files in a directory with a setup.py file so it can be installed with `pip`). Follow instructions at the end of this notebook for how to write your package. Test it here by importing the package and executing the code at the end. It should work and give correct answers, if not, continue working on it. When you have it completed save your package as a new Github repo named `seqlib`."
   ]
  },
  {
   "cell_type": "markdown",
   "metadata": {},
   "source": [
    "### The `seqlib` package\n",
    "\n",
    "Together we are going to write several functions here that will make up your new package called `seqlib`. It will be your job to copy these functions, organize them into a Class, save the code into a `.py` file (you can use SublimeText if you're comfortable with it for much of this, or any text editor including the one in jupyter), package the files so they can be imported as a library, and test the package so that it accomplishes the tasks which are defined at the end of this notebook. First things first, though, let's write the functions. "
   ]
  },
  {
   "cell_type": "code",
   "execution_count": null,
   "metadata": {},
   "outputs": [],
   "source": [
    "import numpy as np\n",
    "import pandas as pd"
   ]
  },
  {
   "cell_type": "markdown",
   "metadata": {},
   "source": [
    "### Q.  Describe what the `mutate()` function below does:\n",
    "\n",
    "A. The mutate function creats a random mutation. The parameter base (e.g. \"A\") is substracted from the set \"ACTG\" and the difference (e.g. 'G', 'C', 'T') is saved in *diff*. Lastly, a random letter is chosen from the list, *diff*, and returned at the end. "
   ]
  },
  {
   "cell_type": "code",
   "execution_count": 63,
   "metadata": {},
   "outputs": [],
   "source": [
    "def mutate(base):\n",
    "    diff = set(\"ACTG\") - set(base)\n",
    "    return np.random.choice(list(diff))"
   ]
  },
  {
   "cell_type": "code",
   "execution_count": 54,
   "metadata": {},
   "outputs": [
    {
     "data": {
      "text/plain": [
       "'C'"
      ]
     },
     "execution_count": 54,
     "metadata": {},
     "output_type": "execute_result"
    }
   ],
   "source": [
    "# test it\n",
    "mutate(\"A\")"
   ]
  },
  {
   "cell_type": "markdown",
   "metadata": {},
   "source": [
    "### Q. Describe how the `simulate()` function below works:\n",
    "Annotate the code by inserting lines with comments as you read through the function to make sense of it. What is being created at each step and how is it used?\n",
    "\n",
    "\n",
    "A. The function `simulate` generate variable sequence data by creating mutations and sites with missing data. The parameters used (ninds = 6, nsites = 15) construct six 15-base long nuclotide sequence."
   ]
  },
  {
   "cell_type": "code",
   "execution_count": 67,
   "metadata": {},
   "outputs": [],
   "source": [
    "def simulate(ninds, nsites):  #ninds is a number of rows and nsites is a number of columns\n",
    "    \n",
    "    #choose a random letter from the list \"ACGT\" for 15 times \n",
    "    oseq = np.random.choice(list(\"ACGT\"), size=nsites) \n",
    "    \n",
    "    #construct an array by creating 6 rows of oseq\n",
    "    arr = np.array([oseq for i in range(ninds)]) \n",
    "    \n",
    "    #Binomial sampling throught the array where the probability of one outcome is 0.1 (p=0.1). This will return an array of binary integers  \n",
    "    muts = np.random.binomial(1, 0.1, (ninds, nsites)) \n",
    "    \n",
    "    for col in range(nsites): #nsite is 15 this case. for loop goes through column 1 to 15\n",
    "        newbase = mutate(arr[0, col])   # creating a random mutation in the coulmn 1(to 15 throught the interation). \n",
    "        mask = muts[:, col].astype(bool) #muts flips a coin to assign outcome in binary integers(e.g. 0 or 1) which will then be converted to a boolean type using the astype() call.\n",
    "        arr[:, col][mask] = newbase    # the arr[:,col] part pulls out a full column from the array. Then, the [mask] index pulls out some indices (defined above sell) from that column and stores in newbase\n",
    "    missing = np.random.binomial(1, 0.1, (ninds, nsites)) # generate random missing data by using binomial sampling with probability of 0.1\n",
    "    \n",
    "    #indicate missing data as \"N\"\n",
    "    arr[missing.astype(bool)] = \"N\"  \n",
    "    return arr"
   ]
  },
  {
   "cell_type": "code",
   "execution_count": 68,
   "metadata": {},
   "outputs": [
    {
     "name": "stdout",
     "output_type": "stream",
     "text": [
      "[['G' 'T' 'C' 'C' 'G' 'A' 'C' 'N' 'C' 'G' 'G' 'T' 'N' 'G' 'G']\n",
      " ['G' 'T' 'C' 'C' 'G' 'T' 'C' 'G' 'C' 'G' 'N' 'G' 'T' 'G' 'T']\n",
      " ['N' 'T' 'C' 'C' 'G' 'A' 'C' 'A' 'C' 'G' 'G' 'N' 'T' 'G' 'T']\n",
      " ['G' 'T' 'C' 'C' 'G' 'A' 'C' 'G' 'N' 'G' 'G' 'G' 'T' 'C' 'T']\n",
      " ['G' 'T' 'C' 'C' 'G' 'T' 'A' 'G' 'C' 'G' 'G' 'G' 'T' 'N' 'T']\n",
      " ['G' 'T' 'C' 'C' 'G' 'A' 'N' 'G' 'C' 'G' 'G' 'G' 'A' 'G' 'T']]\n"
     ]
    }
   ],
   "source": [
    "seqs = simulate(6, 15)\n",
    "print(seqs)"
   ]
  },
  {
   "cell_type": "markdown",
   "metadata": {},
   "source": [
    "#### Test code of the function simulate\n"
   ]
  },
  {
   "cell_type": "code",
   "execution_count": 66,
   "metadata": {},
   "outputs": [
    {
     "name": "stdout",
     "output_type": "stream",
     "text": [
      "['A' 'T' 'T' 'C' 'G' 'G' 'A' 'G' 'T' 'C' 'A' 'G' 'A' 'C' 'T']\n"
     ]
    }
   ],
   "source": [
    "def simulate(nsites):  #ninds is a number of rows and nsites is a number of columns\n",
    "    oseq = np.random.choice(list(\"ACGT\"), size=nsites)\n",
    "    \n",
    "    return oseq\n",
    "seqs = simulate(15)\n",
    "print(seqs)"
   ]
  },
  {
   "cell_type": "code",
   "execution_count": null,
   "metadata": {},
   "outputs": [],
   "source": [
    "def simulate(ninds, nsites):  #ninds is a number of rows and nsites is a number of columns\n",
    "    oseq = np.random.choice(list(\"ACGT\"), size=nsites)\n",
    "    arr = np.array([oseq for i in range(ninds)])\n",
    "    return arr\n",
    "seqs = simulate(6, 15)\n",
    "print(seqs)"
   ]
  },
  {
   "cell_type": "code",
   "execution_count": null,
   "metadata": {},
   "outputs": [],
   "source": [
    "def simulate(ninds, nsites):  #ninds is a number of rows and nsites is a number of columns\n",
    "    oseq = np.random.choice(list(\"ACGT\"), size=nsites)\n",
    "    arr = np.array([oseq for i in range(ninds)])\n",
    "    muts = np.random.binomial(1, 0.1, (ninds, nsites))\n",
    "    return muts\n",
    "seqs = simulate(6, 15)\n",
    "print(seqs)"
   ]
  },
  {
   "cell_type": "markdown",
   "metadata": {},
   "source": [
    "### **Q: Describe how the `filter_missing` function works:**\n",
    "Annotate the code by inserting lines with comments as you read through the function to make sense of it. How does it find columns with missing (N) values in them? How might you improve it?\n",
    "\n",
    "A. The `filter_missing` function removes sequences that have more than centain frequency of missing data. "
   ]
  },
  {
   "cell_type": "code",
   "execution_count": 69,
   "metadata": {},
   "outputs": [],
   "source": [
    "\n",
    "def filter_missing(arr, maxfreq):  #arr is the variable seq generated using the function, simulate.\n",
    "    \n",
    "    # freqmissing is obtained by deviding the numner of N within the row by length of columns (shape[0]).\n",
    "    freqmissing = np.sum(arr == \"N\", axis=0) / arr.shape[0]    \n",
    "    \n",
    "    #return rows with missing frequency less than 0.1 \n",
    "    return arr[:, freqmissing <= maxfreq]  "
   ]
  },
  {
   "cell_type": "code",
   "execution_count": 70,
   "metadata": {},
   "outputs": [
    {
     "data": {
      "text/plain": [
       "array([['T', 'C', 'C', 'G', 'A', 'G', 'G'],\n",
       "       ['T', 'C', 'C', 'G', 'T', 'G', 'T'],\n",
       "       ['T', 'C', 'C', 'G', 'A', 'G', 'T'],\n",
       "       ['T', 'C', 'C', 'G', 'A', 'G', 'T'],\n",
       "       ['T', 'C', 'C', 'G', 'T', 'G', 'T'],\n",
       "       ['T', 'C', 'C', 'G', 'A', 'G', 'T']], dtype='<U1')"
      ]
     },
     "execution_count": 70,
     "metadata": {},
     "output_type": "execute_result"
    }
   ],
   "source": [
    "filter_missing(seqs, 0.1)"
   ]
  },
  {
   "cell_type": "markdown",
   "metadata": {},
   "source": [
    "### **Q: Describe how the `filter_maf` function works:**\n",
    "Annotate the code by inserting lines with comments as you read through the function to make sense of it. How does it calculate minor allele frequencies? Why does it use copy?\n",
    "\n",
    "A. The `filter_maf` function removes sequences that has too little minor allele frequencies. It uses copy becasue we do not want to make changes in the original sequences. "
   ]
  },
  {
   "cell_type": "code",
   "execution_count": 71,
   "metadata": {},
   "outputs": [],
   "source": [
    "def filter_maf(arr, minfreq):\n",
    "    # The sum of variables in each column is divided by the length of columns (shape[0]) to obtein frequency and this view is stored in freqs. A number of variables is found by comparing the first row against the rest. \n",
    "    freqs = np.sum(arr != arr[0], axis=0) / arr.shape[0] \n",
    "    \n",
    "    # store a copy to avoid modifying the original array 'arr'\n",
    "    maf = freqs.copy()\n",
    "    \n",
    "    #subselect sites (columns) with major freq (>0.5) and modify to be 1-value (e.g 0.875 to 0.125)\n",
    "    maf[maf > 0.5] = 1 - maf[maf > 0.5]\n",
    "    \n",
    "    # print only columns of minor allele frequencies greater than the minimum frequency of 0.1 (sequeces with too little mutations are eliminated here)\n",
    "    return arr[:, maf > minfreq]  #print all row "
   ]
  },
  {
   "cell_type": "code",
   "execution_count": 72,
   "metadata": {},
   "outputs": [
    {
     "data": {
      "text/plain": [
       "array([['G', 'A', 'C', 'N', 'C', 'G', 'T', 'N', 'G', 'G'],\n",
       "       ['G', 'T', 'C', 'G', 'C', 'N', 'G', 'T', 'G', 'T'],\n",
       "       ['N', 'A', 'C', 'A', 'C', 'G', 'N', 'T', 'G', 'T'],\n",
       "       ['G', 'A', 'C', 'G', 'N', 'G', 'G', 'T', 'C', 'T'],\n",
       "       ['G', 'T', 'A', 'G', 'C', 'G', 'G', 'T', 'N', 'T'],\n",
       "       ['G', 'A', 'N', 'G', 'C', 'G', 'G', 'A', 'G', 'T']], dtype='<U1')"
      ]
     },
     "execution_count": 72,
     "metadata": {},
     "output_type": "execute_result"
    }
   ],
   "source": [
    "filter_maf(seqs, 0.1)"
   ]
  },
  {
   "cell_type": "markdown",
   "metadata": {},
   "source": [
    "### Q: What order should these functions be applied, does it matter?\n",
    "\n",
    "A. The order does not matter because presence of N won't affect the `filter_map` function."
   ]
  },
  {
   "cell_type": "code",
   "execution_count": 73,
   "metadata": {},
   "outputs": [
    {
     "data": {
      "text/plain": [
       "array([['A', 'G'],\n",
       "       ['T', 'T'],\n",
       "       ['A', 'T'],\n",
       "       ['A', 'T'],\n",
       "       ['T', 'T'],\n",
       "       ['A', 'T']], dtype='<U1')"
      ]
     },
     "execution_count": 73,
     "metadata": {},
     "output_type": "execute_result"
    }
   ],
   "source": [
    "filter_missing(filter_maf(seqs, 0.1), 0.1)"
   ]
  },
  {
   "cell_type": "code",
   "execution_count": 30,
   "metadata": {},
   "outputs": [
    {
     "data": {
      "text/plain": [
       "array([['T', 'C', 'T', 'C'],\n",
       "       ['T', 'C', 'T', 'C'],\n",
       "       ['T', 'C', 'T', 'G'],\n",
       "       ['T', 'T', 'T', 'G'],\n",
       "       ['G', 'C', 'T', 'G'],\n",
       "       ['T', 'C', 'C', 'G']], dtype='<U1')"
      ]
     },
     "execution_count": 30,
     "metadata": {},
     "output_type": "execute_result"
    }
   ],
   "source": [
    "filter_maf(filter_missing(seqs, 0.1), 0.1)"
   ]
  },
  {
   "cell_type": "markdown",
   "metadata": {},
   "source": [
    "### Q: Describe how `calculate_statistics()` works\n",
    "\n",
    "\n",
    "A. "
   ]
  },
  {
   "cell_type": "code",
   "execution_count": 74,
   "metadata": {},
   "outputs": [],
   "source": [
    "def calculcate_statistics(arr):\n",
    "    \n",
    "    # find mean nucleotide diversity: arr == arr[0] compares the first row against the rest of the rows. The similarity of each column is calculated and the similarity values from each column are used to compute the mean. \n",
    "    nd = np.var(arr == arr[0], axis=0).mean()\n",
    "    \n",
    "    # find mean minor allele frequency:  arr != arr[0] finds a number of differences between the first row against the rest of the rows. The number of differeces is calculated for each column and divided by the total length of each column. The sum of the frequencies of all columns is used to compute the mean.\n",
    "    mf = np.mean(np.sum(arr != arr[0], axis=0) / arr.shape[0])\n",
    "   \n",
    "    # find variant sites: create boolean mask for whether any sites in a column is different from the first row. Sum the number of columns with some variability \n",
    "    var = np.any(arr != arr[0], axis=0).sum()\n",
    "    \n",
    "    # find variable sites: substract the number of variant sites from the total number of columns (15)\n",
    "    inv = arr.shape[1] - var\n",
    "    \n",
    "    #Use Pandas to return all the values \n",
    "    return pd.Series(\n",
    "        {\"mean nucleotide diversity\": nd,\n",
    "         \"mean minor allele frequency\": mf,\n",
    "         \"invariant sites\": inv,\n",
    "         \"variable sites\": var,\n",
    "        })"
   ]
  },
  {
   "cell_type": "code",
   "execution_count": 75,
   "metadata": {},
   "outputs": [
    {
     "data": {
      "text/plain": [
       "invariant sites                 5.000000\n",
       "mean minor allele frequency     0.322222\n",
       "mean nucleotide diversity       0.109259\n",
       "variable sites                 10.000000\n",
       "dtype: float64"
      ]
     },
     "execution_count": 75,
     "metadata": {},
     "output_type": "execute_result"
    }
   ],
   "source": [
    "calculcate_statistics(seqs)"
   ]
  },
  {
   "cell_type": "markdown",
   "metadata": {},
   "source": [
    "### Instructions: Write a `seqlib` Class object\n",
    "\n",
    "I started writing the bare bones of it below. You should write it so that it can be executed as described below to perform all of the functions we defined above, and so that its attributes can be accessed. Save this class object in a `.py` file and make it into an importable package called `seqlib`. You can write and test your object in this notebook if you like, but it must be saved separately in a `.py` file and be imported. You cannot execute the code at the end using your object defined here in the notebook. When finished save your package to GitHub as a repo just like we did with the `helloworld` package. You do not need to write a CLI script like we did for the `helloworld` package, we will only be using the Python API here. See the examples below for **how you should write your Class object**. It should be able to run in the way written below, so look at that code and think about how you would write a Class object that can do that. \n",
    "\n",
    "While you can mostly copy the functions from above, you will need to modify them slightly to access information about the Class object using *self*. For example, the `simulate()` function below takes self as a first argument and can access `self.inds` and `self.nsites` from that, so we do not need to provide those as arguments to the `simulate` function like we did above. "
   ]
  },
  {
   "cell_type": "code",
   "execution_count": 91,
   "metadata": {},
   "outputs": [],
   "source": [
    "#!/usr/bin/env python\n",
    "\n",
    "\"\"\"\n",
    "Seqlib class project for 6-scientific-python\n",
    "\"\"\"\n",
    "\n",
    "import numpy as np\n",
    "import pandas as pd\n",
    "    \n",
    "class Seqlib:\n",
    "\n",
    "    def __init__(self, ninds, nsites, maxfreq, minfreq):\n",
    "        self.ninds = ninds\n",
    "        self.nsites = nsites\n",
    "        self.seqs = self.simulate()\n",
    "        self.filter = self.filter_missing(), self.filter_maf()\n",
    "    \n",
    "    def simulate(self):  #ninds is a number of rows and nsites is a number of columns\n",
    "        pass \n",
    "        \"\"\"\n",
    "        The function simulate generate variable sequence data by creating mutations and sites with missing data. \n",
    "        \"\"\"\n",
    "        \n",
    "        #choose a random letter from the list \"ACGT\" for a number of times indicated in nsites\n",
    "        oseq = np.random.choice(list(\"ACGT\"), size=self.nsites) \n",
    "    \n",
    "        #construct an array by creating rows of oseq\n",
    "        arr = np.array([oseq for i in range(self.ninds)]) \n",
    "    \n",
    "        #Binomial sampling through the array where the probability of one outcome is 0.1 (p=0.1). \n",
    "        #This will return an array of binary integers  \n",
    "        muts = np.random.binomial(1, 0.1, (self.ninds, self.nsites)) \n",
    "    \n",
    "        for col in range(self.nsites):      \n",
    "            newbase = mutate(arr[0, col])    # creating a random mutation in the coulmns through the interation. \n",
    "            mask = muts[:, col].astype(bool) # muts flips a coin to assign outcome in binary integers(e.g. 0 or 1) which will \n",
    "                                                # then be converted to a boolean type using the astype() call.\n",
    "            arr[:, col][mask] = newbase      # the arr[:,col] part pulls out a full column from the array. Then, the [mask] index pulls \n",
    "                                                # out some indices (defined above sell) from that column and stores in newbase\n",
    "    \n",
    "        # generate random missing data by using binomial sampling with probability of 0.1\n",
    "        missing = np.random.binomial(1, 0.1, (self.ninds, self.nsites)) \n",
    "        #indicate missing data as \"N\"\n",
    "        arr[missing.astype(bool)] = \"N\"  \n",
    "        return arr\n",
    "        \n",
    "    def filter_missing(self):  #arr is the variable seq generated using the function, simulate.\n",
    "        \n",
    "        \"\"\"\n",
    "        The filter_missing function removes sequences that have more than centain frequency of missing data.\n",
    "        \"\"\"  \n",
    "        # freqmissing is obtained by deviding the numner of N within the row by length of columns (shape[0]).\n",
    "        freqmissing = np.sum(self.arr == \"N\", axis=0) / self.arr.shape[0]    \n",
    "    \n",
    "        #return rows with missing frequency less than maxfreq \n",
    "        return self.arr[:, freqmissing <= maxfreq]  \n",
    "    \n",
    "    def filter_maf(self):\n",
    "    \n",
    "        \"\"\"\n",
    "        The filter_maf function removes sequences that has too little minor allele frequencies. It uses copy becasue we do not want \n",
    "        to make changes in the original sequences.\n",
    "        \"\"\"  \n",
    "    \n",
    "        # The sum of variables in each column is divided by the length of columns (shape[0]) to obtein frequency and this view \n",
    "        # is stored in freqs. A number of variables is found by comparing the first row against the rest. \n",
    "        freqs = np.sum(self.arr != self.arr[0], axis=0) / self.arr.shape[0] \n",
    "    \n",
    "        # store a copy to avoid modifying the original array 'arr'\n",
    "        maf = freqs.copy()\n",
    "    \n",
    "        # subselect sites (columns) with major freq (>0.5) and modify to be 1-value (e.g 0.875 to 0.125)\n",
    "        maf[maf > 0.5] = 1 - maf[maf > 0.5]\n",
    "    \n",
    "        # print only columns of minor allele frequencies greater than the minimum frequency (sequeces with too little mutations are eliminated here)\n",
    "        return self.arr[:, maf > minfreq]  #print all row \n",
    "  \n",
    "    \n",
    "    def calculcate_statistics(self):\n",
    "        \"\"\"\n",
    "        A. The calculcate_statistics function computes mean nucleotide diversity, mean minor allele frequency, variant sites, \n",
    "        variable sites\n",
    "        \"\"\"     \n",
    "        # find mean nucleotide diversity: arr == arr[0] compares the first row against the rest of the rows. The similarity of \n",
    "        # each column is calculated and the similarity values from each column are used to compute the mean. \n",
    "        nd = np.var(self.arr == self.arr[0], axis=0).mean()\n",
    "    \n",
    "        # find mean minor allele frequency:  arr != arr[0] finds a number of differences between the first row against the rest\n",
    "        # of the rows. The number of differeces is calculated for each column and divided by the total length of each column. \n",
    "        # The sum of the frequencies of all columns is used to compute the mean.\n",
    "        mf = np.mean(np.sum(self.arr != self.arr[0], axis=0) / self.arr.shape[0])\n",
    "   \n",
    "        # find variant sites: create boolean mask for whether any sites in a column is different from the first row. Sum the \n",
    "        # number of columns with some variability \n",
    "        var = np.any(self.arr != self.arr[0], axis=0).sum()\n",
    "    \n",
    "        # find variable sites: substract the number of variant sites from the total number of columns\n",
    "        inv = self.arr.shape[1] - var\n",
    "    \n",
    "        #Use Pandas to return all the values \n",
    "        return pd.Series(\n",
    "            {\"mean nucleotide diversity\": nd,\n",
    "             \"mean minor allele frequency\": mf,\n",
    "             \"invariant sites\": inv,\n",
    "             \"variable sites\": var,\n",
    "            })\n",
    "    "
   ]
  },
  {
   "cell_type": "code",
   "execution_count": null,
   "metadata": {},
   "outputs": [],
   "source": [
    "### my updated version\n",
    "#!/usr/bin/env python\n",
    "\n",
    "\"\"\"\n",
    "Seqlib class project for 6-scientific-python\n",
    "\"\"\"\n",
    "\n",
    "import numpy as np\n",
    "import pandas as pd\n",
    "    \n",
    "class Seqlib:\n",
    "\n",
    "    def __init__(self, ninds, nsites, arr, maxfreq, minfreq):\n",
    "        self.ninds = ninds\n",
    "        self.nsites = nsites\n",
    "        self.seqs = self.simulate()\n",
    "        self.seqlib = __init__()\n",
    "        self.arr = arr\n",
    "        self.maf = maf\n",
    "        self.filter = self.filter_missing(), self.filter_maf()\n",
    "    \n",
    "    def simulate(self):  #ninds is a number of rows and nsites is a number of columns \n",
    "        \"\"\"\n",
    "        The function simulate generate variable sequence data by creating mutations and \n",
    "        sites with missing data. \n",
    "        The parameters used (ninds = 6, nsites = 15) construct six 15-base long nuclotide\n",
    "        sequence.\n",
    "        \"\"\"\n",
    "        \n",
    "        #choose a random letter from the list \"ACGT\" for 15 times \n",
    "        oseq = np.random.choice(list(\"ACGT\"), size=self.nsites) \n",
    "    \n",
    "        #construct an array by creating 6 rows of oseq\n",
    "        arr = np.array([oseq for i in range(self.ninds)]) \n",
    "    \n",
    "        #Binomial sampling throught the array where the probability of one outcome is 0.1 (p=0.1). \n",
    "        # This will return an array of binary integers  \n",
    "        muts = np.random.binomial(1, 0.1, (self.ninds, self.nsites)) \n",
    "    \n",
    "        for col in range(self.nsites): #nsite is 15 this case. for loop goes through column 1 to 15\n",
    "            newbase = mutate(arr[0, col])   # creating a random mutation in the coulmn 1(to 15 throught the interation). \n",
    "            mask = muts[:, col].astype(bool) #muts flips a coin to assign outcome in binary integers(e.g. 0 or 1) which will \n",
    "                                            #then be converted to a boolean type using the astype() call.\n",
    "            arr[:, col][mask] = newbase    # the arr[:,col] part pulls out a full column from the array. Then, the [mask] index pulls \n",
    "                                            #out some indices (defined above sell) from that column and stores in newbase\n",
    "    \n",
    "        # generate random missing data by using binomial sampling with probability of 0.1\n",
    "        missing = np.random.binomial(1, 0.1, (self.ninds, self.nsites)) \n",
    "        #indicate missing data as \"N\"\n",
    "        arr[missing.astype(bool)] = \"N\"  \n",
    "        return arr\n",
    "        \n",
    "    def filter_missing(self):  #arr is the variable seq generated using the function, simulate.\n",
    "        \n",
    "        \"\"\"\n",
    "        The filter_missing function removes sequences that have more than centain frequency of missing data.\n",
    "        \"\"\"  \n",
    "        # freqmissing is obtained by deviding the numner of N within the row by length of columns (shape[0]).\n",
    "        freqmissing = np.sum(self.arr == \"N\", axis=0) / self.arr.shape[0]    \n",
    "    \n",
    "        #return rows with missing frequency less than 0.1 \n",
    "        return self.arr[:, freqmissing <= maxfreq]  \n",
    "    \n",
    "    def filter_maf(self):\n",
    "    \n",
    "        \"\"\"\n",
    "        The filter_maf function removes sequences that has too little minor allele frequencies. It uses copy becasue we do not want \n",
    "        to make changes in the original sequences.\n",
    "        \"\"\"  \n",
    "    \n",
    "        # The sum of variables in each column is divided by the length of columns (shape[0]) to obtein frequency and this view \n",
    "        # is stored in freqs. A number of variables is found by comparing the first row against the rest. \n",
    "        freqs = np.sum(self.arr != self.arr[0], axis=0) / self.arr.shape[0] \n",
    "    \n",
    "        # store a copy to avoid modifying the original array 'arr'\n",
    "        maf = freqs.copy()\n",
    "    \n",
    "        #subselect sites (columns) with major freq (>0.5) and modify to be 1-value (e.g 0.875 to 0.125)\n",
    "        maf[maf > 0.5] = 1 - maf[maf > 0.5]\n",
    "    \n",
    "        # print only columns of minor allele frequencies greater than the minimum frequency of 0.1 (sequeces with too little mutations are eliminated here)\n",
    "        return self.arr[:, maf > minfreq]  #print all row \n",
    "  \n",
    "    \n",
    "    def calculcate_statistics(self):\n",
    "        \"\"\"\n",
    "        A. The calculcate_statistics function computes mean nucleotide diversity, mean minor allele frequency, variant sites, \n",
    "        variable sites\n",
    "        \"\"\"     \n",
    "        # find mean nucleotide diversity: arr == arr[0] compares the first row against the rest of the rows. The similarity of \n",
    "        # each column is calculated and the similarity values from each column are used to compute the mean. \n",
    "        nd = np.var(self.arr == self.arr[0], axis=0).mean()\n",
    "    \n",
    "        # find mean minor allele frequency:  arr != arr[0] finds a number of differences between the first row against the rest\n",
    "        # of the rows. The number of differeces is calculated for each column and divided by the total length of each column. \n",
    "        # The sum of the frequencies of all columns is used to compute the mean.\n",
    "        mf = np.mean(np.sum(self.arr != self.arr[0], axis=0) / self.arr.shape[0])\n",
    "   \n",
    "        # find variant sites: create boolean mask for whether any sites in a column is different from the first row. Sum the \n",
    "        # number of columns with some variability \n",
    "        var = np.any(self.arr != self.arr[0], axis=0).sum()\n",
    "    \n",
    "        # find variable sites: substract the number of variant sites from the total number of columns (15)\n",
    "        inv = self.arr.shape[1] - var\n",
    "    \n",
    "        #Use Pandas to return all the values \n",
    "        return pd.Series(\n",
    "            {\"mean nucleotide diversity\": nd,\n",
    "             \"mean minor allele frequency\": mf,\n",
    "             \"invariant sites\": inv,\n",
    "             \"variable sites\": var,\n",
    "            })\n",
    "    "
   ]
  },
  {
   "cell_type": "code",
   "execution_count": null,
   "metadata": {},
   "outputs": [],
   "source": []
  },
  {
   "cell_type": "markdown",
   "metadata": {},
   "source": [
    "## Deren's correct version"
   ]
  },
  {
   "cell_type": "code",
   "execution_count": 7,
   "metadata": {},
   "outputs": [],
   "source": [
    "#!/usr/bin/env python\n",
    "\n",
    "\"\"\"\n",
    "seqlib library for class assignment\n",
    "\"\"\"\n",
    "\n",
    "import copy\n",
    "import numpy as np\n",
    "import pandas as pd\n",
    "\n",
    "\n",
    "class Seqlib:\n",
    "    \"\"\"\n",
    "    A seqlib object for class.\n",
    "    \"\"\"\n",
    "    def __init__(self, ninds, nsites):\n",
    "\n",
    "        ## generate the full sequence array\n",
    "        self.ninds = ninds\n",
    "        self.nsites = nsites\n",
    "        self.seqs = self._simulate()\n",
    "\n",
    "        ## store maf of the full seq array\n",
    "        self.maf = self._get_maf()\n",
    "\n",
    "\n",
    "    ## private functions used only during init -----\n",
    "    def _mutate(self, base):\n",
    "        \"converts a base to another base\"\n",
    "        diff = set(\"ACTG\") - set(base)\n",
    "        return np.random.choice(list(diff))\n",
    "\n",
    "\n",
    "    def _simulate(self):\n",
    "        \"returns a random array of DNA bases with mutations\"\n",
    "        oseq = np.random.choice(list(\"ACGT\"), size=self.nsites)\n",
    "        arr = np.array([oseq for i in range(self.ninds)])\n",
    "        muts = np.random.binomial(1, 0.1, (self.ninds, self.nsites))\n",
    "        for col in range(self.nsites):\n",
    "            newbase = self._mutate(arr[0, col])\n",
    "            mask = muts[:, col].astype(bool)\n",
    "            arr[:, col][mask] = newbase\n",
    "        missing = np.random.binomial(1, 0.1, (self.ninds, self.nsites))\n",
    "        arr[missing.astype(bool)] = \"N\"\n",
    "        return arr\n",
    "\n",
    "\n",
    "    def _get_maf(self):\n",
    "        \"returns the maf of the full seqarray while not counting Ns\"\n",
    "        ## init an array to fill and iterate over columns\n",
    "        maf = np.zeros(self.nsites)\n",
    "        for col in range(self.nsites):\n",
    "            ## select this column of bases\n",
    "            thiscol = self.seqs[:, col]\n",
    "\n",
    "            ## mask \"N\" bases and get new length\n",
    "            nmask = thiscol != \"N\"\n",
    "            no_n_len = np.sum(nmask)\n",
    "\n",
    "            ## mask \"N\" bases and get the first base\n",
    "            first_non_n_base = thiscol[nmask][0]\n",
    "\n",
    "            ## calculate maf of \"N\" masked bases\n",
    "            freq = np.sum(thiscol[nmask] != first_non_n_base) / no_n_len\n",
    "            if freq > 0.5:\n",
    "                maf[col] = 1 - freq\n",
    "            else:\n",
    "                maf[col] = freq\n",
    "        return maf\n",
    "\n",
    "        \n",
    "    ## private functions that are called within other functions\n",
    "    def _filter_missing(self, maxmissing):\n",
    "        \"returns a boolean filter True for columns with Ns > maxmissing\"\n",
    "        freqmissing = np.sum(self.seqs == \"N\", axis=0) / self.seqs.shape[0]\n",
    "        return freqmissing > maxmissing\n",
    "\n",
    "\n",
    "    def _filter_maf(self, minmaf):\n",
    "        \"returns a boolean filter True for columns with maf < minmaf\"\n",
    "        return self.maf < minmaf\n",
    "\n",
    "\n",
    "    ## public functions -----\n",
    "    def filter(self, minmaf, maxmissing):\n",
    "        \"\"\"\n",
    "        Applies maf and missing filters to the array \n",
    "        Parameters\n",
    "        ----------\n",
    "        minmaf: float\n",
    "            The minimum minor allele frequency. Filter columns below this.\n",
    "        maxmissing: float\n",
    "            The maximum prop. missing data. Filter columns with prop Ns > this.\n",
    "        \"\"\"\n",
    "        filter1 = self._filter_maf(minmaf)\n",
    "        filter2 = self._filter_missing(maxmissing)\n",
    "        fullfilter = filter1 + filter2\n",
    "        return self.seqs[:, np.invert(fullfilter)]\n",
    "\n",
    "\n",
    "    def filter_seqlib(self, minmaf, maxmissing):\n",
    "        \"\"\"\n",
    "        Applies maf and missing filters to the array and returns a copy \n",
    "        of the seqlib object where the .seqs array has been filtered\n",
    "        Parameters\n",
    "        ----------\n",
    "        minmaf: float\n",
    "            The minimum minor allele frequency. Filter columns below this.\n",
    "        maxmissing: float\n",
    "            The maximum prop. missing data. Filter columns with prop Ns > this.\n",
    "        \"\"\"\n",
    "        ## apply filters to get new array size\n",
    "        newseqs = self.filter(minmaf, maxmissing)\n",
    "\n",
    "        ## make a new copy of the seqlib object\n",
    "        newself = copy.deepcopy(self)       \n",
    "        newself.__init__(newseqs.shape[0], newseqs.shape[1]) \n",
    "\n",
    "        ## store the array (overwrite it)\n",
    "        newself.seqs = newseqs\n",
    "\n",
    "        ## call the _get_maf to match new array\n",
    "        newself._get_maf()\n",
    "        return newself\n",
    "\n",
    "\n",
    "    def calculate_statistics(self):\n",
    "        \"\"\" \n",
    "        Returns a dataframe of statistics on the seqs array. The earlier \n",
    "        example from the notebook had a bug where var and inv were switched.\n",
    "        \"\"\"\n",
    "        if self.seqs.size:\n",
    "            nd = np.var(self.seqs == self.seqs[0], axis=0).mean()\n",
    "            mf = np.mean(\n",
    "                np.sum(self.seqs != self.seqs[0], axis=0) / self.seqs.shape[0])\n",
    "            inv = np.all(self.seqs == self.seqs[0], axis=0).sum()\n",
    "            var = self.seqs.shape[1] - inv\n",
    "            return pd.Series(\n",
    "                {\"mean nucleotide diversity\": nd,\n",
    "                 \"mean minor allele frequency\": mf,\n",
    "                 \"invariant sites\": inv,\n",
    "                 \"variable sites\": var,\n",
    "                })\n",
    "        else:\n",
    "            print(\"seqs array is empty\")\n"
   ]
  },
  {
   "cell_type": "markdown",
   "metadata": {},
   "source": [
    "## Test your package\n",
    "The package should be globally importable (you ran `pip install .` or `pip install -e .` to install it), and it should be able to execute the following code without error. \n",
    "\n",
    "YOU NEED TO CD INTO THE SEQLIB DIRECTLY (not the seqlib dir with the the seq dir) TO pip install -e ."
   ]
  },
  {
   "cell_type": "code",
   "execution_count": null,
   "metadata": {},
   "outputs": [],
   "source": [
    "## import the seqlib library\n",
    "import seqlib\n",
    "\n",
    "## generate a seqlib class object with a sequence array of shape (n, m) \n",
    "s = seqlib.Seqlib(10, 100)\n",
    "\n",
    "## return sequence array\n",
    "print(s.seqs)\n",
    "\n",
    "## return maf of sequence array\n",
    "print(s.maf)\n",
    "\n",
    "## return a filtered view of the seqarray filter based on maf\n",
    "## and missing (N) sites\n",
    "print(s.filter(minmaf=0.1, maxmissing=0.0)\n",
    "\n",
    "## return a new copy of seqlib object with modified seqarray \n",
    "n = s.filter_seqlib(minmaf=0.1, maxmissing=0.0)\n",
    "\n",
    "## view stats on the full seqarray\n",
    "s.calculate_stats()\n",
    "\n",
    "## view stats on the modified seqarray\n",
    "n.calculate_stats()\n",
    "\n",
    "## or do the same in one shot\n",
    "s.filter_seqlib(minmaf=0.1, maxmissing=0.0).calculate_stats()\n"
   ]
  },
  {
   "cell_type": "code",
   "execution_count": 34,
   "metadata": {},
   "outputs": [
    {
     "ename": "TypeError",
     "evalue": "__init__() missing 3 required positional arguments: 'arr', 'maxfreq', and 'minfreq'",
     "output_type": "error",
     "traceback": [
      "\u001b[0;31m---------------------------------------------------------------------------\u001b[0m",
      "\u001b[0;31mTypeError\u001b[0m                                 Traceback (most recent call last)",
      "\u001b[0;32m<ipython-input-34-36681df8858c>\u001b[0m in \u001b[0;36m<module>\u001b[0;34m()\u001b[0m\n\u001b[1;32m      1\u001b[0m \u001b[0;32mimport\u001b[0m \u001b[0mseqlib\u001b[0m\u001b[0;34m\u001b[0m\u001b[0m\n\u001b[0;32m----> 2\u001b[0;31m \u001b[0ms\u001b[0m \u001b[0;34m=\u001b[0m \u001b[0mseqlib\u001b[0m\u001b[0;34m.\u001b[0m\u001b[0mSeqlib\u001b[0m\u001b[0;34m(\u001b[0m\u001b[0;36m10\u001b[0m\u001b[0;34m,\u001b[0m \u001b[0;36m100\u001b[0m\u001b[0;34m)\u001b[0m\u001b[0;34m\u001b[0m\u001b[0m\n\u001b[0m",
      "\u001b[0;31mTypeError\u001b[0m: __init__() missing 3 required positional arguments: 'arr', 'maxfreq', and 'minfreq'"
     ]
    }
   ],
   "source": [
    "import seqlib\n",
    "s = seqlib.Seqlib(10, 100)"
   ]
  },
  {
   "cell_type": "code",
   "execution_count": 30,
   "metadata": {},
   "outputs": [
    {
     "ename": "SyntaxError",
     "evalue": "unexpected EOF while parsing (<ipython-input-30-4e6157800aca>, line 15)",
     "output_type": "error",
     "traceback": [
      "\u001b[0;36m  File \u001b[0;32m\"<ipython-input-30-4e6157800aca>\"\u001b[0;36m, line \u001b[0;32m15\u001b[0m\n\u001b[0;31m    print(s.filter(minmaf=0.1, maxmissing=0.0)\u001b[0m\n\u001b[0m                                              ^\u001b[0m\n\u001b[0;31mSyntaxError\u001b[0m\u001b[0;31m:\u001b[0m unexpected EOF while parsing\n"
     ]
    }
   ],
   "source": [
    "## import the seqlib library\n",
    "import seqlib\n",
    "\n",
    "## generate a seqlib class object with a sequence array of shape (n, m) \n",
    "s = seqlib.Seqlib(10, 100)\n",
    "\n",
    "## return sequence array\n",
    "print(s.seqs)\n",
    "\n",
    "## return maf of sequence array\n",
    "print(s.maf)\n",
    "\n",
    "## return a filtered view of the seqarray filter based on maf\n",
    "## and missing (N) sites\n",
    "print(s.filter(minmaf=0.1, maxmissing=0.0)"
   ]
  },
  {
   "cell_type": "code",
   "execution_count": 22,
   "metadata": {},
   "outputs": [],
   "source": [
    "import seqlib"
   ]
  },
  {
   "cell_type": "code",
   "execution_count": null,
   "metadata": {},
   "outputs": [],
   "source": [
    "# init a Seqlib Class object\n",
    "seqs = seqlib.Seqlib(ninds=10, nsites=50)"
   ]
  },
  {
   "cell_type": "code",
   "execution_count": null,
   "metadata": {},
   "outputs": [],
   "source": [
    "# access attributes from the object\n",
    "print(seqs.ninds, seqs.nsites)"
   ]
  },
  {
   "cell_type": "code",
   "execution_count": null,
   "metadata": {},
   "outputs": [],
   "source": [
    "# returns the MAF of the array as an array of floats\n",
    "seqs.maf"
   ]
  },
  {
   "cell_type": "code",
   "execution_count": null,
   "metadata": {},
   "outputs": [],
   "source": [
    "# return a view of the filtered sequence array by applying a new function \n",
    "# called `filter()` that applies both the maf and missing filter functions\n",
    "seqs.filter(minmaf=0.1, maxmissing=0.0)"
   ]
  },
  {
   "cell_type": "code",
   "execution_count": null,
   "metadata": {},
   "outputs": [],
   "source": [
    "# calculate statistics for an array with the results returned as a DataFrame\n",
    "seqs.calculate_statistics()"
   ]
  },
  {
   "cell_type": "code",
   "execution_count": null,
   "metadata": {},
   "outputs": [],
   "source": [
    "# calculate statistics for an array after filtering it\n",
    "seqs.filter(minmaf=0.1, maxmissing=0.0).calculate_statistics()"
   ]
  }
 ],
 "metadata": {
  "kernelspec": {
   "display_name": "Python 3",
   "language": "python",
   "name": "python3"
  },
  "language_info": {
   "codemirror_mode": {
    "name": "ipython",
    "version": 3
   },
   "file_extension": ".py",
   "mimetype": "text/x-python",
   "name": "python",
   "nbconvert_exporter": "python",
   "pygments_lexer": "ipython3",
   "version": "3.6.4"
  }
 },
 "nbformat": 4,
 "nbformat_minor": 2
}
