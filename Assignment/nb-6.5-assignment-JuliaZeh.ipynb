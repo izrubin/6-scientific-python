{
 "cells": [
  {
   "cell_type": "markdown",
   "metadata": {},
   "source": [
    "# Assignment\n",
    "\n",
    "-------------\n",
    "\n",
    "**1) Complete this notebook and make a pull request:** \n",
    "\n",
    "Answer questions (Q) in the space provided (A) in this notebook. When finished, copy your notebook to the `Assignment/` directory and name it `nb-6.5-<Github-username>.ipynb`. Then make a pull request to the upstream repo. The entered answers in this notebook will be simply Markdown text where I want you to interpret and describe a block of code to better understand what it is doing. Much of this code you will have seen already. \n",
    "\n",
    "\n",
    "**2) Write an importable Python package, save as a repo, and test it here.**\n",
    "\n",
    "The package should be written as we did in our last lession (`.py` files in a directory with a setup.py file so it can be installed with `pip`). Follow instructions at the end of this notebook for how to write your package. Test it here by importing the package and executing the code at the end. It should work and give correct answers, if not, continue working on it. When you have it completed save your package as a new Github repo named `seqlib`."
   ]
  },
  {
   "cell_type": "markdown",
   "metadata": {},
   "source": [
    "### The `seqlib` package\n",
    "\n",
    "Together we are going to write several functions here that will make up your new package called `seqlib`. It will be your job to copy these functions, organize them into a Class, save the code into a `.py` file (you can use SublimeText if you're comfortable with it for much of this, or any text editor including the one in jupyter), package the files so they can be imported as a library, and test the package so that it accomplishes the tasks which are defined at the end of this notebook. First things first, though, let's write the functions. "
   ]
  },
  {
   "cell_type": "code",
   "execution_count": 1,
   "metadata": {},
   "outputs": [],
   "source": [
    "import numpy as np\n",
    "import pandas as pd"
   ]
  },
  {
   "cell_type": "markdown",
   "metadata": {},
   "source": [
    "### Q.  Describe what the `mutate()` function below does:\n",
    "\n",
    "\n",
    "A. The `mutate()` function returns a random base (A, T, C, or G) which is not the same as the base inputted to the function."
   ]
  },
  {
   "cell_type": "code",
   "execution_count": 2,
   "metadata": {},
   "outputs": [],
   "source": [
    "def mutate(base):\n",
    "    diff = set(\"ACTG\") - set(base)\n",
    "    return np.random.choice(list(diff))"
   ]
  },
  {
   "cell_type": "code",
   "execution_count": 3,
   "metadata": {},
   "outputs": [
    {
     "data": {
      "text/plain": [
       "'C'"
      ]
     },
     "execution_count": 3,
     "metadata": {},
     "output_type": "execute_result"
    }
   ],
   "source": [
    "# test it\n",
    "mutate(\"A\")"
   ]
  },
  {
   "cell_type": "markdown",
   "metadata": {},
   "source": [
    "### Q. Describe how the `seqdata()` function below works:\n",
    "Annotate the code by inserting lines with comments as you read through the function to make sense of it. What is being created at each step and how is it used?\n",
    "\n",
    "\n",
    "A. The function `simulate()` returns an array with dimensions ninds x nsites which consists of random bases, random mutations to some of the bases, and random missing bases denoted \"N\""
   ]
  },
  {
   "cell_type": "code",
   "execution_count": 4,
   "metadata": {},
   "outputs": [],
   "source": [
    "def simulate(ninds, nsites):\n",
    "    # create a random list of bases at the specified length\n",
    "    oseq = np.random.choice(list(\"ACGT\"), size=nsites)\n",
    "    # create a multidimentional array using this random list and copy the list for the specified number of individuals\n",
    "    arr = np.array([oseq for i in range(ninds)])\n",
    "    # create an array of random probabilities with dimensions of ninds x nsites using the parameters of 1 trial and 0.1 probability of success\n",
    "    muts = np.random.binomial(1, 0.1, (ninds, nsites))\n",
    "    # grab one column from the array, grab just the bases that we want to mutate, and then change the base using the mutate() function from before\n",
    "    # iterate over all the columns (specified by nsites)\n",
    "    for col in range(nsites):\n",
    "        newbase = mutate(arr[0, col])\n",
    "        mask = muts[:, col].astype(bool)\n",
    "        arr[:, col][mask] = newbase\n",
    "    # create an array of of random probabilities with dimensions ninds x nsites using the parameters of 1 trial and 0.1 probability of success\n",
    "    missing = np.random.binomial(1, 0.1, (ninds, nsites))\n",
    "    # replace all sites randomly marked true in the previous array, replace the base with \"N\"\n",
    "    arr[missing.astype(bool)] = \"N\"\n",
    "    # return the final array with mutations and missing bases\n",
    "    return arr"
   ]
  },
  {
   "cell_type": "code",
   "execution_count": 5,
   "metadata": {},
   "outputs": [
    {
     "name": "stdout",
     "output_type": "stream",
     "text": [
      "[['C' 'C' 'C' 'T' 'G' 'G' 'T' 'A' 'T' 'N' 'A' 'C' 'T' 'T' 'C']\n",
      " ['N' 'C' 'C' 'T' 'N' 'G' 'T' 'A' 'T' 'C' 'G' 'T' 'T' 'C' 'G']\n",
      " ['C' 'C' 'C' 'T' 'T' 'G' 'T' 'A' 'T' 'C' 'A' 'T' 'T' 'T' 'C']\n",
      " ['G' 'C' 'C' 'T' 'T' 'G' 'T' 'A' 'T' 'C' 'A' 'C' 'T' 'T' 'C']\n",
      " ['C' 'C' 'C' 'T' 'T' 'G' 'T' 'N' 'A' 'C' 'A' 'T' 'T' 'T' 'C']\n",
      " ['C' 'C' 'C' 'T' 'T' 'G' 'N' 'A' 'A' 'C' 'A' 'T' 'T' 'C' 'G']]\n"
     ]
    }
   ],
   "source": [
    "seqs = simulate(6, 15)\n",
    "print(seqs)"
   ]
  },
  {
   "cell_type": "markdown",
   "metadata": {},
   "source": [
    "### **Q: Describe how the `filter_missing` function works:**\n",
    "Annotate the code by inserting lines with comments as you read through the function to make sense of it. How does it find columns with missing (N) values in them? How might you mprove it?\n",
    "\n",
    "A. The `filter_missing()` function finds missing values using a boolean, calculates a frequency of missing values across each individual in the array and only those sites from the array which have a missing frequency less than or equal to the max frequency. "
   ]
  },
  {
   "cell_type": "code",
   "execution_count": 8,
   "metadata": {},
   "outputs": [],
   "source": [
    "def filter_missing(arr, maxfreq):\n",
    "    # find missing (N) values with a boolean across each row\n",
    "    # calculate the frequency of missing values by summing the number of missing values across each row and dividing by the total number of values in each row\n",
    "    freqmissing = np.sum(arr == \"N\", axis=0) / arr.shape[0]\n",
    "    # return only those columns from the array which have a missing frequency less than or equal to the max frequency\n",
    "    return arr[:, freqmissing <= maxfreq]"
   ]
  },
  {
   "cell_type": "code",
   "execution_count": 9,
   "metadata": {},
   "outputs": [
    {
     "data": {
      "text/plain": [
       "array([['C', 'C', 'T', 'G', 'T', 'A', 'C', 'T', 'T', 'C'],\n",
       "       ['C', 'C', 'T', 'G', 'T', 'G', 'T', 'T', 'C', 'G'],\n",
       "       ['C', 'C', 'T', 'G', 'T', 'A', 'T', 'T', 'T', 'C'],\n",
       "       ['C', 'C', 'T', 'G', 'T', 'A', 'C', 'T', 'T', 'C'],\n",
       "       ['C', 'C', 'T', 'G', 'A', 'A', 'T', 'T', 'T', 'C'],\n",
       "       ['C', 'C', 'T', 'G', 'A', 'A', 'T', 'T', 'C', 'G']], dtype='<U1')"
      ]
     },
     "execution_count": 9,
     "metadata": {},
     "output_type": "execute_result"
    }
   ],
   "source": [
    "filter_missing(seqs, 0.1)"
   ]
  },
  {
   "cell_type": "markdown",
   "metadata": {},
   "source": [
    "### **Q: Describe how the `filter_maf` function works:**\n",
    "Annotate the code by inserting lines with comments as you read through the function to make sense of it. How does it calculate minor allele frequencies? Why does it use copy?\n",
    "\n",
    "A. The function `filter_maf()` finds the minor allele frequency by finding variable sites and then calculating the frequency of variation. The function ensures that all maf values are less than 0.5 and returns the array with just those columns which have an maf greater than minfreq. The funciton uses copy so as not to modify the original array `arr`. This way it is able to have both the original array to use in `return` and the array from which to modify maf values greater than 0.5."
   ]
  },
  {
   "cell_type": "code",
   "execution_count": 13,
   "metadata": {},
   "outputs": [],
   "source": [
    "def filter_maf(arr, minfreq):\n",
    "    # compare the values to each other within a column to find which sites are variable\n",
    "    # sum the number of variable sites across each column (given value of 1 because of the boolean)\n",
    "    # divide the number of variable sites per column by the total length of the column\n",
    "    freqs = np.sum(arr != arr[0], axis=0) / arr.shape[0]\n",
    "    # define maf as the minor allele frequency and make a copy to preserve the original\n",
    "    maf = freqs.copy()\n",
    "    # index maf to replace all values greater than 0.5 with 1-value\n",
    "    maf[maf > 0.5] = 1 - maf[maf > 0.5]\n",
    "    # return the original array with just those columns for which the maf is greater than the inputted minfreq\n",
    "    return arr[:, maf > minfreq]"
   ]
  },
  {
   "cell_type": "code",
   "execution_count": 17,
   "metadata": {},
   "outputs": [
    {
     "data": {
      "text/plain": [
       "array([['C', 'G', 'T', 'A', 'T', 'N', 'A', 'C', 'T', 'C'],\n",
       "       ['N', 'N', 'T', 'A', 'T', 'C', 'G', 'T', 'C', 'G'],\n",
       "       ['C', 'T', 'T', 'A', 'T', 'C', 'A', 'T', 'T', 'C'],\n",
       "       ['G', 'T', 'T', 'A', 'T', 'C', 'A', 'C', 'T', 'C'],\n",
       "       ['C', 'T', 'T', 'N', 'A', 'C', 'A', 'T', 'T', 'C'],\n",
       "       ['C', 'T', 'N', 'A', 'A', 'C', 'A', 'T', 'C', 'G']], dtype='<U1')"
      ]
     },
     "execution_count": 17,
     "metadata": {},
     "output_type": "execute_result"
    }
   ],
   "source": [
    "filter_maf(seqs, 0.1)"
   ]
  },
  {
   "cell_type": "markdown",
   "metadata": {},
   "source": [
    "### Q: What order should these functions be applied, does it matter?\n",
    "\n",
    "A. It doesn't matter what order these functions are applied in, they both result in the same answer."
   ]
  },
  {
   "cell_type": "code",
   "execution_count": 18,
   "metadata": {},
   "outputs": [
    {
     "data": {
      "text/plain": [
       "array([['T', 'A', 'C', 'T', 'C'],\n",
       "       ['T', 'G', 'T', 'C', 'G'],\n",
       "       ['T', 'A', 'T', 'T', 'C'],\n",
       "       ['T', 'A', 'C', 'T', 'C'],\n",
       "       ['A', 'A', 'T', 'T', 'C'],\n",
       "       ['A', 'A', 'T', 'C', 'G']], dtype='<U1')"
      ]
     },
     "execution_count": 18,
     "metadata": {},
     "output_type": "execute_result"
    }
   ],
   "source": [
    "filter_missing(filter_maf(seqs, 0.1), 0.1)"
   ]
  },
  {
   "cell_type": "code",
   "execution_count": 19,
   "metadata": {},
   "outputs": [
    {
     "data": {
      "text/plain": [
       "array([['T', 'A', 'C', 'T', 'C'],\n",
       "       ['T', 'G', 'T', 'C', 'G'],\n",
       "       ['T', 'A', 'T', 'T', 'C'],\n",
       "       ['T', 'A', 'C', 'T', 'C'],\n",
       "       ['A', 'A', 'T', 'T', 'C'],\n",
       "       ['A', 'A', 'T', 'C', 'G']], dtype='<U1')"
      ]
     },
     "execution_count": 19,
     "metadata": {},
     "output_type": "execute_result"
    }
   ],
   "source": [
    "filter_maf(filter_missing(seqs, 0.1), 0.1)"
   ]
  },
  {
   "cell_type": "markdown",
   "metadata": {},
   "source": [
    "### Q: Describe how `calculate_statistics()` works\n",
    "\n",
    "\n",
    "A. `calculate_statistics()` returns a Series with the mean nucleotide diversity, which is calculated using the mean of the variance across each column, the mean minor allele frequency, which calculates the mean of the maf defined the same way as it is in `filter_maf()`, the invariant sites, which is the total number of columns in the array which have variation, and variable sites, which is the total number of columns not counted in invariant sites."
   ]
  },
  {
   "cell_type": "code",
   "execution_count": 20,
   "metadata": {},
   "outputs": [],
   "source": [
    "def calculcate_statistics(arr):\n",
    "    # mean nucleotide diversity\n",
    "    nd = np.var(arr == arr[0], axis=0).mean()\n",
    "    # mean maf\n",
    "    mf = np.mean(np.sum(arr != arr[0], axis=0) / arr.shape[0])\n",
    "    # invariant sites\n",
    "    inv = np.any(arr != arr[0], axis=0).sum()\n",
    "    # variable sites\n",
    "    var = arr.shape[1] - inv\n",
    "    return pd.Series(\n",
    "        {\"mean nucleotide diversity\": nd,\n",
    "         \"mean minor allele frequency\": mf,\n",
    "         \"invariant sites\": inv,\n",
    "         \"variable sites\": var,\n",
    "        })"
   ]
  },
  {
   "cell_type": "code",
   "execution_count": 21,
   "metadata": {},
   "outputs": [
    {
     "data": {
      "text/plain": [
       "invariant sites                10.000000\n",
       "mean minor allele frequency     0.277778\n",
       "mean nucleotide diversity       0.120370\n",
       "variable sites                  5.000000\n",
       "dtype: float64"
      ]
     },
     "execution_count": 21,
     "metadata": {},
     "output_type": "execute_result"
    }
   ],
   "source": [
    "calculcate_statistics(seqs)"
   ]
  },
  {
   "cell_type": "markdown",
   "metadata": {},
   "source": [
    "### Instructions: Write a `seqlib` Class object\n",
    "\n",
    "I started writing the bare bones of it below. You should write it so that it can be executed as described below to perform all of the functions we defined above, and so that its attributes can be accessed. Save this class object in a `.py` file and make it into an importable package called `seqlib`. You can write and test your object in this notebook if you like, but it must be saved separately in a `.py` file and be imported. You cannot execute the code at the end using your object defined here in the notebook. When finished save your package to GitHub as a repo just like we did with the `helloworld` package. You do not need to write a CLI script like we did for the `helloworld` package, we will only be using the Python API here. See the examples below for **how you should write your Class object**. It should be able to run in the way written below, so look at that code and think about how you would write a Class object that can do that. \n",
    "\n",
    "While you can mostly copy the functions from above, you will need to modify them slightly to access information about the Class object using *self*. For example, the `simulate()` function below takes self as a first argument and can access `self.inds` and `self.nsites` from that, so we do not need to provide those as arguments to the `simulate` function like we did above. "
   ]
  },
  {
   "cell_type": "code",
   "execution_count": null,
   "metadata": {},
   "outputs": [],
   "source": [
    "class Seqlib:\n",
    "    def __init__(self, ninds, nsites):\n",
    "        self.ninds = ninds\n",
    "        self.nsites = nsites\n",
    "        self.seqs = self.simulate()\n",
    "        # ...\n",
    "        \n",
    "    def simulate(self):\n",
    "        pass\n",
    "        # ...\n",
    "        \n",
    "    # continue writing this full object..\n",
    "    "
   ]
  },
  {
   "cell_type": "markdown",
   "metadata": {},
   "source": [
    "## Test your package\n",
    "The package should be globally importable (you ran `pip install .` or `pip install -e .` to install it), and it should be able to execute the following code without error. "
   ]
  },
  {
   "cell_type": "code",
   "execution_count": 30,
   "metadata": {},
   "outputs": [],
   "source": [
    "import seqlib"
   ]
  },
  {
   "cell_type": "code",
   "execution_count": 31,
   "metadata": {},
   "outputs": [],
   "source": [
    "# init a Seqlib Class object\n",
    "seqs = seqlib.Seqlib(ninds=10, nsites=50)"
   ]
  },
  {
   "cell_type": "code",
   "execution_count": 32,
   "metadata": {},
   "outputs": [
    {
     "name": "stdout",
     "output_type": "stream",
     "text": [
      "10 50\n"
     ]
    }
   ],
   "source": [
    "# access attributes from the object\n",
    "print(seqs.ninds, seqs.nsites)"
   ]
  },
  {
   "cell_type": "code",
   "execution_count": 33,
   "metadata": {},
   "outputs": [
    {
     "data": {
      "text/plain": [
       "array([0.8, 0.1, 0.3, 0.9, 0.9, 0.1, 0.2, 0.4, 0.1, 0.8, 0. , 0.7, 0.1,\n",
       "       0.4, 0.2, 0.2, 0.3, 0.8, 0.1, 0.4, 0.1, 0.2, 0.1, 0.8, 0.1, 0.8,\n",
       "       0. , 0. , 0.1, 0.9, 0. , 0.1, 0.9, 0.1, 0.2, 0.2, 0.8, 0.2, 0.1,\n",
       "       0.1, 0.1, 0.1, 0. , 0.1, 0.6, 0.2, 0.1, 0.9, 0.6, 0.1])"
      ]
     },
     "execution_count": 33,
     "metadata": {},
     "output_type": "execute_result"
    }
   ],
   "source": [
    "# returns the MAF of the array as an array of floats\n",
    "seqs.maf"
   ]
  },
  {
   "cell_type": "code",
   "execution_count": 34,
   "metadata": {},
   "outputs": [
    {
     "data": {
      "text/plain": [
       "array([['C', 'T', 'T', 'A', 'T'],\n",
       "       ['C', 'C', 'T', 'T', 'A'],\n",
       "       ['C', 'T', 'T', 'T', 'A'],\n",
       "       ['C', 'C', 'T', 'T', 'T'],\n",
       "       ['C', 'T', 'C', 'T', 'A'],\n",
       "       ['C', 'C', 'T', 'T', 'A'],\n",
       "       ['G', 'C', 'C', 'A', 'T'],\n",
       "       ['C', 'C', 'T', 'T', 'A'],\n",
       "       ['C', 'C', 'T', 'T', 'A'],\n",
       "       ['G', 'C', 'T', 'T', 'T']], dtype='<U1')"
      ]
     },
     "execution_count": 34,
     "metadata": {},
     "output_type": "execute_result"
    }
   ],
   "source": [
    "# return a view of the filtered sequence array by applying a new function \n",
    "# called `filter()` that applies both the maf and missing filter functions\n",
    "seqs.filter(minmaf=0.1, maxmissing=0.0)"
   ]
  },
  {
   "cell_type": "code",
   "execution_count": 35,
   "metadata": {},
   "outputs": [
    {
     "data": {
      "text/plain": [
       "invariant sites                5.000\n",
       "mean minor allele frequency    0.500\n",
       "mean nucleotide diversity      0.186\n",
       "variable sites                 0.000\n",
       "dtype: float64"
      ]
     },
     "execution_count": 35,
     "metadata": {},
     "output_type": "execute_result"
    }
   ],
   "source": [
    "# calculate statistics for an array with the results returned as a DataFrame\n",
    "seqs.calculate_statistics()"
   ]
  },
  {
   "cell_type": "code",
   "execution_count": 36,
   "metadata": {},
   "outputs": [
    {
     "data": {
      "text/plain": [
       "seqlib.Seqlib"
      ]
     },
     "execution_count": 36,
     "metadata": {},
     "output_type": "execute_result"
    }
   ],
   "source": [
    "type(seqs)"
   ]
  },
  {
   "cell_type": "code",
   "execution_count": 40,
   "metadata": {},
   "outputs": [
    {
     "ename": "TypeError",
     "evalue": "filter() got an unexpected keyword argument 'dtype'",
     "output_type": "error",
     "traceback": [
      "\u001b[0;31m---------------------------------------------------------------------------\u001b[0m",
      "\u001b[0;31mTypeError\u001b[0m                                 Traceback (most recent call last)",
      "\u001b[0;32m<ipython-input-40-5caf5b2397f4>\u001b[0m in \u001b[0;36m<module>\u001b[0;34m()\u001b[0m\n\u001b[1;32m      1\u001b[0m \u001b[0;31m# calculate statistics for an array after filtering it\u001b[0m\u001b[0;34m\u001b[0m\u001b[0;34m\u001b[0m\u001b[0m\n\u001b[0;32m----> 2\u001b[0;31m \u001b[0mseqs\u001b[0m\u001b[0;34m.\u001b[0m\u001b[0mfilter\u001b[0m\u001b[0;34m(\u001b[0m\u001b[0mminmaf\u001b[0m\u001b[0;34m=\u001b[0m\u001b[0;36m0.1\u001b[0m\u001b[0;34m,\u001b[0m \u001b[0mmaxmissing\u001b[0m\u001b[0;34m=\u001b[0m\u001b[0;36m0.0\u001b[0m\u001b[0;34m,\u001b[0m \u001b[0mdtype\u001b[0m\u001b[0;34m=\u001b[0m\u001b[0mobject\u001b[0m\u001b[0;34m)\u001b[0m\u001b[0;34m.\u001b[0m\u001b[0mcalculate_statistics\u001b[0m\u001b[0;34m(\u001b[0m\u001b[0;34m)\u001b[0m\u001b[0;34m\u001b[0m\u001b[0m\n\u001b[0m",
      "\u001b[0;31mTypeError\u001b[0m: filter() got an unexpected keyword argument 'dtype'"
     ]
    }
   ],
   "source": [
    "# calculate statistics for an array after filtering it\n",
    "seqs.filter(minmaf=0.1, maxmissing=0.0).calculate_statistics()"
   ]
  },
  {
   "cell_type": "code",
   "execution_count": null,
   "metadata": {},
   "outputs": [],
   "source": []
  }
 ],
 "metadata": {
  "kernelspec": {
   "display_name": "Python 3",
   "language": "python",
   "name": "python3"
  },
  "language_info": {
   "codemirror_mode": {
    "name": "ipython",
    "version": 3
   },
   "file_extension": ".py",
   "mimetype": "text/x-python",
   "name": "python",
   "nbconvert_exporter": "python",
   "pygments_lexer": "ipython3",
   "version": "3.6.3"
  }
 },
 "nbformat": 4,
 "nbformat_minor": 2
}
