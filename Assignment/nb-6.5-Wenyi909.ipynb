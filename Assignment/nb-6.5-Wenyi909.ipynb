{
 "cells": [
  {
   "cell_type": "markdown",
   "metadata": {},
   "source": [
    "# Assignment\n",
    "\n",
    "-------------\n",
    "\n",
    "**1) Complete this notebook and make a pull request:** \n",
    "\n",
    "Answer questions (Q) in the space provided (A) in this notebook. When finished, copy your notebook to the `Assignment/` directory and name it `nb-6.5-<Github-username>.ipynb`. Then make a pull request to the upstream repo. The entered answers in this notebook will be simply Markdown text where I want you to interpret and describe a block of code to better understand what it is doing. Much of this code you will have seen already. \n",
    "\n",
    "\n",
    "**2) Write an importable Python package, save as a repo, and test it here.**\n",
    "\n",
    "The package should be written as we did in our last lession (`.py` files in a directory with a setup.py file so it can be installed with `pip`). Follow instructions at the end of this notebook for how to write your package. Test it here by importing the package and executing the code at the end. It should work and give correct answers, if not, continue working on it. When you have it completed save your package as a new Github repo named `seqlib`."
   ]
  },
  {
   "cell_type": "markdown",
   "metadata": {},
   "source": [
    "### The `seqlib` package\n",
    "\n",
    "Together we are going to write several functions here that will make up your new package called `seqlib`. It will be your job to copy these functions, organize them into a Class, save the code into a `.py` file (you can use SublimeText if you're comfortable with it for much of this, or any text editor including the one in jupyter), package the files so they can be imported as a library, and test the package so that it accomplishes the tasks which are defined at the end of this notebook. First things first, though, let's write the functions. "
   ]
  },
  {
   "cell_type": "code",
   "execution_count": 1,
   "metadata": {},
   "outputs": [],
   "source": [
    "import numpy as np\n",
    "import pandas as pd"
   ]
  },
  {
   "cell_type": "markdown",
   "metadata": {},
   "source": [
    "### Q.  Describe what the `mutate()` function below does:\n",
    "\n",
    "\n",
    "A. The function asks for a base, and returns one of the three bases left that are not asked for. Specifically the function deletes the base inputed from the 4-base set, and then randomly chooses a base from the new set."
   ]
  },
  {
   "cell_type": "code",
   "execution_count": 2,
   "metadata": {},
   "outputs": [],
   "source": [
    "def mutate(base):\n",
    "    diff = set(\"ACTG\") - set(base)\n",
    "    return np.random.choice(list(diff))"
   ]
  },
  {
   "cell_type": "code",
   "execution_count": 3,
   "metadata": {},
   "outputs": [
    {
     "data": {
      "text/plain": [
       "'C'"
      ]
     },
     "execution_count": 3,
     "metadata": {},
     "output_type": "execute_result"
    }
   ],
   "source": [
    "# test it\n",
    "mutate(\"A\")"
   ]
  },
  {
   "cell_type": "markdown",
   "metadata": {},
   "source": [
    "### Q. Describe how the `seqdata()` function below works:\n",
    "Annotate the code by inserting lines with comments as you read through the function to make sense of it. What is being created at each step and how is it used?\n",
    "\n",
    "\n",
    "A. "
   ]
  },
  {
   "cell_type": "code",
   "execution_count": 5,
   "metadata": {},
   "outputs": [],
   "source": [
    "def simulate(ninds, nsites):\n",
    "    \n",
    "    # define a random sequence with length specified as 'oseq'\n",
    "    # define an array of 'oseq' list as 'array',in which the number of indivual sequence is specified\n",
    "    # generate a random binomial distribution with n=1 and p=0.1, representing the mutation as 'muts'\n",
    "    oseq = np.random.choice(list(\"ACGT\"), size=nsites)\n",
    "    arr = np.array([oseq for i in range(ninds)])\n",
    "    muts = np.random.binomial(1, 0.1, (ninds, nsites))\n",
    "    \n",
    "    # In this for-loop, for every column (up to 'oseq' length), \n",
    "    # a new base is created from a specific element in 'arr' using the mutation function defined above\n",
    "    # 'mask' is created to store 'True' for every mutation in the array\n",
    "    # For every element that is 'True' for 'mask', the mutated new base replaces the old base element\n",
    "    for col in range(nsites):\n",
    "        newbase = mutate(arr[0, col])\n",
    "        mask = muts[:, col].astype(bool)\n",
    "        arr[:, col][mask] = newbase\n",
    "    \n",
    "    # generate a random binomial distribution with n=1 and p=0.1, representing the missing bases\n",
    "    # for every missing base, it will show as \"N\" in the array\n",
    "    missing = np.random.binomial(1, 0.1, (ninds, nsites))\n",
    "    arr[missing.astype(bool)] = \"N\"\n",
    "    \n",
    "    return arr"
   ]
  },
  {
   "cell_type": "code",
   "execution_count": 6,
   "metadata": {},
   "outputs": [
    {
     "name": "stdout",
     "output_type": "stream",
     "text": [
      "[['T' 'G' 'A' 'T' 'C' 'G' 'C' 'C' 'C' 'A' 'A' 'T' 'A' 'G' 'G']\n",
      " ['G' 'G' 'A' 'T' 'C' 'G' 'C' 'A' 'C' 'A' 'A' 'T' 'N' 'G' 'C']\n",
      " ['N' 'G' 'A' 'N' 'C' 'G' 'C' 'N' 'T' 'A' 'A' 'T' 'A' 'A' 'N']\n",
      " ['G' 'G' 'A' 'T' 'C' 'N' 'C' 'A' 'C' 'A' 'A' 'T' 'A' 'G' 'G']\n",
      " ['G' 'G' 'A' 'N' 'N' 'G' 'C' 'A' 'C' 'A' 'A' 'T' 'G' 'G' 'C']\n",
      " ['G' 'G' 'A' 'T' 'C' 'G' 'C' 'A' 'C' 'A' 'A' 'T' 'A' 'G' 'C']]\n"
     ]
    }
   ],
   "source": [
    "seqs = simulate(6, 15)\n",
    "print(seqs)"
   ]
  },
  {
   "cell_type": "markdown",
   "metadata": {},
   "source": [
    "### **Q: Describe how the `filter_missing` function works:**\n",
    "Annotate the code by inserting lines with comments as you read through the function to make sense of it. How does it find columns with missing (N) values in them? How might you improve it?\n",
    "\n",
    "A. The function returns an array with missing bases of specified maximum frequency "
   ]
  },
  {
   "cell_type": "code",
   "execution_count": 7,
   "metadata": {},
   "outputs": [],
   "source": [
    "def filter_missing(arr, maxfreq):\n",
    "    # Calculate the missing frequency by dividing the sum # of \"N\" across every column by the total length\n",
    "    freqmissing = np.sum(arr == \"N\", axis=0) / arr.shape[0]\n",
    "    # Return the array with only sequences with missing frequency smaller than the specified max frequency\n",
    "    return arr[:, freqmissing <= maxfreq]"
   ]
  },
  {
   "cell_type": "code",
   "execution_count": 8,
   "metadata": {},
   "outputs": [
    {
     "data": {
      "text/plain": [
       "array([['G', 'A', 'C', 'C', 'A', 'A', 'T', 'G'],\n",
       "       ['G', 'A', 'C', 'C', 'A', 'A', 'T', 'G'],\n",
       "       ['G', 'A', 'C', 'T', 'A', 'A', 'T', 'A'],\n",
       "       ['G', 'A', 'C', 'C', 'A', 'A', 'T', 'G'],\n",
       "       ['G', 'A', 'C', 'C', 'A', 'A', 'T', 'G'],\n",
       "       ['G', 'A', 'C', 'C', 'A', 'A', 'T', 'G']], dtype='<U1')"
      ]
     },
     "execution_count": 8,
     "metadata": {},
     "output_type": "execute_result"
    }
   ],
   "source": [
    "filter_missing(seqs, 0.1)"
   ]
  },
  {
   "cell_type": "markdown",
   "metadata": {},
   "source": [
    "### **Q: Describe how the `filter_maf` function works:**\n",
    "Annotate the code by inserting lines with comments as you read through the function to make sense of it. How does it calculate minor allele frequencies? Why does it use copy?\n",
    "\n",
    "A. The function returns an array of sequences with specified minimum mutation frequency. The minor allel frequency (<0.5) is calculated by subtracting any frequency greater than 0.5 from 1. We need to make a copy of the original freqency file, because otherwise the original array would be changed as well."
   ]
  },
  {
   "cell_type": "code",
   "execution_count": 11,
   "metadata": {},
   "outputs": [],
   "source": [
    "def filter_maf(arr, minfreq): \n",
    "    # mutation frequency is calculated by summing the difference of elements compared with the first row\n",
    "    # and deviding that by the total length\n",
    "    freqs = np.sum(arr != arr[0], axis=0) / arr.shape[0]\n",
    "    \n",
    "    # Create a copy of the frequency array\n",
    "    # Change all the elements > 0.5 to 1 - that element so that the minor allele sequence frequency is recorded\n",
    "    maf = freqs.copy()\n",
    "    maf[maf > 0.5] = 1 - maf[maf > 0.5]\n",
    "    \n",
    "    # Return an array of sequence with minor allele sequence frequency greater than the specified frequency\n",
    "    return arr[:, maf > minfreq]"
   ]
  },
  {
   "cell_type": "code",
   "execution_count": 12,
   "metadata": {},
   "outputs": [
    {
     "data": {
      "text/plain": [
       "array([['T', 'T', 'C', 'G', 'C', 'C', 'A', 'G', 'G'],\n",
       "       ['G', 'T', 'C', 'G', 'A', 'C', 'N', 'G', 'C'],\n",
       "       ['N', 'N', 'C', 'G', 'N', 'T', 'A', 'A', 'N'],\n",
       "       ['G', 'T', 'C', 'N', 'A', 'C', 'A', 'G', 'G'],\n",
       "       ['G', 'N', 'N', 'G', 'A', 'C', 'G', 'G', 'C'],\n",
       "       ['G', 'T', 'C', 'G', 'A', 'C', 'A', 'G', 'C']], dtype='<U1')"
      ]
     },
     "execution_count": 12,
     "metadata": {},
     "output_type": "execute_result"
    }
   ],
   "source": [
    "filter_maf(seqs, 0.1)"
   ]
  },
  {
   "cell_type": "markdown",
   "metadata": {},
   "source": [
    "### Q: What order should these functions be applied, does it matter?\n",
    "\n",
    "A. First filter the missing bases using 'filter_missing' function, in order to get rid of the unreliable sequency. Then do the 'filter_maf' to calculate the minor allel freqency. The above order makes more logical sense, but usually the opposite order would not affect the final result, like shown in the below example."
   ]
  },
  {
   "cell_type": "code",
   "execution_count": 13,
   "metadata": {},
   "outputs": [
    {
     "data": {
      "text/plain": [
       "array([['C', 'G'],\n",
       "       ['C', 'G'],\n",
       "       ['T', 'A'],\n",
       "       ['C', 'G'],\n",
       "       ['C', 'G'],\n",
       "       ['C', 'G']], dtype='<U1')"
      ]
     },
     "execution_count": 13,
     "metadata": {},
     "output_type": "execute_result"
    }
   ],
   "source": [
    "filter_missing(filter_maf(seqs, 0.1), 0.1)"
   ]
  },
  {
   "cell_type": "code",
   "execution_count": 14,
   "metadata": {},
   "outputs": [
    {
     "data": {
      "text/plain": [
       "array([['C', 'G'],\n",
       "       ['C', 'G'],\n",
       "       ['T', 'A'],\n",
       "       ['C', 'G'],\n",
       "       ['C', 'G'],\n",
       "       ['C', 'G']], dtype='<U1')"
      ]
     },
     "execution_count": 14,
     "metadata": {},
     "output_type": "execute_result"
    }
   ],
   "source": [
    "filter_maf(filter_missing(seqs, 0.1), 0.1)"
   ]
  },
  {
   "cell_type": "markdown",
   "metadata": {},
   "source": [
    "### Q: Describe how `calculate_statistics()` works\n",
    "\n",
    "\n",
    "A. The function calculates the mean nucleotide diversity, mean minor allel frequency, invariant sites and variable sites for a given sequence array"
   ]
  },
  {
   "cell_type": "code",
   "execution_count": 15,
   "metadata": {},
   "outputs": [],
   "source": [
    "def calculcate_statistics(arr):\n",
    "    \n",
    "    # Calculate the mean of variances of array across the columns, as \"mean nucleotide diversity\" \n",
    "    nd = np.var(arr == arr[0], axis=0).mean()\n",
    "    \n",
    "    # Calculate the mean of frequency across columns, as \"mean minor allel frequency\"\n",
    "    mf = np.mean(np.sum(arr != arr[0], axis=0) / arr.shape[0])\n",
    "    \n",
    "    # Calculate the sum of all elements except those different from the first row across columns, as \"invariant sites\"\n",
    "    # Subtract invariant sites from the total length to get \"variable sites\"\n",
    "    inv = np.any(arr != arr[0], axis=0).sum()\n",
    "    var = arr.shape[1] - inv\n",
    "    \n",
    "    # return all values as panda series with specified name\n",
    "    return pd.Series(\n",
    "        {\"mean nucleotide diversity\": nd,\n",
    "         \"mean minor allele frequency\": mf,\n",
    "         \"invariant sites\": inv,\n",
    "         \"variable sites\": var,\n",
    "        })"
   ]
  },
  {
   "cell_type": "code",
   "execution_count": 16,
   "metadata": {},
   "outputs": [
    {
     "data": {
      "text/plain": [
       "invariant sites                9.000000\n",
       "mean minor allele frequency    0.244444\n",
       "mean nucleotide diversity      0.100000\n",
       "variable sites                 6.000000\n",
       "dtype: float64"
      ]
     },
     "execution_count": 16,
     "metadata": {},
     "output_type": "execute_result"
    }
   ],
   "source": [
    "calculcate_statistics(seqs)"
   ]
  },
  {
   "cell_type": "markdown",
   "metadata": {},
   "source": [
    "### Instructions: Write a `seqlib` Class object\n",
    "\n",
    "I started writing the bare bones of it below. You should write it so that it can be executed as described below to perform all of the functions we defined above, and so that its attributes can be accessed. Save this class object in a `.py` file and make it into an importable package called `seqlib`. You can write and test your object in this notebook if you like, but it must be saved separately in a `.py` file and be imported. You cannot execute the code at the end using your object defined here in the notebook. When finished save your package to GitHub as a repo just like we did with the `helloworld` package. You do not need to write a CLI script like we did for the `helloworld` package, we will only be using the Python API here. See the examples below for **how you should write your Class object**. It should be able to run in the way written below, so look at that code and think about how you would write a Class object that can do that. \n",
    "\n",
    "While you can mostly copy the functions from above, you will need to modify them slightly to access information about the Class object using *self*. For example, the `simulate()` function below takes self as a first argument and can access `self.inds` and `self.nsites` from that, so we do not need to provide those as arguments to the `simulate` function like we did above. "
   ]
  },
  {
   "cell_type": "code",
   "execution_count": 4,
   "metadata": {},
   "outputs": [],
   "source": [
    "import numpy as np\n",
    "import pandas as pd\n",
    "\n",
    "class Seqlib:\n",
    "    \n",
    "    def __init__(self, ninds, nsites):\n",
    "        self.ninds = ninds\n",
    "        self.nsites = nsites\n",
    "        self.seqs = self.simulate()\n",
    "        self.maf = self.maf()\n",
    "        \n",
    "    \n",
    "    # Make mutated base, later used in function simulate\n",
    "    def mutate(self, base):\n",
    "        diff = set(\"ACTG\") - set(base)\n",
    "        return np.random.choice(list(diff))\n",
    "    \n",
    "    # Simulate a random sequence as arrays of multiple individuals\n",
    "    def simulate(self):\n",
    "        oseq = np.random.choice(list(\"ACGT\"), size=self.nsites)\n",
    "        arr = np.array([oseq for i in range(self.ninds)])\n",
    "        muts = np.random.binomial(1, 0.1, (self.ninds, self.nsites))\n",
    "    \n",
    "        for col in range(self.nsites):\n",
    "            newbase = self.mutate(arr[0, col])\n",
    "            mask = muts[:, col].astype(bool)\n",
    "            arr[:, col][mask] = newbase\n",
    "    \n",
    "        missing = np.random.binomial(1, 0.1, (self.ninds, self.nsites))\n",
    "        arr[missing.astype(bool)] = \"N\"    \n",
    "        return arr\n",
    "    \n",
    "    # Return MAF as floats\n",
    "    def maf(self):\n",
    "        freqs = np.sum(self.seqs != self.seqs[0], axis=0) / self.seqs.shape[0]\n",
    "        maf = freqs.copy()\n",
    "        maf[maf > 0.5] = 1 - maf[maf > 0.5]\n",
    "        return maf\n",
    "    \n",
    "    # Filter out sequences with missing frequency more than specified max frequency\n",
    "    def filter_missing(self, maxmissing):\n",
    "        freqmissing = np.sum(self.seqs == \"N\", axis=0) / self.seqs.shape[0]\n",
    "        return self.seqs[:, freqmissing <= maxmissing]\n",
    "    \n",
    "    # Filter out sequences with minor allel sequence frequency greater than the specified frequency\n",
    "    def filter_maf(self, minmaf):\n",
    "        freqs = np.sum(self.seqs != self.seqs[0], axis=0) / self.seqs.shape[0]\n",
    "        maf = freqs.copy()\n",
    "        maf[maf > 0.5] = 1 - maf[maf > 0.5]\n",
    "        return self.seqs[:, maf > minmaf]\n",
    "    \n",
    "    def filter(self, maxmissing, minmaf):\n",
    "        freqmissing = np.sum(self.seqs == \"N\", axis=0) / self.seqs.shape[0]\n",
    "        arr = self.seqs[:, freqmissing <= maxmissing]\n",
    "        freqs = np.sum(arr != arr[0], axis=0) / arr.shape[0]\n",
    "        maf = freqs.copy()\n",
    "        maf[maf > 0.5] = 1 - maf[maf > 0.5]\n",
    "        return arr[:, maf > minmaf]\n",
    "    \n",
    "    def calculate_statistics(self):\n",
    "        nd = np.var(self.seqs == self.seqs[0], axis=0).mean()\n",
    "        mf = np.mean(np.sum(self.seqs != self.seqs[0], axis=0) / self.seqs.shape[0])\n",
    "        inv = np.any(self.seqs != self.seqs[0], axis=0).sum()\n",
    "        var = self.seqs.shape[1] - inv\n",
    "    \n",
    "        # return all values as panda series with specified name\n",
    "        return pd.Series(\n",
    "            {\"mean nucleotide diversity\": nd,\n",
    "             \"mean minor allele frequency\": mf,\n",
    "             \"invariant sites\": inv,\n",
    "             \"variable sites\": var,\n",
    "            })"
   ]
  },
  {
   "cell_type": "markdown",
   "metadata": {},
   "source": [
    "## Test your package\n",
    "The package should be globally importable (you ran `pip install .` or `pip install -e .` to install it), and it should be able to execute the following code without error. "
   ]
  },
  {
   "cell_type": "code",
   "execution_count": 1,
   "metadata": {},
   "outputs": [],
   "source": [
    "import seqlib"
   ]
  },
  {
   "cell_type": "code",
   "execution_count": 2,
   "metadata": {},
   "outputs": [],
   "source": [
    "# init a Seqlib Class object\n",
    "seqs = seqlib.Seqlib(ninds=10, nsites=50)"
   ]
  },
  {
   "cell_type": "code",
   "execution_count": 3,
   "metadata": {},
   "outputs": [
    {
     "name": "stdout",
     "output_type": "stream",
     "text": [
      "10 50\n",
      "[['A' 'T' 'C' 'C' 'T' 'T' 'C' 'C' 'A' 'C' 'C' 'A' 'G' 'G' 'N' 'A' 'T' 'C'\n",
      "  'C' 'G' 'T' 'T' 'A' 'C' 'G' 'A' 'T' 'G' 'T' 'A' 'G' 'A' 'T' 'T' 'C' 'G'\n",
      "  'G' 'N' 'G' 'C' 'G' 'T' 'G' 'T' 'N' 'A' 'T' 'T' 'G' 'G']\n",
      " ['A' 'T' 'C' 'C' 'T' 'T' 'C' 'C' 'A' 'C' 'C' 'A' 'N' 'G' 'G' 'A' 'T' 'C'\n",
      "  'G' 'G' 'C' 'T' 'A' 'C' 'T' 'A' 'T' 'G' 'T' 'T' 'N' 'A' 'T' 'T' 'C' 'G'\n",
      "  'T' 'G' 'G' 'C' 'G' 'T' 'G' 'T' 'A' 'N' 'T' 'N' 'C' 'G']\n",
      " ['A' 'T' 'N' 'N' 'T' 'T' 'N' 'C' 'A' 'C' 'G' 'A' 'G' 'G' 'C' 'A' 'T' 'C'\n",
      "  'G' 'G' 'T' 'T' 'A' 'C' 'G' 'A' 'T' 'G' 'T' 'T' 'G' 'A' 'T' 'T' 'C' 'G'\n",
      "  'T' 'G' 'G' 'C' 'G' 'T' 'N' 'T' 'A' 'A' 'N' 'T' 'G' 'G']\n",
      " ['A' 'A' 'C' 'N' 'T' 'T' 'C' 'C' 'A' 'C' 'C' 'A' 'G' 'G' 'N' 'N' 'T' 'C'\n",
      "  'G' 'A' 'T' 'T' 'A' 'C' 'G' 'A' 'T' 'G' 'T' 'T' 'G' 'A' 'T' 'T' 'C' 'G'\n",
      "  'T' 'G' 'G' 'C' 'G' 'T' 'C' 'T' 'A' 'G' 'T' 'N' 'G' 'N']\n",
      " ['A' 'T' 'N' 'C' 'T' 'T' 'C' 'C' 'A' 'C' 'N' 'A' 'G' 'G' 'G' 'N' 'T' 'C'\n",
      "  'G' 'G' 'N' 'T' 'A' 'C' 'G' 'A' 'T' 'G' 'T' 'A' 'G' 'A' 'T' 'T' 'C' 'G'\n",
      "  'N' 'N' 'C' 'C' 'G' 'T' 'C' 'T' 'A' 'A' 'A' 'N' 'C' 'G']\n",
      " ['A' 'T' 'N' 'C' 'N' 'T' 'C' 'N' 'A' 'C' 'C' 'N' 'G' 'G' 'C' 'A' 'T' 'C'\n",
      "  'C' 'G' 'T' 'T' 'A' 'C' 'G' 'A' 'T' 'G' 'T' 'T' 'G' 'A' 'N' 'N' 'C' 'G'\n",
      "  'T' 'T' 'G' 'T' 'G' 'N' 'C' 'T' 'A' 'A' 'T' 'T' 'G' 'N']\n",
      " ['A' 'N' 'C' 'C' 'N' 'T' 'C' 'C' 'A' 'C' 'C' 'T' 'N' 'G' 'G' 'N' 'G' 'C'\n",
      "  'G' 'G' 'T' 'T' 'A' 'G' 'G' 'A' 'T' 'G' 'T' 'T' 'N' 'A' 'T' 'T' 'C' 'G'\n",
      "  'T' 'G' 'G' 'C' 'G' 'T' 'C' 'T' 'A' 'A' 'T' 'T' 'G' 'A']\n",
      " ['A' 'T' 'C' 'C' 'T' 'T' 'C' 'C' 'A' 'C' 'C' 'A' 'G' 'G' 'G' 'A' 'T' 'C'\n",
      "  'G' 'G' 'C' 'T' 'A' 'C' 'N' 'A' 'T' 'A' 'T' 'T' 'G' 'A' 'T' 'T' 'C' 'G'\n",
      "  'T' 'N' 'G' 'T' 'G' 'N' 'N' 'T' 'G' 'A' 'N' 'T' 'G' 'G']\n",
      " ['N' 'T' 'C' 'C' 'T' 'T' 'N' 'C' 'A' 'C' 'C' 'A' 'G' 'G' 'G' 'A' 'T' 'C'\n",
      "  'G' 'G' 'T' 'T' 'A' 'N' 'N' 'N' 'T' 'N' 'T' 'T' 'T' 'A' 'N' 'T' 'N' 'G'\n",
      "  'T' 'G' 'G' 'T' 'G' 'T' 'C' 'T' 'N' 'A' 'T' 'T' 'G' 'G']\n",
      " ['A' 'T' 'C' 'C' 'A' 'N' 'C' 'C' 'A' 'C' 'C' 'T' 'G' 'N' 'G' 'A' 'T' 'A'\n",
      "  'N' 'A' 'N' 'T' 'A' 'C' 'G' 'A' 'T' 'G' 'T' 'T' 'G' 'A' 'T' 'T' 'C' 'G'\n",
      "  'T' 'G' 'C' 'C' 'G' 'T' 'G' 'T' 'A' 'A' 'T' 'T' 'G' 'G']]\n"
     ]
    }
   ],
   "source": [
    "# access attributes from the object\n",
    "print(seqs.ninds, seqs.nsites)\n",
    "print(seqs.seqs)"
   ]
  },
  {
   "cell_type": "code",
   "execution_count": 4,
   "metadata": {},
   "outputs": [
    {
     "data": {
      "text/plain": [
       "array([0.1, 0.2, 0.3, 0.2, 0.3, 0.1, 0.2, 0.1, 0. , 0. , 0.2, 0.3, 0.2,\n",
       "       0.1, 0.2, 0.3, 0.1, 0.1, 0.2, 0.2, 0.4, 0. , 0. , 0.2, 0.3, 0.1,\n",
       "       0. , 0.2, 0. , 0.2, 0.3, 0. , 0.2, 0.1, 0.1, 0. , 0.1, 0.3, 0.2,\n",
       "       0.3, 0. , 0.2, 0.3, 0. , 0.2, 0.2, 0.3, 0.3, 0.2, 0.3])"
      ]
     },
     "execution_count": 4,
     "metadata": {},
     "output_type": "execute_result"
    }
   ],
   "source": [
    "# returns the MAF of the array as an array of floats\n",
    "seqs.maf"
   ]
  },
  {
   "cell_type": "code",
   "execution_count": 5,
   "metadata": {},
   "outputs": [
    {
     "data": {
      "text/plain": [
       "array([['G', 'A', 'G', 'C', 'G'],\n",
       "       ['G', 'T', 'G', 'C', 'C'],\n",
       "       ['G', 'T', 'G', 'C', 'G'],\n",
       "       ['A', 'T', 'G', 'C', 'G'],\n",
       "       ['G', 'A', 'C', 'C', 'C'],\n",
       "       ['G', 'T', 'G', 'T', 'G'],\n",
       "       ['G', 'T', 'G', 'C', 'G'],\n",
       "       ['G', 'T', 'G', 'T', 'G'],\n",
       "       ['G', 'T', 'G', 'T', 'G'],\n",
       "       ['A', 'T', 'C', 'C', 'G']], dtype='<U1')"
      ]
     },
     "execution_count": 5,
     "metadata": {},
     "output_type": "execute_result"
    }
   ],
   "source": [
    "# return a view of the filtered sequence array by applying a new function \n",
    "# called `filter()` that applies both the maf and missing filter functions\n",
    "seqs.filter(minmaf=0.1, maxmissing=0.0)"
   ]
  },
  {
   "cell_type": "code",
   "execution_count": 6,
   "metadata": {},
   "outputs": [
    {
     "data": {
      "text/plain": [
       "invariant sites                40.0000\n",
       "mean minor allele frequency     0.2480\n",
       "mean nucleotide diversity       0.1276\n",
       "variable sites                 10.0000\n",
       "dtype: float64"
      ]
     },
     "execution_count": 6,
     "metadata": {},
     "output_type": "execute_result"
    }
   ],
   "source": [
    "# calculate statistics for an array with the results returned as a DataFrame\n",
    "seqs.calculate_statistics()"
   ]
  },
  {
   "cell_type": "code",
   "execution_count": 7,
   "metadata": {},
   "outputs": [
    {
     "ename": "AttributeError",
     "evalue": "'numpy.ndarray' object has no attribute 'calculate_statistics'",
     "output_type": "error",
     "traceback": [
      "\u001b[0;31m---------------------------------------------------------------------------\u001b[0m",
      "\u001b[0;31mAttributeError\u001b[0m                            Traceback (most recent call last)",
      "\u001b[0;32m<ipython-input-7-87ab6dfb31dc>\u001b[0m in \u001b[0;36m<module>\u001b[0;34m()\u001b[0m\n\u001b[1;32m      1\u001b[0m \u001b[0;31m# calculate statistics for an array after filtering it\u001b[0m\u001b[0;34m\u001b[0m\u001b[0;34m\u001b[0m\u001b[0m\n\u001b[0;32m----> 2\u001b[0;31m \u001b[0mseqs\u001b[0m\u001b[0;34m.\u001b[0m\u001b[0mfilter\u001b[0m\u001b[0;34m(\u001b[0m\u001b[0mminmaf\u001b[0m\u001b[0;34m=\u001b[0m\u001b[0;36m0.1\u001b[0m\u001b[0;34m,\u001b[0m \u001b[0mmaxmissing\u001b[0m\u001b[0;34m=\u001b[0m\u001b[0;36m0.0\u001b[0m\u001b[0;34m)\u001b[0m\u001b[0;34m.\u001b[0m\u001b[0mcalculate_statistics\u001b[0m\u001b[0;34m(\u001b[0m\u001b[0;34m)\u001b[0m\u001b[0;34m\u001b[0m\u001b[0m\n\u001b[0m",
      "\u001b[0;31mAttributeError\u001b[0m: 'numpy.ndarray' object has no attribute 'calculate_statistics'"
     ]
    }
   ],
   "source": [
    "# calculate statistics for an array after filtering it\n",
    "seqs.filter(minmaf=0.1, maxmissing=0.0).calculate_statistics()"
   ]
  },
  {
   "cell_type": "code",
   "execution_count": null,
   "metadata": {},
   "outputs": [],
   "source": []
  }
 ],
 "metadata": {
  "kernelspec": {
   "display_name": "Python 3",
   "language": "python",
   "name": "python3"
  },
  "language_info": {
   "codemirror_mode": {
    "name": "ipython",
    "version": 3
   },
   "file_extension": ".py",
   "mimetype": "text/x-python",
   "name": "python",
   "nbconvert_exporter": "python",
   "pygments_lexer": "ipython3",
   "version": "3.6.3"
  }
 },
 "nbformat": 4,
 "nbformat_minor": 2
}
