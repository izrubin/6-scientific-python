{
 "cells": [
  {
   "cell_type": "markdown",
   "metadata": {},
   "source": [
    "# Assignment\n",
    "\n",
    "-------------\n",
    "\n",
    "**1) Complete this notebook and make a pull request:** \n",
    "\n",
    "Answer questions (Q) in the space provided (A) in this notebook. When finished, copy your notebook to the `Assignment/` directory and name it `nb-6.5-<Github-username>.ipynb`. Then make a pull request to the upstream repo. The entered answers in this notebook will be simply Markdown text where I want you to interpret and describe a block of code to better understand what it is doing. Much of this code you will have seen already. \n",
    "\n",
    "\n",
    "**2) Write an importable Python package, save as a repo, and test it here.**\n",
    "\n",
    "The package should be written as we did in our last lession (`.py` files in a directory with a setup.py file so it can be installed with `pip`). Follow instructions at the end of this notebook for how to write your package. Test it here by importing the package and executing the code at the end. It should work and give correct answers, if not, continue working on it. When you have it completed save your package as a new Github repo named `seqlib`."
   ]
  },
  {
   "cell_type": "markdown",
   "metadata": {},
   "source": [
    "### The `seqlib` package\n",
    "\n",
    "Together we are going to write several functions here that will make up your new package called `seqlib`. It will be your job to copy these functions, organize them into a Class, save the code into a `.py` file (you can use SublimeText if you're comfortable with it for much of this, or any text editor including the one in jupyter), package the files so they can be imported as a library, and test the package so that it accomplishes the tasks which are defined at the end of this notebook. First things first, though, let's write the functions. "
   ]
  },
  {
   "cell_type": "code",
   "execution_count": 1,
   "metadata": {},
   "outputs": [],
   "source": [
    "import numpy as np\n",
    "import pandas as pd"
   ]
  },
  {
   "cell_type": "markdown",
   "metadata": {},
   "source": [
    "### Q.  Describe what the `mutate()` function below does:\n",
    "\n",
    "\n",
    "A. This function takes a single input base and \"mutates\" it to a different base."
   ]
  },
  {
   "cell_type": "code",
   "execution_count": 2,
   "metadata": {},
   "outputs": [],
   "source": [
    "def mutate(base):                        #begin fxn, base input required\n",
    "    diff = set(\"ACTG\") - set(base)       #create a population that does not include input base\n",
    "    return np.random.choice(list(diff))  #sample n=1 from this population"
   ]
  },
  {
   "cell_type": "code",
   "execution_count": 18,
   "metadata": {
    "scrolled": true
   },
   "outputs": [
    {
     "data": {
      "text/plain": [
       "'G'"
      ]
     },
     "execution_count": 18,
     "metadata": {},
     "output_type": "execute_result"
    }
   ],
   "source": [
    "# test it\n",
    "mutate(\"A\")"
   ]
  },
  {
   "cell_type": "code",
   "execution_count": 33,
   "metadata": {},
   "outputs": [
    {
     "data": {
      "text/plain": [
       "'G'"
      ]
     },
     "execution_count": 33,
     "metadata": {},
     "output_type": "execute_result"
    }
   ],
   "source": [
    "mutate(\"AT\") #only one base returned. base is always either G or C"
   ]
  },
  {
   "cell_type": "code",
   "execution_count": 34,
   "metadata": {},
   "outputs": [
    {
     "ename": "ValueError",
     "evalue": "a must be non-empty",
     "output_type": "error",
     "traceback": [
      "\u001b[1;31m---------------------------------------------------------------------------\u001b[0m",
      "\u001b[1;31mValueError\u001b[0m                                Traceback (most recent call last)",
      "\u001b[1;32m<ipython-input-34-46323176106d>\u001b[0m in \u001b[0;36m<module>\u001b[1;34m()\u001b[0m\n\u001b[1;32m----> 1\u001b[1;33m \u001b[0mmutate\u001b[0m\u001b[1;33m(\u001b[0m\u001b[1;34m\"ATTTAGC\"\u001b[0m\u001b[1;33m)\u001b[0m\u001b[1;33m\u001b[0m\u001b[0m\n\u001b[0m",
      "\u001b[1;32m<ipython-input-2-0e6e62e61b38>\u001b[0m in \u001b[0;36mmutate\u001b[1;34m(base)\u001b[0m\n\u001b[0;32m      1\u001b[0m \u001b[1;32mdef\u001b[0m \u001b[0mmutate\u001b[0m\u001b[1;33m(\u001b[0m\u001b[0mbase\u001b[0m\u001b[1;33m)\u001b[0m\u001b[1;33m:\u001b[0m\u001b[1;33m\u001b[0m\u001b[0m\n\u001b[0;32m      2\u001b[0m     \u001b[0mdiff\u001b[0m \u001b[1;33m=\u001b[0m \u001b[0mset\u001b[0m\u001b[1;33m(\u001b[0m\u001b[1;34m\"ACTG\"\u001b[0m\u001b[1;33m)\u001b[0m \u001b[1;33m-\u001b[0m \u001b[0mset\u001b[0m\u001b[1;33m(\u001b[0m\u001b[0mbase\u001b[0m\u001b[1;33m)\u001b[0m\u001b[1;33m\u001b[0m\u001b[0m\n\u001b[1;32m----> 3\u001b[1;33m     \u001b[1;32mreturn\u001b[0m \u001b[0mnp\u001b[0m\u001b[1;33m.\u001b[0m\u001b[0mrandom\u001b[0m\u001b[1;33m.\u001b[0m\u001b[0mchoice\u001b[0m\u001b[1;33m(\u001b[0m\u001b[0mlist\u001b[0m\u001b[1;33m(\u001b[0m\u001b[0mdiff\u001b[0m\u001b[1;33m)\u001b[0m\u001b[1;33m)\u001b[0m\u001b[1;33m\u001b[0m\u001b[0m\n\u001b[0m",
      "\u001b[1;32mmtrand.pyx\u001b[0m in \u001b[0;36mmtrand.RandomState.choice\u001b[1;34m()\u001b[0m\n",
      "\u001b[1;31mValueError\u001b[0m: a must be non-empty"
     ]
    }
   ],
   "source": [
    "mutate(\"ATTTAGC\") #nope"
   ]
  },
  {
   "cell_type": "markdown",
   "metadata": {},
   "source": [
    "### Q. Describe how the `seqdata()` function below works:\n",
    "Annotate the code by inserting lines with comments as you read through the function to make sense of it. What is being created at each step and how is it used?\n",
    "\n",
    "\n",
    "A. this function simulates an array of sequences with indels and point mutations. it takes two inputs: ninds, the number of sequences to generate; and nsites, the length of the sequences to generate"
   ]
  },
  {
   "cell_type": "code",
   "execution_count": 58,
   "metadata": {},
   "outputs": [
    {
     "name": "stdout",
     "output_type": "stream",
     "text": [
      "['G' 'C' 'G' 'T' 'G' 'T' 'T' 'G' 'A' 'A']\n",
      "[['G' 'C' 'G' 'T' 'G' 'T' 'T' 'G' 'A' 'A']\n",
      " ['G' 'C' 'G' 'T' 'G' 'T' 'T' 'G' 'A' 'A']\n",
      " ['G' 'C' 'G' 'T' 'G' 'T' 'T' 'G' 'A' 'A']\n",
      " ['G' 'C' 'G' 'T' 'G' 'T' 'T' 'G' 'A' 'A']\n",
      " ['G' 'C' 'G' 'T' 'G' 'T' 'T' 'G' 'A' 'A']]\n"
     ]
    }
   ],
   "source": [
    "ninds = 5\n",
    "nsites = 10\n",
    "oseq = np.random.choice(list(\"ACGT\"), size=nsites)    #original seq? get a random seq of length = nsites\n",
    "arr = np.array([oseq for i in range(ninds)]) \n",
    "print(oseq)\n",
    "print(arr)"
   ]
  },
  {
   "cell_type": "code",
   "execution_count": 59,
   "metadata": {},
   "outputs": [
    {
     "name": "stdout",
     "output_type": "stream",
     "text": [
      "[[0 0 0 0 0 0 1 0 0 0]\n",
      " [0 0 0 0 0 0 0 0 0 0]\n",
      " [0 0 0 0 0 0 0 0 0 0]\n",
      " [0 0 0 0 0 1 0 1 0 0]\n",
      " [0 0 0 0 0 0 0 0 0 0]]\n"
     ]
    }
   ],
   "source": [
    "muts = np.random.binomial(1, 0.1, (ninds, nsites)) \n",
    "print(muts)\n",
    "\n",
    "for col in range(nsites):\n",
    "    newbase = mutate(arr[0, col])\n",
    "    mask = muts[:, col].astype(bool)\n",
    "    arr[:, col][mask] = newbase"
   ]
  },
  {
   "cell_type": "code",
   "execution_count": 61,
   "metadata": {
    "scrolled": true
   },
   "outputs": [
    {
     "name": "stdout",
     "output_type": "stream",
     "text": [
      "['G' 'C' 'G' 'T' 'G' 'T' 'T' 'G' 'A' 'A']\n",
      "T\n",
      "range(0, 5)\n",
      "9\n",
      "[False False False False False]\n"
     ]
    }
   ],
   "source": [
    "print(oseq)\n",
    "newbase = mutate(oseq[0])\n",
    "print(newbase)\n",
    "\n",
    "print(range(ninds))\n",
    "print(col)\n",
    "mask = muts[:, col].astype(bool)\n",
    "print(mask)"
   ]
  },
  {
   "cell_type": "code",
   "execution_count": 63,
   "metadata": {},
   "outputs": [
    {
     "name": "stdout",
     "output_type": "stream",
     "text": [
      "[['G' 'C' 'N' 'N' 'G' 'N' 'A' 'G' 'A' 'N']\n",
      " ['G' 'C' 'G' 'T' 'G' 'T' 'T' 'G' 'A' 'N']\n",
      " ['N' 'C' 'G' 'T' 'N' 'T' 'N' 'N' 'A' 'A']\n",
      " ['G' 'C' 'G' 'N' 'G' 'A' 'T' 'A' 'A' 'A']\n",
      " ['G' 'C' 'G' 'T' 'G' 'T' 'T' 'G' 'A' 'A']]\n"
     ]
    }
   ],
   "source": [
    "missing = np.random.binomial(1, 0.1, (ninds, nsites))\n",
    "arr[missing.astype(bool)] = \"N\"\n",
    "print(arr)"
   ]
  },
  {
   "cell_type": "code",
   "execution_count": 75,
   "metadata": {},
   "outputs": [],
   "source": [
    "def simulate(ninds, nsites):                              #define fxn, two inputs\n",
    "    oseq = np.random.choice(list(\"ACGT\"), size=nsites)    #original seq? get a random seq of length = nsites\n",
    "    arr = np.array([oseq for i in range(ninds)])          #create an array by duplicating oseq into number of rows = ninds\n",
    "    muts = np.random.binomial(1, 0.1, (ninds, nsites))    #create a integer boolean mask using binomial. mutation rate = 0.1\n",
    "    for col in range(nsites):                             #for i in each integer in nsites,\n",
    "        newbase = mutate(arr[0, col])    #mutate each base in seq... could have done newbase = mutate(oseq[col])? any difference?\n",
    "        mask = muts[:, col].astype(bool)                  #convert integer mask to actual bool mask\n",
    "        arr[:, col][mask] = newbase                       #convert arr position to newbase only if the mutation mask is true\n",
    "    missing = np.random.binomial(1, 0.1, (ninds, nsites)) #creates missing values.... simulation of indels?\n",
    "    arr[missing.astype(bool)] = \"N\"                       #returns missing values as N\n",
    "    return arr"
   ]
  },
  {
   "cell_type": "code",
   "execution_count": 76,
   "metadata": {},
   "outputs": [
    {
     "name": "stdout",
     "output_type": "stream",
     "text": [
      "[['N' 'C' 'N' 'G' 'C' 'C' 'A' 'T' 'G' 'C' 'C' 'N' 'G' 'T' 'G']\n",
      " ['N' 'C' 'T' 'G' 'C' 'N' 'C' 'G' 'C' 'C' 'C' 'G' 'G' 'A' 'G']\n",
      " ['T' 'C' 'N' 'G' 'C' 'C' 'N' 'T' 'N' 'G' 'C' 'G' 'N' 'T' 'G']\n",
      " ['T' 'C' 'T' 'G' 'C' 'C' 'A' 'T' 'G' 'C' 'C' 'G' 'T' 'A' 'G']\n",
      " ['T' 'C' 'T' 'G' 'C' 'C' 'A' 'T' 'G' 'C' 'C' 'G' 'G' 'T' 'G']\n",
      " ['T' 'C' 'T' 'G' 'T' 'N' 'A' 'T' 'G' 'C' 'C' 'G' 'G' 'T' 'G']]\n"
     ]
    }
   ],
   "source": [
    "seqs = simulate(6, 15)\n",
    "print(seqs)"
   ]
  },
  {
   "cell_type": "markdown",
   "metadata": {},
   "source": [
    "### **Q: Describe how the `filter_missing` function works:**\n",
    "Annotate the code by inserting lines with comments as you read through the function to make sense of it. How does it find columns with missing (N) values in them? How might you mprove it?\n",
    "\n",
    "A. this filters the sequences based on indel frequency. if the frequency of missing N values in any column in arr is higher than maxfreq, it is not returned"
   ]
  },
  {
   "cell_type": "code",
   "execution_count": 72,
   "metadata": {},
   "outputs": [
    {
     "name": "stdout",
     "output_type": "stream",
     "text": [
      "[1 0 1 2 1 1 1 1 0 2]\n",
      "[0.2 0.  0.2 0.4 0.2 0.2 0.2 0.2 0.  0.4]\n",
      "[['C' 'A']\n",
      " ['C' 'A']\n",
      " ['C' 'A']\n",
      " ['C' 'A']\n",
      " ['C' 'A']]\n"
     ]
    }
   ],
   "source": [
    "print(np.sum(arr == \"N\", axis=0))\n",
    "print(np.sum(arr == \"N\", axis=0)/arr.shape[0])\n",
    "\n",
    "maxfreq = 0.1\n",
    "freqmissing = np.sum(arr == \"N\", axis=0) / arr.shape[0]\n",
    "print(arr[:, freqmissing <= maxfreq])"
   ]
  },
  {
   "cell_type": "code",
   "execution_count": 73,
   "metadata": {},
   "outputs": [],
   "source": [
    "def filter_missing(arr, maxfreq):                            #def fxn two inputs; one is arr from above?\n",
    "    freqmissing = np.sum(arr == \"N\", axis=0) / arr.shape[0]  #total frequency of indels per column?\n",
    "    return arr[:, freqmissing <= maxfreq]                    #filter cols with indel frequency higher than input, maxfreq"
   ]
  },
  {
   "cell_type": "code",
   "execution_count": 78,
   "metadata": {},
   "outputs": [
    {
     "data": {
      "text/plain": [
       "array([['C', 'G', 'C', 'T', 'C', 'C', 'T', 'G'],\n",
       "       ['C', 'G', 'C', 'G', 'C', 'C', 'A', 'G'],\n",
       "       ['C', 'G', 'C', 'T', 'G', 'C', 'T', 'G'],\n",
       "       ['C', 'G', 'C', 'T', 'C', 'C', 'A', 'G'],\n",
       "       ['C', 'G', 'C', 'T', 'C', 'C', 'T', 'G'],\n",
       "       ['C', 'G', 'T', 'T', 'C', 'C', 'T', 'G']], dtype='<U1')"
      ]
     },
     "execution_count": 78,
     "metadata": {},
     "output_type": "execute_result"
    }
   ],
   "source": [
    "filter_missing(seqs, 0.1)"
   ]
  },
  {
   "cell_type": "markdown",
   "metadata": {},
   "source": [
    "### **Q: Describe how the `filter_maf` function works:**\n",
    "Annotate the code by inserting lines with comments as you read through the function to make sense of it. How does it calculate minor allele frequencies? Why does it use copy?\n",
    "\n",
    "A. this function filters the array by first calculating the allele frequency and then selecting the minor (>0.5) frequency."
   ]
  },
  {
   "cell_type": "code",
   "execution_count": 89,
   "metadata": {},
   "outputs": [
    {
     "name": "stdout",
     "output_type": "stream",
     "text": [
      "[['G' 'C' 'N' 'N' 'G' 'N' 'A' 'G' 'A' 'N']\n",
      " ['G' 'C' 'G' 'T' 'G' 'T' 'T' 'G' 'A' 'N']\n",
      " ['N' 'C' 'G' 'T' 'N' 'T' 'N' 'N' 'A' 'A']\n",
      " ['G' 'C' 'G' 'N' 'G' 'A' 'T' 'A' 'A' 'A']\n",
      " ['G' 'C' 'G' 'T' 'G' 'T' 'T' 'G' 'A' 'A']]\n",
      "[[False False False False False False False False False False]\n",
      " [False False  True  True False  True  True False False False]\n",
      " [ True False  True  True  True  True  True  True False  True]\n",
      " [False False  True False False  True  True  True False  True]\n",
      " [False False  True  True False  True  True False False  True]]\n",
      "[1 0 4 3 1 4 4 2 0 3]\n"
     ]
    }
   ],
   "source": [
    "print(arr)\n",
    "print(arr != arr[0])\n",
    "\n",
    "print(np.sum(arr != arr[0], axis=0)) #/ arr.shape[0]\n",
    "\n",
    "maf = freqs.copy()                                       #makes a copy of this value...\n",
    "    maf[maf > 0.5] = 1 - maf[maf > 0.5] "
   ]
  },
  {
   "cell_type": "code",
   "execution_count": 97,
   "metadata": {},
   "outputs": [
    {
     "name": "stdout",
     "output_type": "stream",
     "text": [
      "[0.2 0.  0.8 0.6 0.2 0.8 0.8 0.4 0.  0.6]\n",
      "[0.2 0.  0.2 0.4 0.2 0.2 0.2 0.4 0.  0.4]\n",
      "[['G' 'N' 'N' 'G' 'N' 'A' 'G' 'N']\n",
      " ['G' 'G' 'T' 'G' 'T' 'T' 'G' 'N']\n",
      " ['N' 'G' 'T' 'N' 'T' 'N' 'N' 'A']\n",
      " ['G' 'G' 'N' 'G' 'A' 'T' 'A' 'A']\n",
      " ['G' 'G' 'T' 'G' 'T' 'T' 'G' 'A']]\n"
     ]
    }
   ],
   "source": [
    "freqs = np.sum(arr != arr[0], axis=0) / arr.shape[0]\n",
    "maf = freqs.copy()   #makes a copy of this value...\n",
    "print(maf)\n",
    "\n",
    "minfreq = 0.1\n",
    "maf[maf > 0.5] = 1 - maf[maf > 0.5]\n",
    "print(maf)\n",
    "print(arr[:, maf > minfreq])"
   ]
  },
  {
   "cell_type": "code",
   "execution_count": 99,
   "metadata": {},
   "outputs": [],
   "source": [
    "def filter_maf(arr, minfreq):                                #minor allele frequency... MAF? input is arr and given minfreq\n",
    "    freqs = np.sum(arr != arr[0], axis=0) / arr.shape[0]  #adds up number of times the first seq matches the rest in the array\n",
    "    maf = freqs.copy()                                       #makes a copy of this value...\n",
    "    maf[maf > 0.5] = 1 - maf[maf > 0.5]          #actually get minor allele freq. if freq cal'd above is >0.5, do 1-freq\n",
    "    return arr[:, maf > minfreq]                     #return all rows of arr if the MAF is greater than 0.1. (cutoff is QC?)"
   ]
  },
  {
   "cell_type": "code",
   "execution_count": 100,
   "metadata": {},
   "outputs": [
    {
     "data": {
      "text/plain": [
       "array([['N', 'N', 'C', 'C', 'A', 'T', 'G', 'C', 'N', 'G', 'T'],\n",
       "       ['N', 'T', 'C', 'N', 'C', 'G', 'C', 'C', 'G', 'G', 'A'],\n",
       "       ['T', 'N', 'C', 'C', 'N', 'T', 'N', 'G', 'G', 'N', 'T'],\n",
       "       ['T', 'T', 'C', 'C', 'A', 'T', 'G', 'C', 'G', 'T', 'A'],\n",
       "       ['T', 'T', 'C', 'C', 'A', 'T', 'G', 'C', 'G', 'G', 'T'],\n",
       "       ['T', 'T', 'T', 'N', 'A', 'T', 'G', 'C', 'G', 'G', 'T']],\n",
       "      dtype='<U1')"
      ]
     },
     "execution_count": 100,
     "metadata": {},
     "output_type": "execute_result"
    }
   ],
   "source": [
    "filter_maf(seqs, 0.1)"
   ]
  },
  {
   "cell_type": "markdown",
   "metadata": {},
   "source": [
    "### Q: What order should these functions be applied, does it matter?\n",
    "\n",
    "A. it seems like both arrays are identical, regardless of order. However, I feel that the filter_missing function should probably be applied before the filter_maf function, to form a pipeline of first QC and then analysis. THis corresponds to the second cell below"
   ]
  },
  {
   "cell_type": "code",
   "execution_count": 101,
   "metadata": {},
   "outputs": [
    {
     "data": {
      "text/plain": [
       "array([['C', 'T', 'C', 'T'],\n",
       "       ['C', 'G', 'C', 'A'],\n",
       "       ['C', 'T', 'G', 'T'],\n",
       "       ['C', 'T', 'C', 'A'],\n",
       "       ['C', 'T', 'C', 'T'],\n",
       "       ['T', 'T', 'C', 'T']], dtype='<U1')"
      ]
     },
     "execution_count": 101,
     "metadata": {},
     "output_type": "execute_result"
    }
   ],
   "source": [
    "filter_missing(filter_maf(seqs, 0.1), 0.1)"
   ]
  },
  {
   "cell_type": "code",
   "execution_count": 102,
   "metadata": {},
   "outputs": [
    {
     "data": {
      "text/plain": [
       "array([['C', 'T', 'C', 'T'],\n",
       "       ['C', 'G', 'C', 'A'],\n",
       "       ['C', 'T', 'G', 'T'],\n",
       "       ['C', 'T', 'C', 'A'],\n",
       "       ['C', 'T', 'C', 'T'],\n",
       "       ['T', 'T', 'C', 'T']], dtype='<U1')"
      ]
     },
     "execution_count": 102,
     "metadata": {},
     "output_type": "execute_result"
    }
   ],
   "source": [
    "filter_maf(filter_missing(seqs, 0.1), 0.1)"
   ]
  },
  {
   "cell_type": "markdown",
   "metadata": {},
   "source": [
    "### Q: Describe how `calculate_statistics()` works\n",
    "\n",
    "\n",
    "A. calculates a bunch of biologically relevant statistics using array np functions"
   ]
  },
  {
   "cell_type": "code",
   "execution_count": 107,
   "metadata": {},
   "outputs": [
    {
     "data": {
      "text/plain": [
       "array([0.16, 0.  , 0.16, 0.24, 0.16, 0.16, 0.16, 0.24, 0.  , 0.24])"
      ]
     },
     "execution_count": 107,
     "metadata": {},
     "output_type": "execute_result"
    }
   ],
   "source": [
    "np.var(arr == arr[0], axis=0)"
   ]
  },
  {
   "cell_type": "code",
   "execution_count": 116,
   "metadata": {
    "scrolled": true
   },
   "outputs": [
    {
     "name": "stdout",
     "output_type": "stream",
     "text": [
      "[['G' 'C' 'N' 'N' 'G' 'N' 'A' 'G' 'A' 'N']\n",
      " ['G' 'C' 'G' 'T' 'G' 'T' 'T' 'G' 'A' 'N']\n",
      " ['N' 'C' 'G' 'T' 'N' 'T' 'N' 'N' 'A' 'A']\n",
      " ['G' 'C' 'G' 'N' 'G' 'A' 'T' 'A' 'A' 'A']\n",
      " ['G' 'C' 'G' 'T' 'G' 'T' 'T' 'G' 'A' 'A']]\n",
      "[1 0 4 3 1 4 4 2 0 3]\n",
      "2.2\n",
      "5\n",
      "0.43999999999999995\n"
     ]
    }
   ],
   "source": [
    "print(arr)\n",
    "\n",
    "print(np.sum(arr != arr[0], axis=0))\n",
    "\n",
    "print(np.mean(np.sum(arr != arr[0], axis=0)))\n",
    "\n",
    "print(arr.shape[0])\n",
    "print(np.mean(np.sum(arr != arr[0], axis=0) / arr.shape[0]))"
   ]
  },
  {
   "cell_type": "code",
   "execution_count": 120,
   "metadata": {},
   "outputs": [
    {
     "name": "stdout",
     "output_type": "stream",
     "text": [
      "[ True False  True  True  True  True  True  True False  True]\n"
     ]
    },
    {
     "data": {
      "text/plain": [
       "8"
      ]
     },
     "execution_count": 120,
     "metadata": {},
     "output_type": "execute_result"
    }
   ],
   "source": [
    "print(np.any(arr != arr[0], axis=0))\n",
    "np.any(arr != arr[0], axis=0).sum()"
   ]
  },
  {
   "cell_type": "code",
   "execution_count": 12,
   "metadata": {},
   "outputs": [],
   "source": [
    "def calculcate_statistics(arr):                                #fxn takes arr as arg\n",
    "    nd = np.var(arr == arr[0], axis=0).mean()                  #mean nt diversity: mean of variance values of each row\n",
    "    mf = np.mean(np.sum(arr != arr[0], axis=0) / arr.shape[0]) #mean minor allele freq: sum # not = first row, divide by $# rows, take mean\n",
    "    inv = np.any(arr != arr[0], axis=0).sum()                  #invariant sites: count num not equal to first seq?\n",
    "    var = arr.shape[1] - inv                                   #variable sites: num cols - num not equal to first seq?\n",
    "    return pd.Series(\n",
    "        {\"mean nucleotide diversity\": nd,\n",
    "         \"mean minor allele frequency\": mf,\n",
    "         \"invariant sites\": inv,\n",
    "         \"variable sites\": var,\n",
    "        })"
   ]
  },
  {
   "cell_type": "code",
   "execution_count": 13,
   "metadata": {},
   "outputs": [
    {
     "data": {
      "text/plain": [
       "invariant sites                12.000000\n",
       "mean minor allele frequency     0.255556\n",
       "mean nucleotide diversity       0.150000\n",
       "variable sites                  3.000000\n",
       "dtype: float64"
      ]
     },
     "execution_count": 13,
     "metadata": {},
     "output_type": "execute_result"
    }
   ],
   "source": [
    "calculcate_statistics(seqs)"
   ]
  },
  {
   "cell_type": "markdown",
   "metadata": {},
   "source": [
    "### Instructions: Write a `seqlib` Class object\n",
    "\n",
    "I started writing the bare bones of it below. You should write it so that it can be executed as described below to perform all of the functions we defined above, and so that its attributes can be accessed. Save this class object in a `.py` file and make it into an importable package called `seqlib`. You can write and test your object in this notebook if you like, but it must be saved separately in a `.py` file and be imported. You cannot execute the code at the end using your object defined here in the notebook. When finished save your package to GitHub as a repo just like we did with the `helloworld` package. You do not need to write a CLI script like we did for the `helloworld` package, we will only be using the Python API here. See the examples below for **how you should write your Class object**. It should be able to run in the way written below, so look at that code and think about how you would write a Class object that can do that. \n",
    "\n",
    "While you can mostly copy the functions from above, you will need to modify them slightly to access information about the Class object using *self*. For example, the `simulate()` function below takes self as a first argument and can access `self.inds` and `self.nsites` from that, so we do not need to provide those as arguments to the `simulate` function like we did above. "
   ]
  },
  {
   "cell_type": "code",
   "execution_count": 137,
   "metadata": {},
   "outputs": [],
   "source": [
    "import numpy as np\n",
    "import pandas as pd"
   ]
  },
  {
   "cell_type": "code",
   "execution_count": 168,
   "metadata": {
    "scrolled": true
   },
   "outputs": [],
   "source": [
    "class Seqlib:\n",
    "    def __init__(self, ninds, nsites): #no minfreq and maxfreq?\n",
    "        self.ninds = ninds\n",
    "        self.nsites = nsites\n",
    "        #self.maxfreq = maxfreq    #this did not work...\n",
    "        #self.minfreq = minfreq\n",
    "        #self.arr = None\n",
    "        #self.PD = None\n",
    "        self.seqs = self.simulate(ninds, nsites)\n",
    "        \n",
    "    def mutate(self, base):\n",
    "        diff = set(\"ACTG\") - set(base)\n",
    "        return np.random.choice(list(diff))\n",
    "        \n",
    "    def simulate(self):\n",
    "        oseq = np.random.choice(list(\"ACGT\"), size=self.nsites)    #original seq? get a random seq of length = nsites\n",
    "        arr = np.array([oseq for i in range(self.ninds)])          #create an array by duplicating oseq into number of rows = ninds\n",
    "        muts = np.random.binomial(1, 0.1, (self.ninds, self.nsites))    #create a integer boolean mask using binomial. mutation rate = 0.1\n",
    "        for col in range(self.nsites):                             #for i in each integer in nsites,\n",
    "            newbase = mutate(arr[0, col])    #mutate each base in seq... could have done newbase = mutate(oseq[col])? any difference?\n",
    "            mask = muts[:, col].astype(bool)                  #convert integer mask to actual bool mask\n",
    "            arr[:, col][mask] = newbase                       #convert arr position to newbase only if the mutation mask is true\n",
    "        missing = np.random.binomial(1, 0.1, (self.ninds, self.nsites)) #creates missing values.... simulation of indels?\n",
    "        arr[missing.astype(bool)] = \"N\"                       #returns missing values as N\n",
    "        return arr\n",
    "        #self.arr = arr #this did not work\n",
    "\n",
    "    def filter_missing(arr, maxfreq):                            #def fxn two inputs; one is arr from above?\n",
    "        freqmissing = np.sum(arr == \"N\", axis=0) / arr.shape[0]  #total frequency of indels per column?\n",
    "        arr[:, freqmissing <= maxfreq]                    #filter cols with indel frequency higher than input, maxfreq\n",
    "        #self.arr = arr[:, freqmissing <= maxfreq]\n",
    "        return arr\n",
    "        \n",
    "    def filter_maf(arr, minfreq):                                #minor allele frequency... MAF? input is arr and given minfreq\n",
    "        freqs = np.sum(arr != arr[0], axis=0) / arr.shape[0]  #adds up number of times the first seq matches the rest in the array\n",
    "        maf = freqs.copy()                                       #makes a copy of this value...\n",
    "        maf[maf > 0.5] = 1 - maf[maf > 0.5]          #actually get minor allele freq. if freq cal'd above is >0.5, do 1-freq\n",
    "        return arr[:, maf > minfreq]                     #return all rows of arr if the MAF is greater than 0.1. (cutoff is QC?)\n",
    "        #self.arr = arr[:, maf > minfreq]\n",
    "\n",
    "    def maf(self):\n",
    "        arr = self.simulate()  #gen array\n",
    "        freqs = np.sum(arr != arr[0], axis=0) / arr.shape[0] #adds up number of times the first seq matches the rest in the array\n",
    "        maf = freqs.copy()\n",
    "        maf[maf > 0.5] = 1 - maf[maf > 0.5]               #get minor allele freq. if freq cal'd above is >0.5, do 1-freq\n",
    "        return freqs\n",
    "        \n",
    "    def filter(self, minfreq, maxfreq):\n",
    "        maf = self.filter_maf(self.filter_missing(maxfreq), minfreq)\n",
    "        return maf    \n",
    "        \n",
    "    def calculcate_statistics(self):                                #fxn takes arr as arg\n",
    "        nd = np.var(arr == arr[0], axis=0).mean()                  #mean nt diversity: mean of variance values of each row\n",
    "        mf = np.mean(np.sum(arr != arr[0], axis=0) / arr.shape[0]) #mean minor allele freq: sum # not = first row, divide by $# rows, take mean\n",
    "        inv = np.any(arr != arr[0], axis=0).sum()                  #invariant sites: count num not equal to first seq?\n",
    "        var = arr.shape[1] - inv                                   #variable sites: num cols - num not equal to first seq?\n",
    "        return pd.Series(\n",
    "            {\"mean nucleotide diversity\": nd,\n",
    "             \"mean minor allele frequency\": mf,\n",
    "             \"invariant sites\": inv,\n",
    "             \"variable sites\": var,\n",
    "            })"
   ]
  },
  {
   "cell_type": "code",
   "execution_count": 169,
   "metadata": {},
   "outputs": [
    {
     "ename": "TypeError",
     "evalue": "simulate() takes 1 positional argument but 3 were given",
     "output_type": "error",
     "traceback": [
      "\u001b[1;31m---------------------------------------------------------------------------\u001b[0m",
      "\u001b[1;31mTypeError\u001b[0m                                 Traceback (most recent call last)",
      "\u001b[1;32m<ipython-input-169-e9f0ff253fbf>\u001b[0m in \u001b[0;36m<module>\u001b[1;34m()\u001b[0m\n\u001b[1;32m----> 1\u001b[1;33m \u001b[0mseqs\u001b[0m \u001b[1;33m=\u001b[0m \u001b[0mSeqlib\u001b[0m\u001b[1;33m(\u001b[0m\u001b[0mninds\u001b[0m \u001b[1;33m=\u001b[0m \u001b[1;36m10\u001b[0m\u001b[1;33m,\u001b[0m \u001b[0mnsites\u001b[0m \u001b[1;33m=\u001b[0m \u001b[1;36m50\u001b[0m\u001b[1;33m)\u001b[0m\u001b[1;33m\u001b[0m\u001b[0m\n\u001b[0m\u001b[0;32m      2\u001b[0m \u001b[0mseqs\u001b[0m\u001b[1;33m\u001b[0m\u001b[0m\n",
      "\u001b[1;32m<ipython-input-168-2ff09d8b9ece>\u001b[0m in \u001b[0;36m__init__\u001b[1;34m(self, ninds, nsites)\u001b[0m\n\u001b[0;32m      7\u001b[0m         \u001b[1;31m#self.arr = None\u001b[0m\u001b[1;33m\u001b[0m\u001b[1;33m\u001b[0m\u001b[0m\n\u001b[0;32m      8\u001b[0m         \u001b[1;31m#self.PD = None\u001b[0m\u001b[1;33m\u001b[0m\u001b[1;33m\u001b[0m\u001b[0m\n\u001b[1;32m----> 9\u001b[1;33m         \u001b[0mself\u001b[0m\u001b[1;33m.\u001b[0m\u001b[0mseqs\u001b[0m \u001b[1;33m=\u001b[0m \u001b[0mself\u001b[0m\u001b[1;33m.\u001b[0m\u001b[0msimulate\u001b[0m\u001b[1;33m(\u001b[0m\u001b[0mninds\u001b[0m\u001b[1;33m,\u001b[0m \u001b[0mnsites\u001b[0m\u001b[1;33m)\u001b[0m\u001b[1;33m\u001b[0m\u001b[0m\n\u001b[0m\u001b[0;32m     10\u001b[0m \u001b[1;33m\u001b[0m\u001b[0m\n\u001b[0;32m     11\u001b[0m     \u001b[1;32mdef\u001b[0m \u001b[0mmutate\u001b[0m\u001b[1;33m(\u001b[0m\u001b[0mself\u001b[0m\u001b[1;33m,\u001b[0m \u001b[0mbase\u001b[0m\u001b[1;33m)\u001b[0m\u001b[1;33m:\u001b[0m\u001b[1;33m\u001b[0m\u001b[0m\n",
      "\u001b[1;31mTypeError\u001b[0m: simulate() takes 1 positional argument but 3 were given"
     ]
    }
   ],
   "source": [
    "seqs = Seqlib(ninds = 10, nsites = 50)\n",
    "seqs"
   ]
  },
  {
   "cell_type": "markdown",
   "metadata": {},
   "source": [
    "## Test your package\n",
    "The package should be globally importable (you ran `pip install .` or `pip install -e .` to install it), and it should be able to execute the following code without error. "
   ]
  },
  {
   "cell_type": "code",
   "execution_count": 171,
   "metadata": {
    "scrolled": true
   },
   "outputs": [],
   "source": [
    "import seqlib"
   ]
  },
  {
   "cell_type": "code",
   "execution_count": 172,
   "metadata": {},
   "outputs": [
    {
     "ename": "TypeError",
     "evalue": "simulate() takes 1 positional argument but 3 were given",
     "output_type": "error",
     "traceback": [
      "\u001b[1;31m---------------------------------------------------------------------------\u001b[0m",
      "\u001b[1;31mTypeError\u001b[0m                                 Traceback (most recent call last)",
      "\u001b[1;32m<ipython-input-172-9de2b365a656>\u001b[0m in \u001b[0;36m<module>\u001b[1;34m()\u001b[0m\n\u001b[0;32m      1\u001b[0m \u001b[1;31m# init a Seqlib Class object\u001b[0m\u001b[1;33m\u001b[0m\u001b[1;33m\u001b[0m\u001b[0m\n\u001b[1;32m----> 2\u001b[1;33m \u001b[0mseqs\u001b[0m \u001b[1;33m=\u001b[0m \u001b[0mseqlib\u001b[0m\u001b[1;33m.\u001b[0m\u001b[0mSeqlib\u001b[0m\u001b[1;33m(\u001b[0m\u001b[0mninds\u001b[0m\u001b[1;33m=\u001b[0m\u001b[1;36m10\u001b[0m\u001b[1;33m,\u001b[0m \u001b[0mnsites\u001b[0m\u001b[1;33m=\u001b[0m\u001b[1;36m50\u001b[0m\u001b[1;33m)\u001b[0m\u001b[1;33m\u001b[0m\u001b[0m\n\u001b[0m",
      "\u001b[1;32m~\\Miniconda3\\lib\\site-packages\\seqlib\\seqlib.py\u001b[0m in \u001b[0;36m__init__\u001b[1;34m(self, ninds, nsites)\u001b[0m\n\u001b[0;32m     10\u001b[0m         \u001b[1;31m#self.arr = None\u001b[0m\u001b[1;33m\u001b[0m\u001b[1;33m\u001b[0m\u001b[0m\n\u001b[0;32m     11\u001b[0m         \u001b[1;31m#self.PD = None\u001b[0m\u001b[1;33m\u001b[0m\u001b[1;33m\u001b[0m\u001b[0m\n\u001b[1;32m---> 12\u001b[1;33m         \u001b[0mself\u001b[0m\u001b[1;33m.\u001b[0m\u001b[0mseqs\u001b[0m \u001b[1;33m=\u001b[0m \u001b[0mself\u001b[0m\u001b[1;33m.\u001b[0m\u001b[0msimulate\u001b[0m\u001b[1;33m(\u001b[0m\u001b[0mninds\u001b[0m\u001b[1;33m,\u001b[0m \u001b[0mnsites\u001b[0m\u001b[1;33m)\u001b[0m\u001b[1;33m\u001b[0m\u001b[0m\n\u001b[0m\u001b[0;32m     13\u001b[0m \u001b[1;33m\u001b[0m\u001b[0m\n\u001b[0;32m     14\u001b[0m     \u001b[1;32mdef\u001b[0m \u001b[0mmutate\u001b[0m\u001b[1;33m(\u001b[0m\u001b[0mself\u001b[0m\u001b[1;33m,\u001b[0m \u001b[0mbase\u001b[0m\u001b[1;33m)\u001b[0m\u001b[1;33m:\u001b[0m\u001b[1;33m\u001b[0m\u001b[0m\n",
      "\u001b[1;31mTypeError\u001b[0m: simulate() takes 1 positional argument but 3 were given"
     ]
    }
   ],
   "source": [
    "# init a Seqlib Class object\n",
    "seqs = seqlib.Seqlib(ninds=10, nsites=50)"
   ]
  },
  {
   "cell_type": "code",
   "execution_count": 173,
   "metadata": {},
   "outputs": [
    {
     "name": "stdout",
     "output_type": "stream",
     "text": [
      "10 50\n"
     ]
    }
   ],
   "source": [
    "# access attributes from the object\n",
    "print(seqs.ninds, seqs.nsites)"
   ]
  },
  {
   "cell_type": "code",
   "execution_count": null,
   "metadata": {},
   "outputs": [],
   "source": [
    "# returns the MAF of the array as an array of floats\n",
    "seqs.maf"
   ]
  },
  {
   "cell_type": "code",
   "execution_count": null,
   "metadata": {},
   "outputs": [],
   "source": [
    "# return a view of the filtered sequence array by applying a new function \n",
    "# called `filter()` that applies both the maf and missing filter functions\n",
    "seqs.filter(minmaf=0.1, maxmissing=0.0)"
   ]
  },
  {
   "cell_type": "code",
   "execution_count": null,
   "metadata": {},
   "outputs": [],
   "source": [
    "# calculate statistics for an array with the results returned as a DataFrame\n",
    "seqs.calculate_statistics()"
   ]
  },
  {
   "cell_type": "code",
   "execution_count": null,
   "metadata": {},
   "outputs": [],
   "source": [
    "# calculate statistics for an array after filtering it\n",
    "seqs.filter(minmaf=0.1, maxmissing=0.0).calculate_statistics()"
   ]
  }
 ],
 "metadata": {
  "kernelspec": {
   "display_name": "Python 3",
   "language": "python",
   "name": "python3"
  },
  "language_info": {
   "codemirror_mode": {
    "name": "ipython",
    "version": 3
   },
   "file_extension": ".py",
   "mimetype": "text/x-python",
   "name": "python",
   "nbconvert_exporter": "python",
   "pygments_lexer": "ipython3",
   "version": "3.6.3"
  }
 },
 "nbformat": 4,
 "nbformat_minor": 2
}
