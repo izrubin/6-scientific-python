{
 "cells": [
  {
   "cell_type": "markdown",
   "metadata": {},
   "source": [
    "# Assignment\n",
    "\n",
    "-------------\n",
    "\n",
    "**1) Complete this notebook and make a pull request:** \n",
    "\n",
    "Answer questions (Q) in the space provided (A) in this notebook. When finished, copy your notebook to the `Assignment/` directory and name it `nb-6.5-<Github-username>.ipynb`. Then make a pull request to the upstream repo. The entered answers in this notebook will be simply Markdown text where I want you to interpret and describe a block of code to better understand what it is doing. Much of this code you will have seen already. \n",
    "\n",
    "\n",
    "**2) Write an importable Python package, save as a repo, and test it here.**\n",
    "\n",
    "The package should be written as we did in our last lession (`.py` files in a directory with a setup.py file so it can be installed with `pip`). Follow instructions at the end of this notebook for how to write your package. Test it here by importing the package and executing the code at the end. It should work and give correct answers, if not, continue working on it. When you have it completed save your package as a new Github repo named `seqlib`."
   ]
  },
  {
   "cell_type": "markdown",
   "metadata": {},
   "source": [
    "### The `seqlib` package\n",
    "\n",
    "Together we are going to write several functions here that will make up your new package called `seqlib`. It will be your job to copy these functions, organize them into a Class, save the code into a `.py` file (you can use SublimeText if you're comfortable with it for much of this, or any text editor including the one in jupyter), package the files so they can be imported as a library, and test the package so that it accomplishes the tasks which are defined at the end of this notebook. First things first, though, let's write the functions. "
   ]
  },
  {
   "cell_type": "code",
   "execution_count": 3,
   "metadata": {},
   "outputs": [],
   "source": [
    "import numpy as np\n",
    "import pandas as pd"
   ]
  },
  {
   "cell_type": "markdown",
   "metadata": {},
   "source": [
    "### Q.  Describe what the `mutate()` function below does:\n",
    "\n",
    "\n",
    "A. This function takes one base as an argument and returns any random base that is NOT the inputed base."
   ]
  },
  {
   "cell_type": "code",
   "execution_count": 9,
   "metadata": {},
   "outputs": [],
   "source": [
    "def mutate(base):\n",
    "    diff = set(\"ACTG\") - set(base) #Create a set of bases without the input base\n",
    "    return np.random.choice(list(diff)) #Choose a random base from the subset \"diff\"."
   ]
  },
  {
   "cell_type": "code",
   "execution_count": 13,
   "metadata": {},
   "outputs": [
    {
     "data": {
      "text/plain": [
       "'C'"
      ]
     },
     "execution_count": 13,
     "metadata": {},
     "output_type": "execute_result"
    }
   ],
   "source": [
    "# test it\n",
    "mutate(\"A\")"
   ]
  },
  {
   "cell_type": "markdown",
   "metadata": {},
   "source": [
    "### Q. Describe how the `seqdata()` function below works:\n",
    "Annotate the code by inserting lines with comments as you read through the function to make sense of it. What is being created at each step and how is it used?\n",
    "\n",
    "\n",
    "A. This function returns ninds number of simulated sequence as an array of nsites with mutations and missing bases added in at a 10% rate each. First it creates a random sequence of nistes length and creates ninds number of arrays. Next, a mask for a mutation rate of 0.10 is created. Then for each site in each of the sequences, the function mutates the base if it passes the 10% mutation filter. Another mask is created to insert missing bases (N) at a 10% rate. "
   ]
  },
  {
   "cell_type": "code",
   "execution_count": 23,
   "metadata": {},
   "outputs": [],
   "source": [
    "def simulate(ninds, nsites):\n",
    "    oseq = np.random.choice(list(\"ACGT\"), size=nsites) #Creates a random array of As, Ts, Cs and Gs of length nsites \n",
    "    arr = np.array([oseq for i in range(ninds)]) #Creates ninds number of arrays of length nsites using the code above. \n",
    "    muts = np.random.binomial(1, 0.1, (ninds, nsites)) #Creates a mask with a 10% success rate with dimensions of ninds x nsites \n",
    "    for col in range(nsites):\n",
    "        newbase = mutate(arr[0, col]) #Selecting a random new base other than the base present for each position in the sequences.\n",
    "        mask = muts[:, col].astype(bool) #creates a mask of bools for each position. \n",
    "        arr[:, col][mask] = newbase #mutate the base with the newbase if it passes the mask filter for mutations.\n",
    "    missing = np.random.binomial(1, 0.1, (ninds, nsites)) #creates another mask with a 10% success rate\n",
    "    arr[missing.astype(bool)] = \"N\" #replaces the base with an N if it passes the mask filter for missing bases.\n",
    "    return arr"
   ]
  },
  {
   "cell_type": "code",
   "execution_count": 42,
   "metadata": {},
   "outputs": [
    {
     "name": "stdout",
     "output_type": "stream",
     "text": [
      "[['T' 'G' 'T' 'G' 'G' 'C' 'C' 'N' 'A' 'N' 'N' 'C' 'T' 'T' 'C']\n",
      " ['T' 'G' 'T' 'G' 'G' 'C' 'C' 'T' 'A' 'C' 'A' 'N' 'T' 'T' 'G']\n",
      " ['T' 'G' 'T' 'G' 'A' 'C' 'C' 'T' 'C' 'C' 'A' 'C' 'T' 'T' 'C']\n",
      " ['N' 'A' 'T' 'G' 'G' 'C' 'A' 'T' 'A' 'C' 'A' 'C' 'T' 'C' 'N']\n",
      " ['N' 'G' 'T' 'G' 'G' 'T' 'C' 'T' 'A' 'C' 'A' 'C' 'N' 'T' 'C']\n",
      " ['T' 'G' 'T' 'G' 'G' 'C' 'C' 'T' 'A' 'C' 'A' 'G' 'T' 'C' 'G']]\n"
     ]
    }
   ],
   "source": [
    "seqs = simulate(6, 15)\n",
    "print(seqs)"
   ]
  },
  {
   "cell_type": "markdown",
   "metadata": {},
   "source": [
    "### **Q: Describe how the `filter_missing` function works:**\n",
    "Annotate the code by inserting lines with comments as you read through the function to make sense of it. How does it find columns with missing (N) values in them? How might you improve it?\n",
    "\n",
    "A. If one sequence has a missing allele in one position, this `filter_missing` function removes the position from all sequences. It sums the number of times N appears in each column and divides each sum by the number of sequences to find the mutation rate of the position. Then it selects a subset of the positions that are less than the given maxfreq and returns an array of the resulting sequences without any sequences above the max frequency. I could possibly improve it by using the np.where function. "
   ]
  },
  {
   "cell_type": "code",
   "execution_count": 53,
   "metadata": {},
   "outputs": [],
   "source": [
    "def filter_missing(arr, maxfreq):\n",
    "    freqmissing = np.sum(arr == \"N\", axis=0) / arr.shape[0] #Sums # of times N is found in a column and divides it by the number of rows.\n",
    "    return arr[:, freqmissing <= maxfreq] #selects those columns that have N frequencies less than or equal to the given maxfreq."
   ]
  },
  {
   "cell_type": "code",
   "execution_count": 54,
   "metadata": {},
   "outputs": [
    {
     "data": {
      "text/plain": [
       "array([['G', 'T', 'G', 'G', 'C', 'C', 'A', 'T'],\n",
       "       ['G', 'T', 'G', 'G', 'C', 'C', 'A', 'T'],\n",
       "       ['G', 'T', 'G', 'A', 'C', 'C', 'C', 'T'],\n",
       "       ['A', 'T', 'G', 'G', 'C', 'A', 'A', 'C'],\n",
       "       ['G', 'T', 'G', 'G', 'T', 'C', 'A', 'T'],\n",
       "       ['G', 'T', 'G', 'G', 'C', 'C', 'A', 'C']], dtype='<U1')"
      ]
     },
     "execution_count": 54,
     "metadata": {},
     "output_type": "execute_result"
    }
   ],
   "source": [
    "filter_missing(seqs, 0.1)"
   ]
  },
  {
   "cell_type": "markdown",
   "metadata": {},
   "source": [
    "### **Q: Describe how the `filter_maf` function works:**\n",
    "Annotate the code by inserting lines with comments as you read through the function to make sense of it. How does it calculate minor allele frequencies? Why does it use copy?\n",
    "\n",
    "A. `filter_maf` calcuates minor allele frequencies by summing the number of times a base is different from the first sequence and dividing that by the number of sequences. It uses copy becuase the function modifies the array to replace any major allele freqs to minor allele freqs (1 - major allele freqs) and we do not want to modify the actual freqs array. "
   ]
  },
  {
   "cell_type": "code",
   "execution_count": 65,
   "metadata": {},
   "outputs": [],
   "source": [
    "def filter_maf(arr, minfreq):\n",
    "    freqs = np.sum(arr != arr[0], axis=0) / arr.shape[0] #Sums the number of times a base is different from the first seq and divides it by length of columns.\n",
    "    maf = freqs.copy() #makes a copy of this array of minor allele freqs\n",
    "    maf[maf > 0.5] = 1 - maf[maf > 0.5] #subselect sites with major freq (>0.5) and modify these to be 1-the value\n",
    "    return arr[:, maf > minfreq] #Return columns that have minor allele freqs above the minimum freq. "
   ]
  },
  {
   "cell_type": "code",
   "execution_count": 66,
   "metadata": {},
   "outputs": [
    {
     "data": {
      "text/plain": [
       "array([['T', 'G', 'G', 'C', 'C', 'N', 'A', 'N', 'N', 'C', 'T', 'T', 'C'],\n",
       "       ['T', 'G', 'G', 'C', 'C', 'T', 'A', 'C', 'A', 'N', 'T', 'T', 'G'],\n",
       "       ['T', 'G', 'A', 'C', 'C', 'T', 'C', 'C', 'A', 'C', 'T', 'T', 'C'],\n",
       "       ['N', 'A', 'G', 'C', 'A', 'T', 'A', 'C', 'A', 'C', 'T', 'C', 'N'],\n",
       "       ['N', 'G', 'G', 'T', 'C', 'T', 'A', 'C', 'A', 'C', 'N', 'T', 'C'],\n",
       "       ['T', 'G', 'G', 'C', 'C', 'T', 'A', 'C', 'A', 'G', 'T', 'C', 'G']],\n",
       "      dtype='<U1')"
      ]
     },
     "execution_count": 66,
     "metadata": {},
     "output_type": "execute_result"
    }
   ],
   "source": [
    "filter_maf(seqs, 0.1)"
   ]
  },
  {
   "cell_type": "markdown",
   "metadata": {},
   "source": [
    "### Q: What order should these functions be applied, does it matter?\n",
    "\n",
    "A. It does not seem to matter what order these functinos are applied! This is because the minor allele frequencies will for any sequences that have N in them will ultimately be removed. "
   ]
  },
  {
   "cell_type": "code",
   "execution_count": 67,
   "metadata": {},
   "outputs": [
    {
     "data": {
      "text/plain": [
       "array([['G', 'G', 'C', 'C', 'A', 'T'],\n",
       "       ['G', 'G', 'C', 'C', 'A', 'T'],\n",
       "       ['G', 'A', 'C', 'C', 'C', 'T'],\n",
       "       ['A', 'G', 'C', 'A', 'A', 'C'],\n",
       "       ['G', 'G', 'T', 'C', 'A', 'T'],\n",
       "       ['G', 'G', 'C', 'C', 'A', 'C']], dtype='<U1')"
      ]
     },
     "execution_count": 67,
     "metadata": {},
     "output_type": "execute_result"
    }
   ],
   "source": [
    "filter_missing(filter_maf(seqs, 0.1), 0.1)"
   ]
  },
  {
   "cell_type": "code",
   "execution_count": 68,
   "metadata": {},
   "outputs": [
    {
     "data": {
      "text/plain": [
       "array([['G', 'G', 'C', 'C', 'A', 'T'],\n",
       "       ['G', 'G', 'C', 'C', 'A', 'T'],\n",
       "       ['G', 'A', 'C', 'C', 'C', 'T'],\n",
       "       ['A', 'G', 'C', 'A', 'A', 'C'],\n",
       "       ['G', 'G', 'T', 'C', 'A', 'T'],\n",
       "       ['G', 'G', 'C', 'C', 'A', 'C']], dtype='<U1')"
      ]
     },
     "execution_count": 68,
     "metadata": {},
     "output_type": "execute_result"
    }
   ],
   "source": [
    "filter_maf(filter_missing(seqs, 0.1), 0.1)"
   ]
  },
  {
   "cell_type": "markdown",
   "metadata": {},
   "source": [
    "### Q: Describe how `calculate_statistics()` works\n",
    "\n",
    "\n",
    "A. `calculate_statistics` takes the array created with `simulate` above and calculates the mean nucleotide diversity, mean minor allele frequency, number of invariant sites and the number of variable sites. The function does this by evaluating the variant or invariant sites across each position in the sequence. "
   ]
  },
  {
   "cell_type": "code",
   "execution_count": 74,
   "metadata": {},
   "outputs": [],
   "source": [
    "def calculcate_statistics(arr):\n",
    "    nd = np.var(arr == arr[0], axis=0).mean() #Calculates the mean of the variance across the sequences -> mean nucleotide diversity\n",
    "    mf = np.mean(np.sum(arr != arr[0], axis=0) / arr.shape[0]) #Calculates average of invariant sites frequency -> the minor allele frequency  \n",
    "    inv = np.any(arr != arr[0], axis=0).sum() #Sums the number of invariant sites (mutations)\n",
    "    var = arr.shape[1] - inv #Subtracts the number of invariant sites from the number of sites -> variable sites\n",
    "    return pd.Series(\n",
    "        {\"mean nucleotide diversity\": nd,\n",
    "         \"mean minor allele frequency\": mf,\n",
    "         \"invariant sites\": inv,\n",
    "         \"variable sites\": var,\n",
    "        })"
   ]
  },
  {
   "cell_type": "code",
   "execution_count": 75,
   "metadata": {},
   "outputs": [
    {
     "data": {
      "text/plain": [
       "invariant sites                13.000000\n",
       "mean minor allele frequency     0.333333\n",
       "mean nucleotide diversity       0.144444\n",
       "variable sites                  2.000000\n",
       "dtype: float64"
      ]
     },
     "execution_count": 75,
     "metadata": {},
     "output_type": "execute_result"
    }
   ],
   "source": [
    "calculcate_statistics(seqs)"
   ]
  },
  {
   "cell_type": "markdown",
   "metadata": {},
   "source": [
    "### Instructions: Write a `seqlib` Class object\n",
    "\n",
    "I started writing the bare bones of it below. You should write it so that it can be executed as described below to perform all of the functions we defined above, and so that its attributes can be accessed. Save this class object in a `.py` file and make it into an importable package called `seqlib`. You can write and test your object in this notebook if you like, but it must be saved separately in a `.py` file and be imported. You cannot execute the code at the end using your object defined here in the notebook. When finished save your package to GitHub as a repo just like we did with the `helloworld` package. You do not need to write a CLI script like we did for the `helloworld` package, we will only be using the Python API here. See the examples below for **how you should write your Class object**. It should be able to run in the way written below, so look at that code and think about how you would write a Class object that can do that. \n",
    "\n",
    "While you can mostly copy the functions from above, you will need to modify them slightly to access information about the Class object using *self*. For example, the `simulate()` function below takes self as a first argument and can access `self.inds` and `self.nsites` from that, so we do not need to provide those as arguments to the `simulate` function like we did above. "
   ]
  },
  {
   "cell_type": "code",
   "execution_count": 109,
   "metadata": {},
   "outputs": [],
   "source": [
    "class Seqlib:\n",
    "    def __init__(self, ninds, nsites):\n",
    "        self.ninds = ninds\n",
    "        self.nsites = nsites\n",
    "        self.arr = self.simulate(ninds, nsites)\n",
    "\n",
    "    def mutate(base):\n",
    "        diff = set(\"ACTG\") - set(base) #Create a set of bases without the input base\n",
    "        return np.random.choice(list(diff)) #Choose a random base from the subset \"diff\"\n",
    "    \n",
    "    def simulate(self, ninds, nsites):\n",
    "        oseq = np.random.choice(list(\"ACGT\"), size=self.nsites) #Creates a random array of As, Ts, Cs and Gs of length nsites \n",
    "        arr = np.array([oseq for i in range(self.ninds)]) #Creates ninds number of arrays of length nsites using the code above.\n",
    "        muts = np.random.binomial(1, 0.1, (self.ninds, self.nsites)) #Creates a mask with a 10% success rate with dimensions of ninds x nsites \n",
    "        for col in range(nsites):\n",
    "            newbase = mutate(self.arr[0, col]) #Selecting a random new base other than the base present for each position in the sequences.\n",
    "            mask = muts[:, col].astype(bool) #creates a mask of bools for each position. \n",
    "            self.arr[:, col][mask] = newbase #mutate the base with the newbase if it passes the mask filter for mutations.\n",
    "        missing = np.random.binomial(1, 0.1, (self.ninds, self.nsites)) #creates another mask with a 10% success rate\n",
    "        self.arr[missing.astype(bool)] = \"N\" #replaces the base with an N if it passes the mask filter for missing bases.\n",
    "        return self.arr\n",
    "\n",
    "    def filter_missing(self, arr, maxfreq=0.5):\n",
    "        freqmissing = np.sum(self.arr == \"N\", axis=0) / self.arr.shape[0] #Sums # of times N is found in a column and divides it by the number of rows.\n",
    "        return self.arr[:, freqmissing <= maxfreq] #selects those columns that have N frequencies less than or equal to the given maxfreq.\n",
    "\n",
    "    def filter_maf(self, arr, minfreq=0.5):\n",
    "        freqs = np.sum(self.arr != arr[0], axis=0) / arr.shape[0] #Sums the number of times a base is different from the first seq and divides it by length of columns.\n",
    "        maf = freqs.copy() #makes a copy of this array of minor allele freqs\n",
    "        maf[maf > 0.5] = 1 - maf[maf > 0.5] #subselect sites with major freq (>0.5) and modify these to be 1-the value\n",
    "        return self.arr[:, maf > minfreq] #Return columns that have minor allele freqs above the minimum freq. \n",
    "\n",
    "    def calculcate_statistics(self, arr):\n",
    "        nd = np.var(self.arr == self.arr[0], axis=0).mean() #Calculates the mean of the variance across the sequences -> mean nucleotide diversity\n",
    "        mf = np.mean(np.sum(self.arr != arr[0], axis=0) / arr.shape[0]) #Calculates average of invariant sites frequency -> the minor allele frequency  \n",
    "        inv = np.any(self.arr != self.arr[0], axis=0).sum() #Sums the number of invariant sites (mutations)\n",
    "        var = self.arr.shape[1] - inv #Subtracts the number of invariant sites from the number of sites -> variable sites\n",
    "        return pd.Series(\n",
    "            {\"mean nucleotide diversity\": nd,\n",
    "             \"mean minor allele frequency\": mf,\n",
    "             \"invariant sites\": inv,\n",
    "             \"variable sites\": var,\n",
    "            })\n",
    "\n",
    "    "
   ]
  },
  {
   "cell_type": "code",
   "execution_count": 110,
   "metadata": {},
   "outputs": [
    {
     "ename": "AttributeError",
     "evalue": "'Seqlib' object has no attribute 'arr'",
     "output_type": "error",
     "traceback": [
      "\u001b[0;31m---------------------------------------------------------------------------\u001b[0m",
      "\u001b[0;31mAttributeError\u001b[0m                            Traceback (most recent call last)",
      "\u001b[0;32m<ipython-input-110-2b7321c61d21>\u001b[0m in \u001b[0;36m<module>\u001b[0;34m()\u001b[0m\n\u001b[0;32m----> 1\u001b[0;31m \u001b[0mseqs\u001b[0m \u001b[0;34m=\u001b[0m \u001b[0mSeqlib\u001b[0m\u001b[0;34m(\u001b[0m\u001b[0mninds\u001b[0m\u001b[0;34m=\u001b[0m\u001b[0;36m10\u001b[0m\u001b[0;34m,\u001b[0m \u001b[0mnsites\u001b[0m\u001b[0;34m=\u001b[0m\u001b[0;36m50\u001b[0m\u001b[0;34m)\u001b[0m\u001b[0;34m\u001b[0m\u001b[0m\n\u001b[0m",
      "\u001b[0;32m<ipython-input-109-3bea6d931ef0>\u001b[0m in \u001b[0;36m__init__\u001b[0;34m(self, ninds, nsites)\u001b[0m\n\u001b[1;32m      3\u001b[0m         \u001b[0mself\u001b[0m\u001b[0;34m.\u001b[0m\u001b[0mninds\u001b[0m \u001b[0;34m=\u001b[0m \u001b[0mninds\u001b[0m\u001b[0;34m\u001b[0m\u001b[0m\n\u001b[1;32m      4\u001b[0m         \u001b[0mself\u001b[0m\u001b[0;34m.\u001b[0m\u001b[0mnsites\u001b[0m \u001b[0;34m=\u001b[0m \u001b[0mnsites\u001b[0m\u001b[0;34m\u001b[0m\u001b[0m\n\u001b[0;32m----> 5\u001b[0;31m         \u001b[0mself\u001b[0m\u001b[0;34m.\u001b[0m\u001b[0marr\u001b[0m \u001b[0;34m=\u001b[0m \u001b[0mself\u001b[0m\u001b[0;34m.\u001b[0m\u001b[0msimulate\u001b[0m\u001b[0;34m(\u001b[0m\u001b[0mninds\u001b[0m\u001b[0;34m,\u001b[0m \u001b[0mnsites\u001b[0m\u001b[0;34m)\u001b[0m\u001b[0;34m\u001b[0m\u001b[0m\n\u001b[0m\u001b[1;32m      6\u001b[0m \u001b[0;34m\u001b[0m\u001b[0m\n\u001b[1;32m      7\u001b[0m     \u001b[0;32mdef\u001b[0m \u001b[0mmutate\u001b[0m\u001b[0;34m(\u001b[0m\u001b[0mbase\u001b[0m\u001b[0;34m)\u001b[0m\u001b[0;34m:\u001b[0m\u001b[0;34m\u001b[0m\u001b[0m\n",
      "\u001b[0;32m<ipython-input-109-3bea6d931ef0>\u001b[0m in \u001b[0;36msimulate\u001b[0;34m(self, ninds, nsites)\u001b[0m\n\u001b[1;32m     14\u001b[0m         \u001b[0mmuts\u001b[0m \u001b[0;34m=\u001b[0m \u001b[0mnp\u001b[0m\u001b[0;34m.\u001b[0m\u001b[0mrandom\u001b[0m\u001b[0;34m.\u001b[0m\u001b[0mbinomial\u001b[0m\u001b[0;34m(\u001b[0m\u001b[0;36m1\u001b[0m\u001b[0;34m,\u001b[0m \u001b[0;36m0.1\u001b[0m\u001b[0;34m,\u001b[0m \u001b[0;34m(\u001b[0m\u001b[0mself\u001b[0m\u001b[0;34m.\u001b[0m\u001b[0mninds\u001b[0m\u001b[0;34m,\u001b[0m \u001b[0mself\u001b[0m\u001b[0;34m.\u001b[0m\u001b[0mnsites\u001b[0m\u001b[0;34m)\u001b[0m\u001b[0;34m)\u001b[0m \u001b[0;31m#Creates a mask with a 10% success rate with dimensions of ninds x nsites\u001b[0m\u001b[0;34m\u001b[0m\u001b[0m\n\u001b[1;32m     15\u001b[0m         \u001b[0;32mfor\u001b[0m \u001b[0mcol\u001b[0m \u001b[0;32min\u001b[0m \u001b[0mrange\u001b[0m\u001b[0;34m(\u001b[0m\u001b[0mnsites\u001b[0m\u001b[0;34m)\u001b[0m\u001b[0;34m:\u001b[0m\u001b[0;34m\u001b[0m\u001b[0m\n\u001b[0;32m---> 16\u001b[0;31m             \u001b[0mnewbase\u001b[0m \u001b[0;34m=\u001b[0m \u001b[0mmutate\u001b[0m\u001b[0;34m(\u001b[0m\u001b[0mself\u001b[0m\u001b[0;34m.\u001b[0m\u001b[0marr\u001b[0m\u001b[0;34m[\u001b[0m\u001b[0;36m0\u001b[0m\u001b[0;34m,\u001b[0m \u001b[0mcol\u001b[0m\u001b[0;34m]\u001b[0m\u001b[0;34m)\u001b[0m \u001b[0;31m#Selecting a random new base other than the base present for each position in the sequences.\u001b[0m\u001b[0;34m\u001b[0m\u001b[0m\n\u001b[0m\u001b[1;32m     17\u001b[0m             \u001b[0mmask\u001b[0m \u001b[0;34m=\u001b[0m \u001b[0mmuts\u001b[0m\u001b[0;34m[\u001b[0m\u001b[0;34m:\u001b[0m\u001b[0;34m,\u001b[0m \u001b[0mcol\u001b[0m\u001b[0;34m]\u001b[0m\u001b[0;34m.\u001b[0m\u001b[0mastype\u001b[0m\u001b[0;34m(\u001b[0m\u001b[0mbool\u001b[0m\u001b[0;34m)\u001b[0m \u001b[0;31m#creates a mask of bools for each position.\u001b[0m\u001b[0;34m\u001b[0m\u001b[0m\n\u001b[1;32m     18\u001b[0m             \u001b[0mself\u001b[0m\u001b[0;34m.\u001b[0m\u001b[0marr\u001b[0m\u001b[0;34m[\u001b[0m\u001b[0;34m:\u001b[0m\u001b[0;34m,\u001b[0m \u001b[0mcol\u001b[0m\u001b[0;34m]\u001b[0m\u001b[0;34m[\u001b[0m\u001b[0mmask\u001b[0m\u001b[0;34m]\u001b[0m \u001b[0;34m=\u001b[0m \u001b[0mnewbase\u001b[0m \u001b[0;31m#mutate the base with the newbase if it passes the mask filter for mutations.\u001b[0m\u001b[0;34m\u001b[0m\u001b[0m\n",
      "\u001b[0;31mAttributeError\u001b[0m: 'Seqlib' object has no attribute 'arr'"
     ]
    }
   ],
   "source": [
    "seqs = Seqlib(ninds=10, nsites=50)"
   ]
  },
  {
   "cell_type": "code",
   "execution_count": 103,
   "metadata": {},
   "outputs": [
    {
     "name": "stdout",
     "output_type": "stream",
     "text": [
      "10 50\n"
     ]
    }
   ],
   "source": [
    "print(seqs.ninds, seqs.nsites)"
   ]
  },
  {
   "cell_type": "code",
   "execution_count": 106,
   "metadata": {},
   "outputs": [],
   "source": [
    "seqs.maf"
   ]
  },
  {
   "cell_type": "markdown",
   "metadata": {},
   "source": [
    "## Test your package\n",
    "The package should be globally importable (you ran `pip install .` or `pip install -e .` to install it), and it should be able to execute the following code without error. "
   ]
  },
  {
   "cell_type": "code",
   "execution_count": null,
   "metadata": {},
   "outputs": [],
   "source": [
    "import seqlib"
   ]
  },
  {
   "cell_type": "code",
   "execution_count": null,
   "metadata": {},
   "outputs": [],
   "source": [
    "# init a Seqlib Class object\n",
    "seqs = seqlib.Seqlib(ninds=10, nsites=50)"
   ]
  },
  {
   "cell_type": "code",
   "execution_count": null,
   "metadata": {},
   "outputs": [],
   "source": [
    "# access attributes from the object\n",
    "print(seqs.ninds, seqs.nsites)"
   ]
  },
  {
   "cell_type": "code",
   "execution_count": null,
   "metadata": {},
   "outputs": [],
   "source": [
    "# returns the MAF of the array as an array of floats\n",
    "seqs.maf"
   ]
  },
  {
   "cell_type": "code",
   "execution_count": null,
   "metadata": {},
   "outputs": [],
   "source": [
    "# return a view of the filtered sequence array by applying a new function \n",
    "# called `filter()` that applies both the maf and missing filter functions\n",
    "seqs.filter(minmaf=0.1, maxmissing=0.0)"
   ]
  },
  {
   "cell_type": "code",
   "execution_count": null,
   "metadata": {},
   "outputs": [],
   "source": [
    "# calculate statistics for an array with the results returned as a DataFrame\n",
    "seqs.calculate_statistics()"
   ]
  },
  {
   "cell_type": "code",
   "execution_count": null,
   "metadata": {},
   "outputs": [],
   "source": [
    "# calculate statistics for an array after filtering it\n",
    "seqs.filter(minmaf=0.1, maxmissing=0.0).calculate_statistics()"
   ]
  }
 ],
 "metadata": {
  "kernelspec": {
   "display_name": "Python 3",
   "language": "python",
   "name": "python3"
  },
  "language_info": {
   "codemirror_mode": {
    "name": "ipython",
    "version": 3
   },
   "file_extension": ".py",
   "mimetype": "text/x-python",
   "name": "python",
   "nbconvert_exporter": "python",
   "pygments_lexer": "ipython3",
   "version": "3.6.3"
  }
 },
 "nbformat": 4,
 "nbformat_minor": 2
}
