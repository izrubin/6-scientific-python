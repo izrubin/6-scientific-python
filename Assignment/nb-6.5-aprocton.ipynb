{
 "cells": [
  {
   "cell_type": "markdown",
   "metadata": {},
   "source": [
    "# Assignment\n",
    "\n",
    "-------------\n",
    "\n",
    "**1) Complete this notebook and make a pull request:** \n",
    "\n",
    "Answer questions (Q) in the space provided (A) in this notebook. When finished, copy your notebook to the `Assignment/` directory and name it `nb-6.5-<Github-username>.ipynb`. Then make a pull request to the upstream repo. The entered answers in this notebook will be simply Markdown text where I want you to interpret and describe a block of code to better understand what it is doing. Much of this code you will have seen already. \n",
    "\n",
    "\n",
    "**2) Write an importable Python package, save as a repo, and test it here.**\n",
    "\n",
    "The package should be written as we did in our last lession (`.py` files in a directory with a setup.py file so it can be installed with `pip`). Follow instructions at the end of this notebook for how to write your package. Test it here by importing the package and executing the code at the end. It should work and give correct answers, if not, continue working on it. When you have it completed save your package as a new Github repo named `seqlib`."
   ]
  },
  {
   "cell_type": "markdown",
   "metadata": {},
   "source": [
    "### The `seqlib` package\n",
    "\n",
    "Together we are going to write several functions here that will make up your new package called `seqlib`. It will be your job to copy these functions, organize them into a Class, save the code into a `.py` file (you can use SublimeText if you're comfortable with it for much of this, or any text editor including the one in jupyter), package the files so they can be imported as a library, and test the package so that it accomplishes the tasks which are defined at the end of this notebook. First things first, though, let's write the functions. "
   ]
  },
  {
   "cell_type": "code",
   "execution_count": 6,
   "metadata": {},
   "outputs": [],
   "source": [
    "import numpy as np\n",
    "import pandas as pd"
   ]
  },
  {
   "cell_type": "markdown",
   "metadata": {},
   "source": [
    "### Q.  Describe what the `mutate()` function below does:\n",
    "\n",
    "\n",
    "A. `mutate()` takes any nucleobase of `\"ACTG\"` and changes it to one of the other nucleobases in that list (i.e. `mutate('A')` can only return `'C'`, `'T'`, or `'G'` )."
   ]
  },
  {
   "cell_type": "code",
   "execution_count": 7,
   "metadata": {},
   "outputs": [],
   "source": [
    "def mutate(base):\n",
    "    \"Mutate a nucleobase to any different nucleobase\"\n",
    "    diff = set(\"ACTG\") - set(base)\n",
    "    return np.random.choice(list(diff))"
   ]
  },
  {
   "cell_type": "code",
   "execution_count": 8,
   "metadata": {},
   "outputs": [
    {
     "data": {
      "text/plain": [
       "'G'"
      ]
     },
     "execution_count": 8,
     "metadata": {},
     "output_type": "execute_result"
    }
   ],
   "source": [
    "# test it\n",
    "mutate(\"A\")"
   ]
  },
  {
   "cell_type": "markdown",
   "metadata": {},
   "source": [
    "### Q. Describe how the `simulate()` function below works:\n",
    "Annotate the code by inserting lines with comments as you read through the function to make sense of it. What is being created at each step and how is it used?\n",
    "\n",
    "\n",
    "A. The code creates a random sequence of length nsites and replicates it ninds times. Each base has a 10% chance of being mutated from the original base (in an identical way for any one position). The code also randomly drops bases (as though they were missing) with a 10% probability for any one base."
   ]
  },
  {
   "cell_type": "code",
   "execution_count": 9,
   "metadata": {},
   "outputs": [],
   "source": [
    "def simulate(ninds, nsites):\n",
    "    \"\"\"\n",
    "    Simulates ninds DNA sequences of length nsites, with mutations and missing reads (probability 0.1)\n",
    "    \n",
    "    Args:\n",
    "        ninds: the number of replicate sequences to generate and mutate\n",
    "        nsites: the length of the original and replicate sequences\n",
    "        \n",
    "    Returns:\n",
    "        A numpy array of dimensions (ninds, nsites) containing the altered sequences\n",
    "    \"\"\"\n",
    "    # generate a random sequence of length nsites\n",
    "    oseq = np.random.choice(list(\"ACGT\"), size=nsites)\n",
    "    \n",
    "    # initialize an array with oseq repeated ninds times\n",
    "    arr = np.array([oseq for i in range(ninds)])\n",
    "    \n",
    "    # create a random mask for entire array - probability of mutation for any site is 0.1\n",
    "    muts = np.random.binomial(1, 0.1, (ninds, nsites))\n",
    "    \n",
    "    # mutate sequences\n",
    "    for col in range(nsites):\n",
    "        # pick a mutation\n",
    "        newbase = mutate(arr[0, col])\n",
    "        \n",
    "        # create mask for col from muts\n",
    "        mask = muts[:, col].astype(bool)\n",
    "        \n",
    "        # mutate randomly selected rows\n",
    "        arr[:, col][mask] = newbase\n",
    "    \n",
    "    # create a random mask for missing bases and modify arr\n",
    "    missing = np.random.binomial(1, 0.1, (ninds, nsites))\n",
    "    arr[missing.astype(bool)] = \"N\"\n",
    "    \n",
    "    return arr"
   ]
  },
  {
   "cell_type": "code",
   "execution_count": 10,
   "metadata": {},
   "outputs": [
    {
     "name": "stdout",
     "output_type": "stream",
     "text": [
      "[['C' 'A' 'A' 'N' 'T' 'G' 'N' 'N' 'T' 'T' 'G' 'T' 'C' 'C' 'T']\n",
      " ['C' 'A' 'T' 'T' 'C' 'C' 'G' 'A' 'T' 'T' 'G' 'T' 'C' 'G' 'T']\n",
      " ['C' 'A' 'A' 'T' 'T' 'C' 'G' 'A' 'T' 'T' 'G' 'T' 'N' 'C' 'T']\n",
      " ['C' 'A' 'A' 'T' 'N' 'C' 'T' 'A' 'A' 'N' 'G' 'T' 'C' 'C' 'T']\n",
      " ['C' 'A' 'A' 'T' 'T' 'N' 'T' 'A' 'T' 'T' 'G' 'T' 'C' 'C' 'N']\n",
      " ['C' 'A' 'A' 'T' 'C' 'C' 'T' 'A' 'N' 'T' 'G' 'T' 'N' 'C' 'T']]\n"
     ]
    }
   ],
   "source": [
    "seqs = simulate(6, 15)\n",
    "print(seqs)"
   ]
  },
  {
   "cell_type": "markdown",
   "metadata": {},
   "source": [
    "### **Q: Describe how the `filter_missing` function works:**\n",
    "Annotate the code by inserting lines with comments as you read through the function to make sense of it. How does it find columns with missing (N) values in them? How might you mprove it?\n",
    "\n",
    "A. `filter_missing` creates a mask for elements of `arr` which have value `\"N\"`, then sums along the vertical (`0`) axis and divides by the length of that axis. It might be improved by changing the condition of the mask to `arr not in \"ACGT\"` to account for possible situations in which missing reads are not coded by `\"N\"`. The function could also use the `.copy()` function to return a copy of `arr[:, freqmissing <= maxfreq]` rather than a view of part of that array."
   ]
  },
  {
   "cell_type": "code",
   "execution_count": 11,
   "metadata": {},
   "outputs": [],
   "source": [
    "def filter_missing(arr, maxfreq):\n",
    "    \"\"\"\n",
    "    Function to remove sites with a high frequency of missing reads from an array of DNA seqs\n",
    "    \n",
    "    Args:\n",
    "        arr: The array of DNA sequences, with missing reads designated as N\n",
    "        maxfreq: The critical frequency for missing reads. If the frequency of N at a site \n",
    "                 exceeds maxfreq, that site is excluded from the result\n",
    "    \n",
    "    Returns:\n",
    "        A view of arr including only columns in which the frequency of N < maxfreq\n",
    "    \"\"\"\n",
    "    # determine the frequency of missing reads at a site\n",
    "    freqmissing = np.sum(arr == \"N\", axis=0) / arr.shape[0]\n",
    "    \n",
    "    # return arr, sliced to only include cols with freqmissing < maxfreq\n",
    "    return arr[:, freqmissing <= maxfreq]"
   ]
  },
  {
   "cell_type": "code",
   "execution_count": 12,
   "metadata": {},
   "outputs": [
    {
     "data": {
      "text/plain": [
       "array([['C', 'A', 'A', 'G', 'T', 'C'],\n",
       "       ['C', 'A', 'T', 'G', 'T', 'G'],\n",
       "       ['C', 'A', 'A', 'G', 'T', 'C'],\n",
       "       ['C', 'A', 'A', 'G', 'T', 'C'],\n",
       "       ['C', 'A', 'A', 'G', 'T', 'C'],\n",
       "       ['C', 'A', 'A', 'G', 'T', 'C']], dtype='<U1')"
      ]
     },
     "execution_count": 12,
     "metadata": {},
     "output_type": "execute_result"
    }
   ],
   "source": [
    "filter_missing(seqs, 0.1)"
   ]
  },
  {
   "cell_type": "markdown",
   "metadata": {},
   "source": [
    "### **Q: Describe how the `filter_maf` function works:**\n",
    "Annotate the code by inserting lines with comments as you read through the function to make sense of it. How does it calculate minor allele frequencies? Why does it use copy?\n",
    "\n",
    "A. The minor allele frequencies are first calculated by determining the proportion of alleles at a site which differ from the corresponding allele in the first read. Then, if this proportion is greater than 0.5 (i.e. the allele in that site for the first read was not the major allele), it is replaced with its complement. A copy of `freqs` is used so that the original array is not modified."
   ]
  },
  {
   "cell_type": "code",
   "execution_count": 16,
   "metadata": {},
   "outputs": [],
   "source": [
    "def filter_maf(arr, minfreq):\n",
    "    \"\"\"\n",
    "    Filters an array of seqs to only include sites at which a minimum proportion of alleles differ from the majority\n",
    "    \n",
    "    Args:\n",
    "        arr: the array of sequence data\n",
    "        minfreq: the minimum proportion of alleles which must differ from the most common allele at a site\n",
    "        \n",
    "    Returns:\n",
    "        A view of the numpy array arr, filtered to include only columns in which the minor allele frequency exceeds minfreq\n",
    "    \"\"\"\n",
    "    # determine the proportion of alleles in a col that do not match the first row\n",
    "    freqs = np.sum(arr != arr[0], axis=0) / arr.shape[0]\n",
    "    \n",
    "    # create a copy of freqs so that all values > 0.5 are changed to their complement\n",
    "    maf = freqs.copy()\n",
    "    maf[maf > 0.5] = 1 - maf[maf > 0.5]\n",
    "    \n",
    "    return arr[:, maf > minfreq]"
   ]
  },
  {
   "cell_type": "code",
   "execution_count": 17,
   "metadata": {},
   "outputs": [
    {
     "data": {
      "text/plain": [
       "array([['A', 'N', 'T', 'G', 'N', 'N', 'T', 'T', 'C', 'C', 'T'],\n",
       "       ['T', 'T', 'C', 'C', 'G', 'A', 'T', 'T', 'C', 'G', 'T'],\n",
       "       ['A', 'T', 'T', 'C', 'G', 'A', 'T', 'T', 'N', 'C', 'T'],\n",
       "       ['A', 'T', 'N', 'C', 'T', 'A', 'A', 'N', 'C', 'C', 'T'],\n",
       "       ['A', 'T', 'T', 'N', 'T', 'A', 'T', 'T', 'C', 'C', 'N'],\n",
       "       ['A', 'T', 'C', 'C', 'T', 'A', 'N', 'T', 'N', 'C', 'T']],\n",
       "      dtype='<U1')"
      ]
     },
     "execution_count": 17,
     "metadata": {},
     "output_type": "execute_result"
    }
   ],
   "source": [
    "filter_maf(seqs, 0.1)"
   ]
  },
  {
   "cell_type": "markdown",
   "metadata": {},
   "source": [
    "### Q: What order should these functions be applied, does it matter?\n",
    "\n",
    "A. It doesn't matter what order `filter_missing` and `filter_maf` are applied in, because both operate on individual columns in an array, and if a site would be filtered out by both functions, it does not matter which function catches it first."
   ]
  },
  {
   "cell_type": "code",
   "execution_count": 18,
   "metadata": {},
   "outputs": [
    {
     "data": {
      "text/plain": [
       "array([['A', 'C'],\n",
       "       ['T', 'G'],\n",
       "       ['A', 'C'],\n",
       "       ['A', 'C'],\n",
       "       ['A', 'C'],\n",
       "       ['A', 'C']], dtype='<U1')"
      ]
     },
     "execution_count": 18,
     "metadata": {},
     "output_type": "execute_result"
    }
   ],
   "source": [
    "filter_missing(filter_maf(seqs, 0.1), 0.1)"
   ]
  },
  {
   "cell_type": "code",
   "execution_count": 19,
   "metadata": {},
   "outputs": [
    {
     "data": {
      "text/plain": [
       "array([['A', 'C'],\n",
       "       ['T', 'G'],\n",
       "       ['A', 'C'],\n",
       "       ['A', 'C'],\n",
       "       ['A', 'C'],\n",
       "       ['A', 'C']], dtype='<U1')"
      ]
     },
     "execution_count": 19,
     "metadata": {},
     "output_type": "execute_result"
    }
   ],
   "source": [
    "filter_maf(filter_missing(seqs, 0.1), 0.1)"
   ]
  },
  {
   "cell_type": "markdown",
   "metadata": {},
   "source": [
    "### Q: Describe how `calculate_statistics()` works\n",
    "\n",
    "\n",
    "A. `calculate_statistics` returns several statistics about an array generated using `simulate`. These statistics are calculated as follows:\n",
    "* _Mean nucleotide diversity:_ A mask of `arr` is generated with `True` (`== 1`) for bases that were identical to the site in the first read, and `False` (`== 0`) at all other bases. The variance of this mask is taken at all sites (along `axis=0`) and these variances are averaged to give mean diversity.\n",
    "* _Mean minor allele frequency_: The frequency of alleles that differ from the first read is calculated as in `filter_maf`, although there is no step to ensure that the minor allele frequencies are always less than 0.5. These frequencies are then averaged.\n",
    "* _Invariant sites:_ Using `np.any`, find a boolean array of sites which do not vary. Sum this to get an integer value for invariant sites.\n",
    "* _Variant sites:_ Subtract `inv` from the number of sites in `arr` (`arr.shape[1]`)"
   ]
  },
  {
   "cell_type": "code",
   "execution_count": 25,
   "metadata": {},
   "outputs": [],
   "source": [
    "def calculcate_statistics(arr):\n",
    "    \"Return several statistics for a numpy array of DNA sequences\"\n",
    "    # mean nucleotide diversity\n",
    "    nd = np.var(arr == arr[0], axis=0).mean()\n",
    "    # mean frequency of minor allele at each site\n",
    "    mf = np.mean(np.sum(arr != arr[0], axis=0) / arr.shape[0])\n",
    "    # number of sites with no mutations or missing reads\n",
    "    inv = np.any(arr != arr[0], axis=0).sum()\n",
    "    # number of sites with mutations and missing reads\n",
    "    var = arr.shape[1] - inv\n",
    "    return pd.Series(\n",
    "        {\"mean nucleotide diversity\": nd,\n",
    "         \"mean minor allele frequency\": mf,\n",
    "         \"invariant sites\": inv,\n",
    "         \"variable sites\": var,\n",
    "        })"
   ]
  },
  {
   "cell_type": "code",
   "execution_count": 27,
   "metadata": {},
   "outputs": [
    {
     "data": {
      "text/plain": [
       "invariant sites                11.000000\n",
       "mean minor allele frequency     0.344444\n",
       "mean nucleotide diversity       0.120370\n",
       "variable sites                  4.000000\n",
       "dtype: float64"
      ]
     },
     "execution_count": 27,
     "metadata": {},
     "output_type": "execute_result"
    }
   ],
   "source": [
    "calculcate_statistics(seqs)"
   ]
  },
  {
   "cell_type": "markdown",
   "metadata": {},
   "source": [
    "### Instructions: Write a `seqlib` Class object\n",
    "\n",
    "I started writing the bare bones of it below. You should write it so that it can be executed as described below to perform all of the functions we defined above, and so that its attributes can be accessed. Save this class object in a `.py` file and make it into an importable package called `seqlib`. You can write and test your object in this notebook if you like, but it must be saved separately in a `.py` file and be imported. You cannot execute the code at the end using your object defined here in the notebook. When finished save your package to GitHub as a repo just like we did with the `helloworld` package. You do not need to write a CLI script like we did for the `helloworld` package, we will only be using the Python API here. See the examples below for **how you should write your Class object**. It should be able to run in the way written below, so look at that code and think about how you would write a Class object that can do that. \n",
    "\n",
    "While you can mostly copy the functions from above, you will need to modify them slightly to access information about the Class object using *self*. For example, the `simulate()` function below takes self as a first argument and can access `self.inds` and `self.nsites` from that, so we do not need to provide those as arguments to the `simulate` function like we did above. "
   ]
  },
  {
   "cell_type": "code",
   "execution_count": 42,
   "metadata": {},
   "outputs": [],
   "source": [
    "class Seqlib:\n",
    "    def __init__(self, ninds, nsites):\n",
    "        self.ninds = ninds\n",
    "        self.nsites = nsites\n",
    "        self.seqs = self.simulate()\n",
    "        # ...\n",
    "    \n",
    "    def mutate(base):\n",
    "        \"Mutate a nucleobase to any different nucleobase\"\n",
    "        diff = set(\"ACTG\") - set(base)\n",
    "        return np.random.choice(list(diff))\n",
    "    \n",
    "    def simulate(self):\n",
    "        \"\"\"\n",
    "        Simulates ninds DNA sequences of length nsites, with mutations and missing reads (probability 0.1)\n",
    "\n",
    "        Returns:\n",
    "            A numpy array of dimensions (ninds, nsites) containing the altered sequences\n",
    "        \"\"\"\n",
    "        # generate a random sequence of length nsites\n",
    "        oseq = np.random.choice(list(\"ACGT\"), size=self.nsites)\n",
    "\n",
    "        # initialize an array with oseq repeated ninds times\n",
    "        arr = np.array([oseq for i in range(self.ninds)])\n",
    "\n",
    "        # create a random mask for entire array - probability of mutation for any site is 0.1\n",
    "        muts = np.random.binomial(1, 0.1, (self.ninds, self.nsites))\n",
    "\n",
    "        # mutate sequences\n",
    "        for col in range(self.nsites):\n",
    "            # pick a mutation\n",
    "            newbase = mutate(arr[0, col])\n",
    "\n",
    "            # create mask for col from muts\n",
    "            mask = muts[:, col].astype(bool)\n",
    "\n",
    "            # mutate randomly selected rows\n",
    "            arr[:, col][mask] = newbase\n",
    "\n",
    "        # create a random mask for missing bases and modify arr\n",
    "        missing = np.random.binomial(1, 0.1, (self.ninds, self.nsites))\n",
    "        arr[missing.astype(bool)] = \"N\"\n",
    "\n",
    "        return arr\n",
    "        \n",
    "    def filter_missing(arr, maxfreq):\n",
    "        \"\"\"\n",
    "        Function to remove sites with a high frequency of missing reads from an array of DNA seqs\n",
    "\n",
    "        Args:\n",
    "            arr: The array of DNA sequences, with missing reads designated as N\n",
    "            maxfreq: The critical frequency for missing reads. If the frequency of N at a site \n",
    "                     exceeds maxfreq, that site is excluded from the result\n",
    "\n",
    "        Returns:\n",
    "            A view of arr including only columns in which the frequency of N <= maxfreq\n",
    "        \"\"\"\n",
    "        # determine the frequency of missing reads at a site\n",
    "        freqmissing = np.sum(arr == \"N\", axis=0) / arr.shape[0]\n",
    "\n",
    "        # return arr, sliced to only include cols with freqmissing <= maxfreq\n",
    "        return arr[:, freqmissing <= maxfreq]\n",
    "\n",
    "    def filter_maf(arr, minfreq):\n",
    "        \"\"\"\n",
    "        Filters an array of seqs to only include sites at which a minimum proportion of alleles differ from the majority\n",
    "\n",
    "        Args:\n",
    "            arr: the array of sequence data\n",
    "            minfreq: the minimum proportion of alleles which must differ from the most common allele at a site\n",
    "\n",
    "        Returns:\n",
    "            A view of the numpy array arr, filtered to include only columns in which the minor allele frequency exceeds minfreq\n",
    "        \"\"\"\n",
    "        # determine the proportion of alleles in a col that do not match the first row\n",
    "        freqs = np.sum(arr != arr[0], axis=0) / arr.shape[0]\n",
    "\n",
    "        # create a copy of freqs so that all values > 0.5 are changed to their complement\n",
    "        maf = freqs.copy()\n",
    "        maf[maf > 0.5] = 1 - maf[maf > 0.5]\n",
    "\n",
    "        return arr[:, maf > minfreq]\n",
    "    \n",
    "    def filter(self, minmaf, maxmissing):\n",
    "        \"Wrapper to combine filter_missing and filter_maf into one function applied to self.seq\"\n",
    "        return(filter_missing(filter_maf(self.seqs, minfreq=minmaf), maxfreq=maxmissing))\n",
    "    \n",
    "    def calculcate_statistics(self):\n",
    "        \"Return several statistics for a numpy array of DNA sequences\"\n",
    "        # mean nucleotide diversity\n",
    "        nd = np.var(self.seqs == self.seqs[0], axis=0).mean()\n",
    "        # mean frequency of minor allele at each site\n",
    "        mf = np.mean(np.sum(self.seqs != self.seq[0], axis=0) / self.seq.shape[0])\n",
    "        # number of sites with no mutations or missing reads\n",
    "        inv = np.any(self.seqs != self.seqs[0], axis=0).sum()\n",
    "        # number of sites with mutations and missing reads\n",
    "        var = self.seq.shape[1] - inv\n",
    "        return pd.Series(\n",
    "            {\"mean nucleotide diversity\": nd,\n",
    "             \"mean minor allele frequency\": mf,\n",
    "             \"invariant sites\": inv,\n",
    "             \"variable sites\": var,\n",
    "            })\n",
    "    \n",
    "test = Seqlib(10, 20)"
   ]
  },
  {
   "cell_type": "code",
   "execution_count": 43,
   "metadata": {},
   "outputs": [
    {
     "name": "stdout",
     "output_type": "stream",
     "text": [
      "[['G' 'G' 'G' 'N' 'C' 'A' 'G' 'T' 'C' 'N' 'A' 'C' 'T' 'A' 'A' 'T' 'N' 'N'\n",
      "  'T' 'C']\n",
      " ['G' 'G' 'G' 'A' 'N' 'A' 'G' 'T' 'C' 'G' 'A' 'C' 'T' 'A' 'A' 'A' 'A' 'G'\n",
      "  'T' 'C']\n",
      " ['G' 'G' 'G' 'G' 'C' 'A' 'G' 'N' 'C' 'G' 'A' 'A' 'A' 'C' 'A' 'A' 'A' 'C'\n",
      "  'T' 'T']\n",
      " ['G' 'G' 'G' 'G' 'C' 'A' 'G' 'T' 'N' 'N' 'A' 'N' 'T' 'A' 'A' 'A' 'A' 'C'\n",
      "  'T' 'N']\n",
      " ['G' 'G' 'N' 'G' 'T' 'A' 'G' 'T' 'C' 'G' 'A' 'C' 'T' 'A' 'A' 'A' 'A' 'C'\n",
      "  'N' 'C']\n",
      " ['G' 'G' 'G' 'G' 'C' 'A' 'G' 'T' 'C' 'C' 'A' 'C' 'T' 'A' 'A' 'A' 'A' 'C'\n",
      "  'T' 'C']\n",
      " ['G' 'G' 'G' 'A' 'C' 'A' 'G' 'T' 'C' 'C' 'A' 'A' 'T' 'C' 'A' 'A' 'A' 'G'\n",
      "  'T' 'C']\n",
      " ['G' 'G' 'G' 'G' 'C' 'A' 'N' 'N' 'N' 'G' 'A' 'C' 'T' 'A' 'A' 'A' 'N' 'C'\n",
      "  'T' 'T']\n",
      " ['G' 'G' 'G' 'G' 'C' 'A' 'N' 'T' 'C' 'N' 'A' 'N' 'A' 'A' 'A' 'A' 'A' 'C'\n",
      "  'T' 'C']\n",
      " ['G' 'G' 'G' 'G' 'N' 'G' 'G' 'T' 'C' 'C' 'A' 'C' 'T' 'C' 'A' 'N' 'A' 'C'\n",
      "  'T' 'C']]\n",
      "[['G' 'N' 'C' 'A' 'G' 'T' 'C' 'N' 'C' 'T' 'A' 'T' 'N' 'N' 'T' 'C']\n",
      " ['G' 'A' 'N' 'A' 'G' 'T' 'C' 'G' 'C' 'T' 'A' 'A' 'A' 'G' 'T' 'C']\n",
      " ['G' 'G' 'C' 'A' 'G' 'N' 'C' 'G' 'A' 'A' 'C' 'A' 'A' 'C' 'T' 'T']\n",
      " ['G' 'G' 'C' 'A' 'G' 'T' 'N' 'N' 'N' 'T' 'A' 'A' 'A' 'C' 'T' 'N']\n",
      " ['N' 'G' 'T' 'A' 'G' 'T' 'C' 'G' 'C' 'T' 'A' 'A' 'A' 'C' 'N' 'C']\n",
      " ['G' 'G' 'C' 'A' 'G' 'T' 'C' 'C' 'C' 'T' 'A' 'A' 'A' 'C' 'T' 'C']\n",
      " ['G' 'A' 'C' 'A' 'G' 'T' 'C' 'C' 'A' 'T' 'C' 'A' 'A' 'G' 'T' 'C']\n",
      " ['G' 'G' 'C' 'A' 'N' 'N' 'N' 'G' 'C' 'T' 'A' 'A' 'N' 'C' 'T' 'T']\n",
      " ['G' 'G' 'C' 'A' 'N' 'T' 'C' 'N' 'N' 'A' 'A' 'A' 'A' 'C' 'T' 'C']\n",
      " ['G' 'G' 'N' 'G' 'G' 'T' 'C' 'C' 'C' 'T' 'C' 'N' 'A' 'C' 'T' 'C']]\n"
     ]
    }
   ],
   "source": [
    "print(test.seqs)\n",
    "print(test.filter(0, 1))"
   ]
  },
  {
   "cell_type": "code",
   "execution_count": 44,
   "metadata": {},
   "outputs": [
    {
     "ename": "AttributeError",
     "evalue": "'Seqlib' object has no attribute 'seq'",
     "output_type": "error",
     "traceback": [
      "\u001b[1;31m---------------------------------------------------------------------------\u001b[0m",
      "\u001b[1;31mAttributeError\u001b[0m                            Traceback (most recent call last)",
      "\u001b[1;32m<ipython-input-44-5d9fcd9e7e83>\u001b[0m in \u001b[0;36m<module>\u001b[1;34m()\u001b[0m\n\u001b[1;32m----> 1\u001b[1;33m \u001b[0mtest\u001b[0m\u001b[1;33m.\u001b[0m\u001b[0mcalculcate_statistics\u001b[0m\u001b[1;33m(\u001b[0m\u001b[1;33m)\u001b[0m\u001b[1;33m\u001b[0m\u001b[0m\n\u001b[0m",
      "\u001b[1;32m<ipython-input-42-8c2a5030112a>\u001b[0m in \u001b[0;36mcalculcate_statistics\u001b[1;34m(self)\u001b[0m\n\u001b[0;32m     89\u001b[0m         \u001b[1;34m\"Return several statistics for a numpy array of DNA sequences\"\u001b[0m\u001b[1;33m\u001b[0m\u001b[0m\n\u001b[0;32m     90\u001b[0m         \u001b[1;31m# mean nucleotide diversity\u001b[0m\u001b[1;33m\u001b[0m\u001b[1;33m\u001b[0m\u001b[0m\n\u001b[1;32m---> 91\u001b[1;33m         \u001b[0mnd\u001b[0m \u001b[1;33m=\u001b[0m \u001b[0mnp\u001b[0m\u001b[1;33m.\u001b[0m\u001b[0mvar\u001b[0m\u001b[1;33m(\u001b[0m\u001b[0mself\u001b[0m\u001b[1;33m.\u001b[0m\u001b[0mseq\u001b[0m \u001b[1;33m==\u001b[0m \u001b[0mself\u001b[0m\u001b[1;33m.\u001b[0m\u001b[0mseq\u001b[0m\u001b[1;33m[\u001b[0m\u001b[1;36m0\u001b[0m\u001b[1;33m]\u001b[0m\u001b[1;33m,\u001b[0m \u001b[0maxis\u001b[0m\u001b[1;33m=\u001b[0m\u001b[1;36m0\u001b[0m\u001b[1;33m)\u001b[0m\u001b[1;33m.\u001b[0m\u001b[0mmean\u001b[0m\u001b[1;33m(\u001b[0m\u001b[1;33m)\u001b[0m\u001b[1;33m\u001b[0m\u001b[0m\n\u001b[0m\u001b[0;32m     92\u001b[0m         \u001b[1;31m# mean frequency of minor allele at each site\u001b[0m\u001b[1;33m\u001b[0m\u001b[1;33m\u001b[0m\u001b[0m\n\u001b[0;32m     93\u001b[0m         \u001b[0mmf\u001b[0m \u001b[1;33m=\u001b[0m \u001b[0mnp\u001b[0m\u001b[1;33m.\u001b[0m\u001b[0mmean\u001b[0m\u001b[1;33m(\u001b[0m\u001b[0mnp\u001b[0m\u001b[1;33m.\u001b[0m\u001b[0msum\u001b[0m\u001b[1;33m(\u001b[0m\u001b[0mself\u001b[0m\u001b[1;33m.\u001b[0m\u001b[0mseq\u001b[0m \u001b[1;33m!=\u001b[0m \u001b[0mself\u001b[0m\u001b[1;33m.\u001b[0m\u001b[0mseq\u001b[0m\u001b[1;33m[\u001b[0m\u001b[1;36m0\u001b[0m\u001b[1;33m]\u001b[0m\u001b[1;33m,\u001b[0m \u001b[0maxis\u001b[0m\u001b[1;33m=\u001b[0m\u001b[1;36m0\u001b[0m\u001b[1;33m)\u001b[0m \u001b[1;33m/\u001b[0m \u001b[0mself\u001b[0m\u001b[1;33m.\u001b[0m\u001b[0mseq\u001b[0m\u001b[1;33m.\u001b[0m\u001b[0mshape\u001b[0m\u001b[1;33m[\u001b[0m\u001b[1;36m0\u001b[0m\u001b[1;33m]\u001b[0m\u001b[1;33m)\u001b[0m\u001b[1;33m\u001b[0m\u001b[0m\n",
      "\u001b[1;31mAttributeError\u001b[0m: 'Seqlib' object has no attribute 'seq'"
     ]
    }
   ],
   "source": [
    "test.calculcate_statistics()"
   ]
  },
  {
   "cell_type": "markdown",
   "metadata": {},
   "source": [
    "## Test your package\n",
    "The package should be globally importable (you ran `pip install .` or `pip install -e .` to install it), and it should be able to execute the following code without error. "
   ]
  },
  {
   "cell_type": "code",
   "execution_count": 9,
   "metadata": {},
   "outputs": [],
   "source": [
    "import seqlib"
   ]
  },
  {
   "cell_type": "code",
   "execution_count": 11,
   "metadata": {},
   "outputs": [],
   "source": [
    "# init a Seqlib Class object\n",
    "seqs = seqlib.Seqlib(ninds=10, nsites=50)"
   ]
  },
  {
   "cell_type": "code",
   "execution_count": null,
   "metadata": {},
   "outputs": [],
   "source": [
    "# access attributes from the object\n",
    "print(seqs.ninds, seqs.nsites)"
   ]
  },
  {
   "cell_type": "code",
   "execution_count": null,
   "metadata": {},
   "outputs": [],
   "source": [
    "# returns the MAF of the array as an array of floats\n",
    "seqs.maf"
   ]
  },
  {
   "cell_type": "code",
   "execution_count": 13,
   "metadata": {},
   "outputs": [
    {
     "ename": "NameError",
     "evalue": "name 'filter_missing' is not defined",
     "output_type": "error",
     "traceback": [
      "\u001b[1;31m---------------------------------------------------------------------------\u001b[0m",
      "\u001b[1;31mNameError\u001b[0m                                 Traceback (most recent call last)",
      "\u001b[1;32m<ipython-input-13-fdc847483552>\u001b[0m in \u001b[0;36m<module>\u001b[1;34m()\u001b[0m\n\u001b[0;32m      1\u001b[0m \u001b[1;31m# return a view of the filtered sequence array by applying a new function\u001b[0m\u001b[1;33m\u001b[0m\u001b[1;33m\u001b[0m\u001b[0m\n\u001b[0;32m      2\u001b[0m \u001b[1;31m# called `filter()` that applies both the maf and missing filter functions\u001b[0m\u001b[1;33m\u001b[0m\u001b[1;33m\u001b[0m\u001b[0m\n\u001b[1;32m----> 3\u001b[1;33m \u001b[0mseqs\u001b[0m\u001b[1;33m.\u001b[0m\u001b[0mfilter\u001b[0m\u001b[1;33m(\u001b[0m\u001b[0mminmaf\u001b[0m\u001b[1;33m=\u001b[0m\u001b[1;36m0.1\u001b[0m\u001b[1;33m,\u001b[0m \u001b[0mmaxmissing\u001b[0m\u001b[1;33m=\u001b[0m\u001b[1;36m0.0\u001b[0m\u001b[1;33m)\u001b[0m\u001b[1;33m\u001b[0m\u001b[0m\n\u001b[0m",
      "\u001b[1;32mc:\\users\\alex\\pdsb\\seqlib\\seqlib\\seqlib.py\u001b[0m in \u001b[0;36mfilter\u001b[1;34m(self, minmaf, maxmissing)\u001b[0m\n\u001b[0;32m     92\u001b[0m     \u001b[1;32mdef\u001b[0m \u001b[0mfilter\u001b[0m\u001b[1;33m(\u001b[0m\u001b[0mself\u001b[0m\u001b[1;33m,\u001b[0m \u001b[0mminmaf\u001b[0m\u001b[1;33m,\u001b[0m \u001b[0mmaxmissing\u001b[0m\u001b[1;33m)\u001b[0m\u001b[1;33m:\u001b[0m\u001b[1;33m\u001b[0m\u001b[0m\n\u001b[0;32m     93\u001b[0m         \u001b[1;34m\"Wrapper to combine filter_missing and filter_maf into one function\"\u001b[0m\u001b[1;33m\u001b[0m\u001b[0m\n\u001b[1;32m---> 94\u001b[1;33m         return(filter_missing(arr=filter_maf(arr=self.seqs,\n\u001b[0m\u001b[0;32m     95\u001b[0m                                              minfreq=minmaf),\n\u001b[0;32m     96\u001b[0m                               maxfreq=maxmissing))\n",
      "\u001b[1;31mNameError\u001b[0m: name 'filter_missing' is not defined"
     ]
    }
   ],
   "source": [
    "# return a view of the filtered sequence array by applying a new function \n",
    "# called `filter()` that applies both the maf and missing filter functions\n",
    "seqs.filter(minmaf=0.1, maxmissing=0.0)"
   ]
  },
  {
   "cell_type": "code",
   "execution_count": 12,
   "metadata": {},
   "outputs": [
    {
     "ename": "AttributeError",
     "evalue": "'Seqlib' object has no attribute 'calculate_statistics'",
     "output_type": "error",
     "traceback": [
      "\u001b[1;31m---------------------------------------------------------------------------\u001b[0m",
      "\u001b[1;31mAttributeError\u001b[0m                            Traceback (most recent call last)",
      "\u001b[1;32m<ipython-input-12-0db23b66c058>\u001b[0m in \u001b[0;36m<module>\u001b[1;34m()\u001b[0m\n\u001b[0;32m      1\u001b[0m \u001b[1;31m# calculate statistics for an array with the results returned as a DataFrame\u001b[0m\u001b[1;33m\u001b[0m\u001b[1;33m\u001b[0m\u001b[0m\n\u001b[1;32m----> 2\u001b[1;33m \u001b[0mseqs\u001b[0m\u001b[1;33m.\u001b[0m\u001b[0mcalculate_statistics\u001b[0m\u001b[1;33m(\u001b[0m\u001b[1;33m)\u001b[0m\u001b[1;33m\u001b[0m\u001b[0m\n\u001b[0m",
      "\u001b[1;31mAttributeError\u001b[0m: 'Seqlib' object has no attribute 'calculate_statistics'"
     ]
    }
   ],
   "source": [
    "# calculate statistics for an array with the results returned as a DataFrame\n",
    "seqs.calculate_statistics()"
   ]
  },
  {
   "cell_type": "code",
   "execution_count": null,
   "metadata": {},
   "outputs": [],
   "source": [
    "# calculate statistics for an array after filtering it\n",
    "seqs.filter(minmaf=0.1, maxmissing=0.0).calculate_statistics()"
   ]
  }
 ],
 "metadata": {
  "kernelspec": {
   "display_name": "Python 3",
   "language": "python",
   "name": "python3"
  },
  "language_info": {
   "codemirror_mode": {
    "name": "ipython",
    "version": 3
   },
   "file_extension": ".py",
   "mimetype": "text/x-python",
   "name": "python",
   "nbconvert_exporter": "python",
   "pygments_lexer": "ipython3",
   "version": "3.6.3"
  }
 },
 "nbformat": 4,
 "nbformat_minor": 2
}
