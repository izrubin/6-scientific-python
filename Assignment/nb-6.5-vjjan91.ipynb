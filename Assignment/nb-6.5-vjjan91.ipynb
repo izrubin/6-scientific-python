{
 "cells": [
  {
   "cell_type": "markdown",
   "metadata": {},
   "source": [
    "# Assignment\n",
    "\n",
    "-------------\n",
    "\n",
    "**1) Complete this notebook and make a pull request:** \n",
    "\n",
    "Answer questions (Q) in the space provided (A) in this notebook. When finished, copy your notebook to the `Assignment/` directory and name it `nb-6.5-<Github-username>.ipynb`. Then make a pull request to the upstream repo. The entered answers in this notebook will be simply Markdown text where I want you to interpret and describe a block of code to better understand what it is doing. Much of this code you will have seen already. \n",
    "\n",
    "\n",
    "**2) Write an importable Python package, save as a repo, and test it here.**\n",
    "\n",
    "The package should be written as we did in our last lession (`.py` files in a directory with a setup.py file so it can be installed with `pip`). Follow instructions at the end of this notebook for how to write your package. Test it here by importing the package and executing the code at the end. It should work and give correct answers, if not, continue working on it. When you have it completed save your package as a new Github repo named `seqlib`."
   ]
  },
  {
   "cell_type": "markdown",
   "metadata": {},
   "source": [
    "### The `seqlib` package\n",
    "\n",
    "Together we are going to write several functions here that will make up your new package called `seqlib`. It will be your job to copy these functions, organize them into a Class, save the code into a `.py` file (you can use SublimeText if you're comfortable with it for much of this, or any text editor including the one in jupyter), package the files so they can be imported as a library, and test the package so that it accomplishes the tasks which are defined at the end of this notebook. First things first, though, let's write the functions. "
   ]
  },
  {
   "cell_type": "code",
   "execution_count": 3,
   "metadata": {},
   "outputs": [],
   "source": [
    "import numpy as np\n",
    "import pandas as pd"
   ]
  },
  {
   "cell_type": "markdown",
   "metadata": {},
   "source": [
    "### Q.  Describe what the `mutate()` function below does:\n",
    "\n",
    "\n",
    "A. Here, the function asks for a base to be provided such as A, C, G or T. That base is then removed from the set containing ('ACGT') and a random base from the remaining three bases is returned. "
   ]
  },
  {
   "cell_type": "code",
   "execution_count": 4,
   "metadata": {},
   "outputs": [],
   "source": [
    "def mutate(base):\n",
    "    diff = set(\"ACTG\") - set(base)\n",
    "    return np.random.choice(list(diff))"
   ]
  },
  {
   "cell_type": "code",
   "execution_count": 5,
   "metadata": {},
   "outputs": [
    {
     "data": {
      "text/plain": [
       "'G'"
      ]
     },
     "execution_count": 5,
     "metadata": {},
     "output_type": "execute_result"
    }
   ],
   "source": [
    "# test it\n",
    "mutate(\"A\")"
   ]
  },
  {
   "cell_type": "markdown",
   "metadata": {},
   "source": [
    "### Q. Describe how the `seqdata()` function below works:\n",
    "Annotate the code by inserting lines with comments as you read through the function to make sense of it. What is being created at each step and how is it used?\n",
    "\n",
    "\n",
    "A. "
   ]
  },
  {
   "cell_type": "code",
   "execution_count": 6,
   "metadata": {},
   "outputs": [],
   "source": [
    "def simulate(ninds, nsites): # The function is defined with two variables - number of individuals and number of sites (number of bases)\n",
    "    oseq = np.random.choice(list(\"ACGT\"), size=nsites) # A random list of bases of length=nsites is defined\n",
    "    arr = np.array([oseq for i in range(ninds)]) # An array containing the list of bases across the number of individuals (number of rows) is defined\n",
    "    muts = np.random.binomial(1, 0.1, (ninds, nsites)) # To create a mutation, we generate a random binomial distribution where a values of 1 is printed with a success of 10% across each (row, column)\n",
    "    for col in range(nsites): # for every column in the range of the number of sites defined\n",
    "        newbase = mutate(arr[0, col]) # a newbase is created based on the mutate function, for elements in the first row\n",
    "        mask = muts[:, col].astype(bool) # A mask variable is created that prints True for every base that is mutated\n",
    "        arr[:, col][mask] = newbase # For every element in the array that is mutated based on the random binomial distribution, the newbase is added to that element\n",
    "    missing = np.random.binomial(1, 0.1, (ninds, nsites)) # Another random binomial distribution is created that prints a missing base with 10% success\n",
    "    arr[missing.astype(bool)] = \"N\" # The value N is added to the missing based in the array\n",
    "    return arr # The output is returned"
   ]
  },
  {
   "cell_type": "code",
   "execution_count": 7,
   "metadata": {},
   "outputs": [
    {
     "name": "stdout",
     "output_type": "stream",
     "text": [
      "[['G' 'A' 'C' 'C' 'T' 'C' 'A' 'T' 'N' 'T' 'C' 'A' 'G' 'T' 'A']\n",
      " ['C' 'A' 'G' 'C' 'T' 'C' 'A' 'T' 'N' 'T' 'C' 'A' 'G' 'T' 'A']\n",
      " ['C' 'A' 'N' 'N' 'T' 'C' 'A' 'T' 'G' 'T' 'C' 'A' 'G' 'T' 'A']\n",
      " ['C' 'A' 'N' 'C' 'T' 'T' 'A' 'T' 'G' 'T' 'C' 'A' 'N' 'T' 'A']\n",
      " ['C' 'N' 'G' 'C' 'T' 'C' 'N' 'T' 'G' 'T' 'C' 'A' 'G' 'T' 'A']\n",
      " ['G' 'A' 'G' 'C' 'T' 'C' 'C' 'T' 'G' 'G' 'C' 'N' 'G' 'N' 'N']]\n"
     ]
    }
   ],
   "source": [
    "seqs = simulate(6, 15)\n",
    "print(seqs)"
   ]
  },
  {
   "cell_type": "markdown",
   "metadata": {},
   "source": [
    "### **Q: Describe how the `filter_missing` function works:**\n",
    "Annotate the code by inserting lines with comments as you read through the function to make sense of it. How does it find columns with missing (N) values in them? How might you mprove it?\n",
    "\n",
    "A. "
   ]
  },
  {
   "cell_type": "code",
   "execution_count": 8,
   "metadata": {},
   "outputs": [],
   "source": [
    "def filter_missing(arr, maxfreq): # This is a function that returns an array with a defined maximum frequency of missing bases\n",
    "    freqmissing = np.sum(arr == \"N\", axis=0) / arr.shape[0] # A missing frequency is defined that calculates the frequency of N along every column by dividing it by the length of each column\n",
    "    return arr[:, freqmissing <= maxfreq] # The output is returned that contains the array with a given frequency that is less than the maximum frequency defined"
   ]
  },
  {
   "cell_type": "code",
   "execution_count": 9,
   "metadata": {},
   "outputs": [
    {
     "data": {
      "text/plain": [
       "array([['G', 'T', 'C', 'T', 'T', 'C'],\n",
       "       ['C', 'T', 'C', 'T', 'T', 'C'],\n",
       "       ['C', 'T', 'C', 'T', 'T', 'C'],\n",
       "       ['C', 'T', 'T', 'T', 'T', 'C'],\n",
       "       ['C', 'T', 'C', 'T', 'T', 'C'],\n",
       "       ['G', 'T', 'C', 'T', 'G', 'C']], dtype='<U1')"
      ]
     },
     "execution_count": 9,
     "metadata": {},
     "output_type": "execute_result"
    }
   ],
   "source": [
    "filter_missing(seqs, 0.1)"
   ]
  },
  {
   "cell_type": "markdown",
   "metadata": {},
   "source": [
    "### **Q: Describe how the `filter_maf` function works:**\n",
    "Annotate the code by inserting lines with comments as you read through the function to make sense of it. How does it calculate minor allele frequencies? Why does it use copy?\n",
    "\n",
    "A. "
   ]
  },
  {
   "cell_type": "code",
   "execution_count": 10,
   "metadata": {},
   "outputs": [],
   "source": [
    "def filter_maf(arr, minfreq): # Calculates the minor allele frequency and returns the output containing an array with only those elements greater than the frequency defined\n",
    "    freqs = np.sum(arr != arr[0], axis=0) / arr.shape[0] # each element of the array that is not the same as the first row is summed and it's frequency is calculated by dividing it by the length of the columns\n",
    "    maf = freqs.copy() # A copy of the above is made\n",
    "    maf[maf > 0.5] = 1 - maf[maf > 0.5] # For every element within the array whose frequency is >0.5 is subtracted from 1 and returned\n",
    "    return arr[:, maf > minfreq] # An array with elements that are greater than the minfrequency defined are returned"
   ]
  },
  {
   "cell_type": "code",
   "execution_count": 11,
   "metadata": {},
   "outputs": [
    {
     "data": {
      "text/plain": [
       "array([['G', 'A', 'C', 'C', 'C', 'A', 'N', 'T', 'A', 'G', 'T', 'A'],\n",
       "       ['C', 'A', 'G', 'C', 'C', 'A', 'N', 'T', 'A', 'G', 'T', 'A'],\n",
       "       ['C', 'A', 'N', 'N', 'C', 'A', 'G', 'T', 'A', 'G', 'T', 'A'],\n",
       "       ['C', 'A', 'N', 'C', 'T', 'A', 'G', 'T', 'A', 'N', 'T', 'A'],\n",
       "       ['C', 'N', 'G', 'C', 'C', 'N', 'G', 'T', 'A', 'G', 'T', 'A'],\n",
       "       ['G', 'A', 'G', 'C', 'C', 'C', 'G', 'G', 'N', 'G', 'N', 'N']],\n",
       "      dtype='<U1')"
      ]
     },
     "execution_count": 11,
     "metadata": {},
     "output_type": "execute_result"
    }
   ],
   "source": [
    "filter_maf(seqs, 0.1)"
   ]
  },
  {
   "cell_type": "markdown",
   "metadata": {},
   "source": [
    "### Q: What order should these functions be applied, does it matter?\n",
    "\n",
    "A. Ideally, an array must first be obtained by removing a certain percentage of N / missing bases and following which, the minor allele frequency must be calculated. However, in the below example, it does not appear to matter. This could posssibly be due to the size of the overall array"
   ]
  },
  {
   "cell_type": "code",
   "execution_count": 20,
   "metadata": {},
   "outputs": [
    {
     "data": {
      "text/plain": [
       "array([['G', 'C', 'T'],\n",
       "       ['C', 'C', 'T'],\n",
       "       ['C', 'C', 'T'],\n",
       "       ['C', 'T', 'T'],\n",
       "       ['C', 'C', 'T'],\n",
       "       ['G', 'C', 'G']], dtype='<U1')"
      ]
     },
     "execution_count": 20,
     "metadata": {},
     "output_type": "execute_result"
    }
   ],
   "source": [
    "filter_missing(filter_maf(seqs, 0.1), 0.1)"
   ]
  },
  {
   "cell_type": "code",
   "execution_count": 21,
   "metadata": {},
   "outputs": [
    {
     "data": {
      "text/plain": [
       "array([['G', 'C', 'T'],\n",
       "       ['C', 'C', 'T'],\n",
       "       ['C', 'C', 'T'],\n",
       "       ['C', 'T', 'T'],\n",
       "       ['C', 'C', 'T'],\n",
       "       ['G', 'C', 'G']], dtype='<U1')"
      ]
     },
     "execution_count": 21,
     "metadata": {},
     "output_type": "execute_result"
    }
   ],
   "source": [
    "filter_maf(filter_missing(seqs, 0.1), 0.1)"
   ]
  },
  {
   "cell_type": "markdown",
   "metadata": {},
   "source": [
    "### Q: Describe how `calculate_statistics()` works\n",
    "\n",
    "\n",
    "A. "
   ]
  },
  {
   "cell_type": "code",
   "execution_count": 25,
   "metadata": {},
   "outputs": [],
   "source": [
    "def calculcate_statistics(arr):\n",
    "    nd = np.var(arr == arr[0], axis=0).mean() # This function calculates the variance along the mentioned axis and it's mean is then taken\n",
    "    mf = np.mean(np.sum(arr != arr[0], axis=0) / arr.shape[0]) # The mean minor allele frequency is calculated by taking the mean of the frequency of elements that are not the same as the first row\n",
    "    inv = np.any(arr != arr[0], axis=0).sum() # The sum of all elements that are not the same as the first row\n",
    "    var = arr.shape[1] - inv # A variable that subtracts the inv from the total lenght of all rows\n",
    "    return pd.Series(\n",
    "        {\"mean nucleotide diversity\": nd,\n",
    "         \"mean minor allele frequency\": mf,\n",
    "         \"invariant sites\": inv,\n",
    "         \"variable sites\": var,\n",
    "        })"
   ]
  },
  {
   "cell_type": "code",
   "execution_count": 26,
   "metadata": {},
   "outputs": [
    {
     "data": {
      "text/plain": [
       "invariant sites                12.000000\n",
       "mean minor allele frequency     0.255556\n",
       "mean nucleotide diversity       0.127778\n",
       "variable sites                  3.000000\n",
       "dtype: float64"
      ]
     },
     "execution_count": 26,
     "metadata": {},
     "output_type": "execute_result"
    }
   ],
   "source": [
    "calculcate_statistics(seqs)"
   ]
  },
  {
   "cell_type": "markdown",
   "metadata": {},
   "source": [
    "### Instructions: Write a `seqlib` Class object\n",
    "\n",
    "I started writing the bare bones of it below. You should write it so that it can be executed as described below to perform all of the functions we defined above, and so that its attributes can be accessed. Save this class object in a `.py` file and make it into an importable package called `seqlib`. You can write and test your object in this notebook if you like, but it must be saved separately in a `.py` file and be imported. You cannot execute the code at the end using your object defined here in the notebook. When finished save your package to GitHub as a repo just like we did with the `helloworld` package. You do not need to write a CLI script like we did for the `helloworld` package, we will only be using the Python API here. See the examples below for **how you should write your Class object**. It should be able to run in the way written below, so look at that code and think about how you would write a Class object that can do that. \n",
    "\n",
    "While you can mostly copy the functions from above, you will need to modify them slightly to access information about the Class object using *self*. For example, the `simulate()` function below takes self as a first argument and can access `self.inds` and `self.nsites` from that, so we do not need to provide those as arguments to the `simulate` function like we did above. "
   ]
  },
  {
   "cell_type": "code",
   "execution_count": 257,
   "metadata": {},
   "outputs": [],
   "source": [
    "import numpy as np\n",
    "import pandas as pd\n",
    "\n",
    "class Seqlib:\n",
    "    \n",
    "    def __init__(self, ninds, nsites):\n",
    "        self.ninds = ninds\n",
    "        self.nsites = nsites\n",
    "        self.arr = self.simulate()              \n",
    "        \n",
    "    # This function is used later on within the simulate function\n",
    "    def mutate(self, base):\n",
    "        diff = set(\"ACTG\") - set(base)\n",
    "        return np.random.choice(list(diff))\n",
    "    \n",
    "    def simulate(self): # The function is defined with two variables - number of individuals and number of sites (number of bases)\n",
    "        oseq = np.random.choice(list(\"ACGT\"), size=self.nsites) # A random list of bases of length=nsites is defined\n",
    "        self.arr = np.array([oseq for i in range(self.ninds)]) # An array containing the list of bases across the number of individuals (number of rows) is defined\n",
    "        muts = np.random.binomial(1, 0.1, (self.ninds, self.nsites)) # To create a mutation, we generate a random binomial distribution where a values of 1 is printed with a success of 10% across each (row, column)\n",
    "        for col in range(self.nsites): # for every column in the range of the number of sites defined\n",
    "            newbase = self.mutate(self.arr[0, col]) # a newbase is created based on the mutate function, for elements in the first row\n",
    "            mask = muts[:, col].astype(bool) # A mask variable is created that prints True for every base that is mutated\n",
    "            self.arr[:, col][mask] = newbase # For every element in the array that is mutated based on the random binomial distribution, the newbase is added to that element\n",
    "        missing = np.random.binomial(1, 0.1, (self.ninds, self.nsites)) # Another random binomial distribution is created that prints a missing base with 10% success\n",
    "        self.arr[missing.astype(bool)] = \"N\" # The value N is added to the missing based in the array\n",
    "        return self.arr\n",
    "    \n",
    "    def filter_missing(self, maxfreq): # This is a function that returns an array with a defined maximum frequency of missing bases\n",
    "        freqmissing = np.sum(self.arr == \"N\", axis=0) / self.arr.shape[0] # A missing frequency is defined that calculates the frequency of N along every column by dividing it by the length of each column\n",
    "        return self.arr[:, freqmissing <= maxfreq] # The output is returned that contains the array with a given frequency that is less than the maximum frequency defined\n",
    "        \n",
    "    def filter_maf(self, minfreq): # Calculates the minor allele frequency and returns the output containing an array with only those elements greater than the frequency defined\n",
    "        freqs = np.sum(self.arr != self.arr[0], axis=0) / self.arr.shape[0] # each element of the array that is not the same as the first row is summed and it's frequency is calculated by dividing it by the length of the columns\n",
    "        maf = freqs.copy() # A copy of the above is made\n",
    "        maf[maf > 0.5] = 1 - maf[maf > 0.5] # For every element within the array whose frequency is >0.5 is subtracted from 1 and returned\n",
    "        return self.arr[:, maf > minfreq] # An array with elements that are greater than the minfrequency defined are returned \n",
    "    \n",
    "    def maf(self): # TO return MAF as floats (See Notebook 6.1)\n",
    "        freqs = np.sum(self.arr != self.arr[0], axis=0) / self.arr.shape[0] # calculates mutation freq (number of rows in a column that are not equal to the first row over column length)\n",
    "        maf = freqs.copy() # make a copy of the frequency sequence\n",
    "        maf[maf > 0.5] = 1 - maf[maf > 0.5] # select sites where the freq is over .5 and replace with 1-that value\n",
    "        return freqs\n",
    "        \n",
    "    def calculate_statistics(self):\n",
    "        nd = np.var(self.arr == self.arr[0], axis=0).mean() # This function calculates the variance along the mentioned axis and it's mean is then taken\n",
    "        mf = np.mean(np.sum(self.arr != self.arr[0], axis=0) / self.arr.shape[0]) # The mean minor allele frequency is calculated by taking the mean of the frequency of elements that are not the same as the first row\n",
    "        inv = np.any(self.arr != self.arr[0], axis=0).sum() # The sum of all elements that are not the same as the first row\n",
    "        var = self.arr.shape[1] - inv # A variable that subtracts the inv from the total lenght of all rows\n",
    "        return pd.Series(\n",
    "            {\"mean nucleotide diversity\": nd,\n",
    "             \"mean minor allele frequency\": mf,\n",
    "             \"invariant sites\": inv,\n",
    "             \"variable sites\": var,\n",
    "            })\n",
    "    \n",
    "    def filter_maf_missing(self,minfreq,maxmissing):\n",
    "        obj1 = self.filter_missing(maxfreq=maxmissing)\n",
    "        freqs = np.sum(obj1 != obj1[0], axis=0) / obj1.shape[0] # each element of the array that is not the same as the first row is summed and it's frequency is calculated by dividing it by the length of the columns\n",
    "        maf = freqs.copy() # A copy of the above is made\n",
    "        maf[maf > 0.5] = 1 - maf[maf > 0.5] # For every element within the array whose frequency is >0.5 is subtracted from 1 and returned\n",
    "        return obj1[:, maf > minfreq] \n",
    "    \n",
    "    \n",
    "    "
   ]
  },
  {
   "cell_type": "markdown",
   "metadata": {},
   "source": [
    "## Test your package\n",
    "The package should be globally importable (you ran `pip install .` or `pip install -e .` to install it), and it should be able to execute the following code without error. "
   ]
  },
  {
   "cell_type": "code",
   "execution_count": 1,
   "metadata": {},
   "outputs": [],
   "source": [
    "import seqlib"
   ]
  },
  {
   "cell_type": "code",
   "execution_count": 4,
   "metadata": {},
   "outputs": [],
   "source": [
    "# init a Seqlib Class object\n",
    "seqs = seqlib.Seqlib(ninds=10, nsites=50)"
   ]
  },
  {
   "cell_type": "code",
   "execution_count": 5,
   "metadata": {},
   "outputs": [
    {
     "name": "stdout",
     "output_type": "stream",
     "text": [
      "10 50\n"
     ]
    }
   ],
   "source": [
    "# access attributes from the object\n",
    "print(seqs.ninds, seqs.nsites)"
   ]
  },
  {
   "cell_type": "code",
   "execution_count": 6,
   "metadata": {},
   "outputs": [
    {
     "data": {
      "text/plain": [
       "array([['G', 'C', 'G', 'A', 'A', 'T', 'G', 'N', 'C', 'N', 'C', 'T', 'G',\n",
       "        'A', 'A', 'G', 'T', 'T', 'C', 'A', 'T', 'G', 'G', 'C', 'G', 'C',\n",
       "        'G', 'G', 'A', 'G', 'C', 'T', 'T', 'C', 'G', 'T', 'N', 'C', 'G',\n",
       "        'A', 'C', 'A', 'G', 'A', 'C', 'C', 'C', 'C', 'T', 'G'],\n",
       "       ['N', 'C', 'G', 'C', 'A', 'N', 'G', 'N', 'C', 'C', 'C', 'T', 'G',\n",
       "        'A', 'T', 'G', 'C', 'N', 'C', 'A', 'T', 'G', 'G', 'A', 'G', 'C',\n",
       "        'G', 'N', 'C', 'G', 'C', 'G', 'T', 'C', 'G', 'T', 'G', 'C', 'G',\n",
       "        'A', 'C', 'A', 'G', 'A', 'C', 'N', 'C', 'C', 'C', 'G'],\n",
       "       ['G', 'C', 'G', 'C', 'A', 'T', 'G', 'N', 'N', 'C', 'T', 'C', 'G',\n",
       "        'A', 'A', 'G', 'N', 'T', 'C', 'A', 'T', 'G', 'G', 'A', 'G', 'T',\n",
       "        'N', 'G', 'A', 'G', 'C', 'T', 'N', 'C', 'G', 'T', 'G', 'C', 'G',\n",
       "        'A', 'C', 'A', 'G', 'A', 'C', 'C', 'G', 'N', 'C', 'G'],\n",
       "       ['G', 'C', 'G', 'A', 'A', 'T', 'G', 'G', 'T', 'G', 'C', 'T', 'G',\n",
       "        'A', 'T', 'N', 'C', 'T', 'C', 'A', 'T', 'G', 'G', 'C', 'N', 'T',\n",
       "        'G', 'G', 'A', 'G', 'C', 'T', 'T', 'C', 'G', 'T', 'G', 'C', 'G',\n",
       "        'A', 'C', 'G', 'G', 'A', 'C', 'C', 'C', 'C', 'C', 'G'],\n",
       "       ['G', 'C', 'G', 'A', 'A', 'A', 'G', 'G', 'N', 'C', 'C', 'T', 'G',\n",
       "        'A', 'T', 'G', 'C', 'T', 'N', 'T', 'C', 'G', 'G', 'C', 'G', 'C',\n",
       "        'G', 'G', 'N', 'G', 'C', 'T', 'T', 'C', 'T', 'T', 'G', 'C', 'N',\n",
       "        'A', 'C', 'A', 'G', 'N', 'T', 'C', 'C', 'C', 'N', 'G'],\n",
       "       ['G', 'C', 'G', 'N', 'A', 'T', 'T', 'G', 'T', 'C', 'C', 'T', 'G',\n",
       "        'N', 'T', 'G', 'N', 'T', 'C', 'N', 'T', 'G', 'G', 'A', 'G', 'C',\n",
       "        'G', 'G', 'A', 'G', 'C', 'T', 'T', 'N', 'G', 'T', 'G', 'C', 'A',\n",
       "        'A', 'A', 'A', 'N', 'A', 'C', 'C', 'C', 'C', 'T', 'G'],\n",
       "       ['G', 'T', 'G', 'A', 'A', 'N', 'G', 'G', 'C', 'C', 'N', 'T', 'G',\n",
       "        'A', 'T', 'N', 'C', 'T', 'C', 'A', 'T', 'G', 'G', 'N', 'G', 'C',\n",
       "        'G', 'G', 'A', 'G', 'C', 'T', 'T', 'C', 'G', 'T', 'N', 'C', 'N',\n",
       "        'A', 'C', 'A', 'G', 'A', 'C', 'C', 'C', 'C', 'T', 'T'],\n",
       "       ['G', 'C', 'G', 'A', 'N', 'T', 'G', 'G', 'C', 'N', 'C', 'T', 'G',\n",
       "        'A', 'T', 'G', 'C', 'T', 'C', 'A', 'T', 'N', 'G', 'A', 'G', 'C',\n",
       "        'G', 'C', 'A', 'N', 'C', 'T', 'T', 'T', 'G', 'T', 'N', 'N', 'G',\n",
       "        'A', 'C', 'A', 'G', 'A', 'C', 'C', 'C', 'C', 'N', 'G'],\n",
       "       ['G', 'C', 'G', 'A', 'N', 'T', 'G', 'G', 'C', 'N', 'C', 'T', 'C',\n",
       "        'N', 'T', 'G', 'C', 'T', 'C', 'A', 'T', 'G', 'G', 'A', 'G', 'C',\n",
       "        'N', 'G', 'A', 'G', 'C', 'T', 'T', 'C', 'G', 'N', 'G', 'C', 'G',\n",
       "        'A', 'N', 'A', 'G', 'A', 'C', 'C', 'C', 'C', 'N', 'G'],\n",
       "       ['G', 'T', 'G', 'A', 'A', 'T', 'N', 'N', 'C', 'C', 'N', 'N', 'C',\n",
       "        'N', 'N', 'G', 'C', 'T', 'C', 'A', 'N', 'N', 'T', 'A', 'G', 'T',\n",
       "        'G', 'G', 'N', 'G', 'C', 'T', 'T', 'C', 'G', 'T', 'C', 'C', 'G',\n",
       "        'A', 'C', 'G', 'G', 'N', 'T', 'N', 'C', 'N', 'T', 'N']],\n",
       "      dtype='<U1')"
      ]
     },
     "execution_count": 6,
     "metadata": {},
     "output_type": "execute_result"
    }
   ],
   "source": [
    "seqs.simulate()"
   ]
  },
  {
   "cell_type": "code",
   "execution_count": 7,
   "metadata": {},
   "outputs": [
    {
     "data": {
      "text/plain": [
       "array([['C', 'A', 'A', 'T', 'G', 'N', 'C', 'N', 'C', 'T', 'G', 'A', 'A',\n",
       "        'G', 'A', 'T', 'G', 'C', 'C', 'G', 'G', 'A', 'C', 'N', 'G', 'C',\n",
       "        'A', 'A', 'C', 'C', 'C', 'T', 'G'],\n",
       "       ['C', 'C', 'A', 'N', 'G', 'N', 'C', 'C', 'C', 'T', 'G', 'A', 'T',\n",
       "        'G', 'A', 'T', 'G', 'A', 'C', 'G', 'N', 'C', 'C', 'G', 'G', 'C',\n",
       "        'A', 'A', 'C', 'N', 'C', 'C', 'G'],\n",
       "       ['C', 'C', 'A', 'T', 'G', 'N', 'N', 'C', 'T', 'C', 'G', 'A', 'A',\n",
       "        'G', 'A', 'T', 'G', 'A', 'T', 'N', 'G', 'A', 'C', 'G', 'G', 'C',\n",
       "        'A', 'A', 'C', 'C', 'N', 'C', 'G'],\n",
       "       ['C', 'A', 'A', 'T', 'G', 'G', 'T', 'G', 'C', 'T', 'G', 'A', 'T',\n",
       "        'N', 'A', 'T', 'G', 'C', 'T', 'G', 'G', 'A', 'C', 'G', 'G', 'C',\n",
       "        'G', 'A', 'C', 'C', 'C', 'C', 'G'],\n",
       "       ['C', 'A', 'A', 'A', 'G', 'G', 'N', 'C', 'C', 'T', 'G', 'A', 'T',\n",
       "        'G', 'T', 'C', 'G', 'C', 'C', 'G', 'G', 'N', 'C', 'G', 'N', 'C',\n",
       "        'A', 'N', 'T', 'C', 'C', 'N', 'G'],\n",
       "       ['C', 'N', 'A', 'T', 'T', 'G', 'T', 'C', 'C', 'T', 'G', 'N', 'T',\n",
       "        'G', 'N', 'T', 'G', 'A', 'C', 'G', 'G', 'A', 'N', 'G', 'A', 'A',\n",
       "        'A', 'A', 'C', 'C', 'C', 'T', 'G'],\n",
       "       ['T', 'A', 'A', 'N', 'G', 'G', 'C', 'C', 'N', 'T', 'G', 'A', 'T',\n",
       "        'N', 'A', 'T', 'G', 'N', 'C', 'G', 'G', 'A', 'C', 'N', 'N', 'C',\n",
       "        'A', 'A', 'C', 'C', 'C', 'T', 'T'],\n",
       "       ['C', 'A', 'N', 'T', 'G', 'G', 'C', 'N', 'C', 'T', 'G', 'A', 'T',\n",
       "        'G', 'A', 'T', 'N', 'A', 'C', 'G', 'C', 'A', 'T', 'N', 'G', 'C',\n",
       "        'A', 'A', 'C', 'C', 'C', 'N', 'G'],\n",
       "       ['C', 'A', 'N', 'T', 'G', 'G', 'C', 'N', 'C', 'T', 'C', 'N', 'T',\n",
       "        'G', 'A', 'T', 'G', 'A', 'C', 'N', 'G', 'A', 'C', 'G', 'G', 'N',\n",
       "        'A', 'A', 'C', 'C', 'C', 'N', 'G'],\n",
       "       ['T', 'A', 'A', 'T', 'N', 'N', 'C', 'C', 'N', 'N', 'C', 'N', 'N',\n",
       "        'G', 'A', 'N', 'N', 'A', 'T', 'G', 'G', 'N', 'C', 'C', 'G', 'C',\n",
       "        'G', 'N', 'T', 'N', 'N', 'T', 'N']], dtype='<U1')"
      ]
     },
     "execution_count": 7,
     "metadata": {},
     "output_type": "execute_result"
    }
   ],
   "source": [
    "# returns the MAF of the array as an array of floats\n",
    "seqs.filter_maf(0.1)"
   ]
  },
  {
   "cell_type": "code",
   "execution_count": 8,
   "metadata": {},
   "outputs": [
    {
     "data": {
      "text/plain": [
       "array([['C', 'G', 'G', 'G', 'C', 'C', 'T', 'G', 'A', 'A', 'C', 'C'],\n",
       "       ['C', 'G', 'G', 'G', 'C', 'C', 'G', 'G', 'A', 'A', 'C', 'C'],\n",
       "       ['C', 'G', 'G', 'G', 'T', 'C', 'T', 'G', 'A', 'A', 'C', 'G'],\n",
       "       ['C', 'G', 'G', 'G', 'T', 'C', 'T', 'G', 'A', 'G', 'C', 'C'],\n",
       "       ['C', 'G', 'G', 'G', 'C', 'C', 'T', 'T', 'A', 'A', 'T', 'C'],\n",
       "       ['C', 'G', 'G', 'G', 'C', 'C', 'T', 'G', 'A', 'A', 'C', 'C'],\n",
       "       ['T', 'G', 'G', 'G', 'C', 'C', 'T', 'G', 'A', 'A', 'C', 'C'],\n",
       "       ['C', 'G', 'G', 'G', 'C', 'C', 'T', 'G', 'A', 'A', 'C', 'C'],\n",
       "       ['C', 'G', 'C', 'G', 'C', 'C', 'T', 'G', 'A', 'A', 'C', 'C'],\n",
       "       ['T', 'G', 'C', 'T', 'T', 'C', 'T', 'G', 'A', 'G', 'T', 'C']],\n",
       "      dtype='<U1')"
      ]
     },
     "execution_count": 8,
     "metadata": {},
     "output_type": "execute_result"
    }
   ],
   "source": [
    "seqs.filter_missing(0.0)"
   ]
  },
  {
   "cell_type": "code",
   "execution_count": 9,
   "metadata": {},
   "outputs": [
    {
     "data": {
      "text/plain": [
       "array([0.1, 0.2, 0. , 0.3, 0.2, 0.3, 0.2, 0.6, 0.4, 0.7, 0.3, 0.2, 0.2,\n",
       "       0.3, 0.8, 0.2, 0.9, 0.1, 0.1, 0.2, 0.2, 0.2, 0.1, 0.7, 0.1, 0.3,\n",
       "       0.2, 0.2, 0.3, 0.1, 0. , 0.1, 0.1, 0.2, 0.1, 0.1, 0.7, 0.1, 0.3,\n",
       "       0. , 0.2, 0.2, 0.1, 0.2, 0.2, 0.2, 0.1, 0.2, 0.6, 0.2])"
      ]
     },
     "execution_count": 9,
     "metadata": {},
     "output_type": "execute_result"
    }
   ],
   "source": [
    "seqs.maf()"
   ]
  },
  {
   "cell_type": "code",
   "execution_count": 10,
   "metadata": {},
   "outputs": [
    {
     "data": {
      "text/plain": [
       "array([['C', 'G', 'C', 'A', 'C'],\n",
       "       ['C', 'G', 'C', 'A', 'C'],\n",
       "       ['C', 'G', 'T', 'A', 'C'],\n",
       "       ['C', 'G', 'T', 'G', 'C'],\n",
       "       ['C', 'G', 'C', 'A', 'T'],\n",
       "       ['C', 'G', 'C', 'A', 'C'],\n",
       "       ['T', 'G', 'C', 'A', 'C'],\n",
       "       ['C', 'G', 'C', 'A', 'C'],\n",
       "       ['C', 'C', 'C', 'A', 'C'],\n",
       "       ['T', 'C', 'T', 'G', 'T']], dtype='<U1')"
      ]
     },
     "execution_count": 10,
     "metadata": {},
     "output_type": "execute_result"
    }
   ],
   "source": [
    "# return a view of the filtered sequence array by applying a new function \n",
    "# called `filter()` that applies both the maf and missing filter functions\n",
    "seqs.filter_maf_missing(0.1, 0.0)"
   ]
  },
  {
   "cell_type": "code",
   "execution_count": 11,
   "metadata": {},
   "outputs": [
    {
     "data": {
      "text/plain": [
       "invariant sites                47.0000\n",
       "mean minor allele frequency     0.2520\n",
       "mean nucleotide diversity       0.1456\n",
       "variable sites                  3.0000\n",
       "dtype: float64"
      ]
     },
     "execution_count": 11,
     "metadata": {},
     "output_type": "execute_result"
    }
   ],
   "source": [
    "# calculate statistics for an array with the results returned as a DataFrame\n",
    "seqs.calculate_statistics()"
   ]
  },
  {
   "cell_type": "code",
   "execution_count": 12,
   "metadata": {},
   "outputs": [
    {
     "ename": "AttributeError",
     "evalue": "'numpy.ndarray' object has no attribute 'calculate_statistics'",
     "output_type": "error",
     "traceback": [
      "\u001b[0;31m---------------------------------------------------------------------------\u001b[0m",
      "\u001b[0;31mAttributeError\u001b[0m                            Traceback (most recent call last)",
      "\u001b[0;32m<ipython-input-12-df2f5626146c>\u001b[0m in \u001b[0;36m<module>\u001b[0;34m()\u001b[0m\n\u001b[1;32m      1\u001b[0m \u001b[0;31m# calculate statistics for an array after filtering it\u001b[0m\u001b[0;34m\u001b[0m\u001b[0;34m\u001b[0m\u001b[0m\n\u001b[0;32m----> 2\u001b[0;31m \u001b[0mseqs\u001b[0m\u001b[0;34m.\u001b[0m\u001b[0mfilter_maf_missing\u001b[0m\u001b[0;34m(\u001b[0m\u001b[0;36m0.1\u001b[0m\u001b[0;34m,\u001b[0m \u001b[0;36m0.0\u001b[0m\u001b[0;34m)\u001b[0m\u001b[0;34m.\u001b[0m\u001b[0mcalculate_statistics\u001b[0m\u001b[0;34m(\u001b[0m\u001b[0;34m)\u001b[0m\u001b[0;34m\u001b[0m\u001b[0m\n\u001b[0m",
      "\u001b[0;31mAttributeError\u001b[0m: 'numpy.ndarray' object has no attribute 'calculate_statistics'"
     ]
    }
   ],
   "source": [
    "# calculate statistics for an array after filtering it\n",
    "seqs.filter_maf_missing(0.1, 0.0).calculate_statistics()"
   ]
  }
 ],
 "metadata": {
  "kernelspec": {
   "display_name": "Python 3",
   "language": "python",
   "name": "python3"
  },
  "language_info": {
   "codemirror_mode": {
    "name": "ipython",
    "version": 3
   },
   "file_extension": ".py",
   "mimetype": "text/x-python",
   "name": "python",
   "nbconvert_exporter": "python",
   "pygments_lexer": "ipython3",
   "version": "3.6.3"
  }
 },
 "nbformat": 4,
 "nbformat_minor": 2
}
