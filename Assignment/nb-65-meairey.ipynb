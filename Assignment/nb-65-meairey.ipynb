{
 "cells": [
  {
   "cell_type": "markdown",
   "metadata": {},
   "source": [
    "# Assignment\n",
    "\n",
    "-------------\n",
    "\n",
    "**1) Complete this notebook and make a pull request:** \n",
    "\n",
    "Answer questions (Q) in the space provided (A) in this notebook. When finished, copy your notebook to the `Assignment/` directory and name it `nb-6.5-<Github-username>.ipynb`. Then make a pull request to the upstream repo. The entered answers in this notebook will be simply Markdown text where I want you to interpret and describe a block of code to better understand what it is doing. Much of this code you will have seen already. \n",
    "\n",
    "\n",
    "**2) Write an importable Python package, save as a repo, and test it here.**\n",
    "\n",
    "The package should be written as we did in our last lession (`.py` files in a directory with a setup.py file so it can be installed with `pip`). Follow instructions at the end of this notebook for how to write your package. Test it here by importing the package and executing the code at the end. It should work and give correct answers, if not, continue working on it. When you have it completed save your package as a new Github repo named `seqlib`."
   ]
  },
  {
   "cell_type": "markdown",
   "metadata": {},
   "source": [
    "### The `seqlib` package\n",
    "\n",
    "Together we are going to write several functions here that will make up your new package called `seqlib`. It will be your job to copy these functions, organize them into a Class, save the code into a `.py` file (you can use SublimeText if you're comfortable with it for much of this, or any text editor including the one in jupyter), package the files so they can be imported as a library, and test the package so that it accomplishes the tasks which are defined at the end of this notebook. First things first, though, let's write the functions. "
   ]
  },
  {
   "cell_type": "code",
   "execution_count": 13,
   "metadata": {},
   "outputs": [],
   "source": [
    "import numpy as np\n",
    "import pandas as pd"
   ]
  },
  {
   "cell_type": "markdown",
   "metadata": {},
   "source": [
    "### Q.  Describe what the `mutate()` function below does:\n",
    "\n",
    "\n",
    "A. "
   ]
  },
  {
   "cell_type": "code",
   "execution_count": 14,
   "metadata": {},
   "outputs": [],
   "source": [
    "def mutate(base):\n",
    "    # This says to subract a specific base from specified set of bases. AKA mutating it to a new base.\n",
    "    diff = set(\"ACTG\") - set(base)\n",
    "    # This returns a random base from the set of bases that doesnt include the specified base. \n",
    "    return np.random.choice(list(diff))"
   ]
  },
  {
   "cell_type": "code",
   "execution_count": 15,
   "metadata": {},
   "outputs": [
    {
     "data": {
      "text/plain": [
       "'T'"
      ]
     },
     "execution_count": 15,
     "metadata": {},
     "output_type": "execute_result"
    }
   ],
   "source": [
    "# test it\n",
    "mutate(\"A\")"
   ]
  },
  {
   "cell_type": "markdown",
   "metadata": {},
   "source": [
    "### Q. Describe how the `seqdata()` function below works:\n",
    "Annotate the code by inserting lines with comments as you read through the function to make sense of it. What is being created at each step and how is it used?\n",
    "\n",
    "\n",
    "A. "
   ]
  },
  {
   "cell_type": "code",
   "execution_count": 16,
   "metadata": {},
   "outputs": [],
   "source": [
    "def simulate(ninds, nsites):\n",
    "    # First, create a random list of bases that is the length of the number of sites being sampled\n",
    "    oseq = np.random.choice(list(\"ACGT\"), size=nsites)\n",
    "    # This creates an array using the sequence oseq, so it repeates oseq throughout the array\n",
    "    arr = np.array([oseq for i in range(ninds)])\n",
    "    # This is preparing to introduce mutations into the array\n",
    "    muts = np.random.binomial(1, 0.1, (ninds, nsites))\n",
    "    # This for loop adds the mutations into the array, by creating a mask and then mutating the specified percentage of the bases identified in the mask\n",
    "    for col in range(nsites):\n",
    "        newbase = mutate(arr[0, col])\n",
    "        mask = muts[:, col].astype(bool)\n",
    "        arr[:, col][mask] = newbase\n",
    "   # This is setting up a mask to identify sites that are missing\n",
    "    missing = np.random.binomial(1, 0.1, (ninds, nsites))\n",
    "   # This puts the mask over the array and lables the missing values as N\n",
    "    arr[missing.astype(bool)] = \"N\"\n",
    "    return arr"
   ]
  },
  {
   "cell_type": "code",
   "execution_count": 17,
   "metadata": {},
   "outputs": [
    {
     "name": "stdout",
     "output_type": "stream",
     "text": [
      "[['N' 'C' 'N' 'C' 'C' 'N' 'A' 'T' 'G' 'G']\n",
      " ['A' 'C' 'G' 'T' 'A' 'C' 'N' 'T' 'G' 'G']\n",
      " ['A' 'C' 'G' 'T' 'A' 'C' 'A' 'T' 'N' 'G']\n",
      " ['C' 'N' 'C' 'T' 'A' 'C' 'A' 'T' 'G' 'N']\n",
      " ['A' 'C' 'G' 'T' 'A' 'C' 'N' 'T' 'G' 'G']\n",
      " ['A' 'C' 'C' 'N' 'A' 'C' 'A' 'T' 'G' 'A']\n",
      " ['A' 'A' 'G' 'T' 'N' 'C' 'A' 'G' 'G' 'N']\n",
      " ['A' 'N' 'G' 'T' 'A' 'C' 'C' 'T' 'G' 'G']\n",
      " ['N' 'C' 'C' 'T' 'A' 'C' 'A' 'G' 'A' 'G']\n",
      " ['A' 'A' 'G' 'T' 'N' 'C' 'A' 'T' 'G' 'A']]\n"
     ]
    }
   ],
   "source": [
    "seqs = simulate(10, 10)\n",
    "print(seqs)"
   ]
  },
  {
   "cell_type": "markdown",
   "metadata": {},
   "source": [
    "### **Q: Describe how the `filter_missing` function works:**\n",
    "Annotate the code by inserting lines with comments as you read through the function to make sense of it. How does it find columns with missing (N) values in them? How might you mprove it?\n",
    "\n",
    "A. "
   ]
  },
  {
   "cell_type": "code",
   "execution_count": 18,
   "metadata": {},
   "outputs": [],
   "source": [
    "# This function identifies columns that have missing data (N) and removes them from the array\n",
    "def filter_missing(arr, maxfreq):\n",
    "    # This line identifies the columns that have N in them\n",
    "    freqmissing = np.sum(arr == \"N\", axis=0) / arr.shape[0]\n",
    "    # This next argument asks to return the array without the N columns\n",
    "    return arr[:, freqmissing <= maxfreq]\n",
    "# How can this be improved: This can be improved by creating a copy within this function.This makes it so that the origional array isnt altered. "
   ]
  },
  {
   "cell_type": "code",
   "execution_count": 19,
   "metadata": {},
   "outputs": [
    {
     "data": {
      "text/plain": [
       "array([['N', 'C', 'N', 'T', 'G'],\n",
       "       ['G', 'T', 'C', 'T', 'G'],\n",
       "       ['G', 'T', 'C', 'T', 'N'],\n",
       "       ['C', 'T', 'C', 'T', 'G'],\n",
       "       ['G', 'T', 'C', 'T', 'G'],\n",
       "       ['C', 'N', 'C', 'T', 'G'],\n",
       "       ['G', 'T', 'C', 'G', 'G'],\n",
       "       ['G', 'T', 'C', 'T', 'G'],\n",
       "       ['C', 'T', 'C', 'G', 'A'],\n",
       "       ['G', 'T', 'C', 'T', 'G']], dtype='<U1')"
      ]
     },
     "execution_count": 19,
     "metadata": {},
     "output_type": "execute_result"
    }
   ],
   "source": [
    "filter_missing(seqs, 0.1)"
   ]
  },
  {
   "cell_type": "markdown",
   "metadata": {},
   "source": [
    "### **Q: Describe how the `filter_maf` function works:**\n",
    "Annotate the code by inserting lines with comments as you read through the function to make sense of it. How does it calculate minor allele frequencies? Why does it use copy?\n",
    "\n",
    "A. "
   ]
  },
  {
   "cell_type": "code",
   "execution_count": 23,
   "metadata": {},
   "outputs": [],
   "source": [
    "# This function creates an array where the columns with no variation are removed\n",
    "def filter_maf(arr, minfreq):\n",
    "    # Identifies columns in which not all bases in the column are the same\n",
    "    freqs = np.sum(arr != arr[0], axis=0) / arr.shape[0]\n",
    "    # maf creates a copy of of the freqs array: creates an array where no column is uniform in bases\n",
    "    maf = freqs.copy()\n",
    "    # This line indexes the new array for columns that have a certain amount of variation in it\n",
    "    maf[maf > 0.5] = 1 - maf[maf > 0.5]\n",
    "    # This line returns the array\n",
    "    return arr[:, maf > minfreq]"
   ]
  },
  {
   "cell_type": "markdown",
   "metadata": {},
   "source": [
    "### Q: What order should these functions be applied, does it matter?\n",
    "\n",
    "A. If a copy was made for one of these functions, but not the other, it will matter which one goes first. This is because the oder should be run with the copied one first and the other second. If both have copies, it shouldnt matter which one is run first. "
   ]
  },
  {
   "cell_type": "code",
   "execution_count": 24,
   "metadata": {},
   "outputs": [
    {
     "data": {
      "text/plain": [
       "array([['T', 'G'],\n",
       "       ['T', 'G'],\n",
       "       ['T', 'N'],\n",
       "       ['T', 'G'],\n",
       "       ['T', 'G'],\n",
       "       ['T', 'G'],\n",
       "       ['G', 'G'],\n",
       "       ['T', 'G'],\n",
       "       ['G', 'A'],\n",
       "       ['T', 'G']], dtype='<U1')"
      ]
     },
     "execution_count": 24,
     "metadata": {},
     "output_type": "execute_result"
    }
   ],
   "source": [
    "filter_missing(filter_maf(seqs, 0.1), 0.1)"
   ]
  },
  {
   "cell_type": "code",
   "execution_count": 22,
   "metadata": {},
   "outputs": [
    {
     "data": {
      "text/plain": [
       "array([['T', 'G'],\n",
       "       ['T', 'G'],\n",
       "       ['T', 'N'],\n",
       "       ['T', 'G'],\n",
       "       ['T', 'G'],\n",
       "       ['T', 'G'],\n",
       "       ['G', 'G'],\n",
       "       ['T', 'G'],\n",
       "       ['G', 'A'],\n",
       "       ['T', 'G']], dtype='<U1')"
      ]
     },
     "execution_count": 22,
     "metadata": {},
     "output_type": "execute_result"
    }
   ],
   "source": [
    "filter_maf(filter_missing(seqs, 0.1), 0.1)"
   ]
  },
  {
   "cell_type": "markdown",
   "metadata": {},
   "source": [
    "### Q: Describe how `calculate_statistics()` works\n",
    "\n",
    "\n",
    "A. "
   ]
  },
  {
   "cell_type": "code",
   "execution_count": 12,
   "metadata": {},
   "outputs": [],
   "source": [
    "# This function is looking to calculate statistics off of the the array created with the preivous functions\n",
    "def calculcate_statistics(arr):\n",
    "    # nd is looking at the mean nucleotide diversity by taking the variation of the array and dviding it by the mean of the array\n",
    "    nd = np.var(arr == arr[0], axis=0).mean()\n",
    "    # mf is takig the mean minor allele frequency by taking the mean freqncy of columns that contain mutated bases\n",
    "    mf = np.mean(np.sum(arr != arr[0], axis=0) / arr.shape[0])\n",
    "    # inv is looking at invariat sites by counting any sites that have a mutation\n",
    "    inv = np.any(arr != arr[0], axis=0).sum()\n",
    "    # variable sites = this counts then number of sites that do not have variance \n",
    "    var = arr.shape[1] - inv\n",
    "    # This returns a series with all the variables that we just calculated\n",
    "    return pd.Series(\n",
    "        {\"mean nucleotide diversity\": nd,\n",
    "         \"mean minor allele frequency\": mf,\n",
    "         \"invariant sites\": inv,\n",
    "         \"variable sites\": var,\n",
    "        })"
   ]
  },
  {
   "cell_type": "code",
   "execution_count": 13,
   "metadata": {},
   "outputs": [
    {
     "data": {
      "text/plain": [
       "invariant sites                12.000000\n",
       "mean minor allele frequency     0.255556\n",
       "mean nucleotide diversity       0.150000\n",
       "variable sites                  3.000000\n",
       "dtype: float64"
      ]
     },
     "execution_count": 13,
     "metadata": {},
     "output_type": "execute_result"
    }
   ],
   "source": [
    "calculcate_statistics(seqs)"
   ]
  },
  {
   "cell_type": "markdown",
   "metadata": {},
   "source": [
    "### Instructions: Write a `seqlib` Class object\n",
    "\n",
    "I started writing the bare bones of it below. You should write it so that it can be executed as described below to perform all of the functions we defined above, and so that its attributes can be accessed. Save this class object in a `.py` file and make it into an importable package called `seqlib`. You can write and test your object in this notebook if you like, but it must be saved separately in a `.py` file and be imported. You cannot execute the code at the end using your object defined here in the notebook. When finished save your package to GitHub as a repo just like we did with the `helloworld` package. You do not need to write a CLI script like we did for the `helloworld` package, we will only be using the Python API here. See the examples below for **how you should write your Class object**. It should be able to run in the way written below, so look at that code and think about how you would write a Class object that can do that. \n",
    "\n",
    "While you can mostly copy the functions from above, you will need to modify them slightly to access information about the Class object using *self*. For example, the `simulate()` function below takes self as a first argument and can access `self.inds` and `self.nsites` from that, so we do not need to provide those as arguments to the `simulate` function like we did above. "
   ]
  },
  {
   "cell_type": "code",
   "execution_count": 121,
   "metadata": {},
   "outputs": [],
   "source": [
    "import numpy as np\n",
    "import pandas as pd\n",
    "\n",
    "\n",
    "class Seqlib:\n",
    "    def __init__(self, ninds, nsites):\n",
    "        # store attributes\n",
    "        self.ninds = ninds\n",
    "        self.nsites = nsites\n",
    "        self.seqs = self.simulate()\n",
    "        self.simulate()\n",
    "        self.maf = self.filter_maf\n",
    "        self.missing = self.filter_missing\n",
    "        self.filter = self.filter_array\n",
    "        self.statistic = self.calculate_statistics\n",
    "                        \n",
    "    def simulate(self):\n",
    "        oseq = np.random.choice(list(\"ACGT\"), size = self.nsites)\n",
    "        arr = np.array([oseq for i in range(self.ninds)])\n",
    "        muts = np.random.binomial(1, 0.1, (self.ninds, self.nsites))\n",
    "        for col in range (self.nsites):\n",
    "            newbase = np.random.choice(list(set(\"ACTG\") - set(arr[0,col])))\n",
    "            mask = muts[:, col].astype(bool)\n",
    "            arr[:, col][mask] = newbase\n",
    "        missing = np.random.binomial(1, 0.1, (self.ninds, self.nsites))\n",
    "        arr[missing.astype(bool)] = \"N\"\n",
    "        return arr\n",
    "\n",
    "    def filter_missing(self): \n",
    "        freqmissing = np.sum(self.seqs == \"N\", axis=0) / self.seqs.shape[0]\n",
    "        return self.seqs[:, freqmissing <= self.maxfreq]\n",
    "        \n",
    "    def filter_maf(self): \n",
    "        freqz = np.sum(self.seqs != self.seqs[0], axis=0) / self.seqs.shape[0]\n",
    "        maf = freqz.copy()\n",
    "        maf[maf > 0.5] = 1 - maf[maf > .5]\n",
    "        print(maf)\n",
    "        \n",
    "    def filter_array(self, minmaf, maxmissing):\n",
    "        freqmissing = np.sum(self.seqs == \"N\", axis=0) / self.seqs.shape[0]\n",
    "        freqs = np.sum(self.seqs != self.seqs[0], axis=0) / self.seqs.shape[0]\n",
    "        maf = freqs.copy()\n",
    "        maf[maf > 0.5] = 1 - maf[maf > 0.5]\n",
    "        self.seqs[:, maf > minmaf]\n",
    "        return self.seqs[:, freqmissing <= maxmissing]\n",
    "     \n",
    "    def calculate_statistics(self): #arr\n",
    "        nd = np.var(self.seqs == self.seqs[0], axis=0).mean()\n",
    "        mf = np.mean(np.sum(self.seqs !=  self.seqs[0], axis=0) / self.seqs.shape[0])\n",
    "        inv = np.any(self.seqs != self.seqs[0], axis=0).sum()\n",
    "        var = self.seqs.shape[1] - inv\n",
    "        return pd.Series(\n",
    "            {\"mean nucleotide diversity\" : nd,\n",
    "             \"mean minor allele frequency\": mf,\n",
    "             \"invariant sites\": inv,\n",
    "             \"variable sites\": var,\n",
    "            })\n",
    "    "
   ]
  },
  {
   "cell_type": "markdown",
   "metadata": {},
   "source": [
    "## Test your package\n",
    "The package should be globally importable (you ran `pip install .` or `pip install -e .` to install it), and it should be able to execute the following code without error. "
   ]
  },
  {
   "cell_type": "code",
   "execution_count": 1,
   "metadata": {},
   "outputs": [],
   "source": [
    "import seqlib\n"
   ]
  },
  {
   "cell_type": "code",
   "execution_count": 3,
   "metadata": {},
   "outputs": [
    {
     "data": {
      "text/plain": [
       "array([['C', 'T', 'T', 'C', 'C', 'G', 'A', 'N', 'C', 'C', 'C', 'N', 'C',\n",
       "        'C', 'N', 'C', 'C', 'C', 'G', 'A', 'G', 'N', 'A', 'C', 'T', 'C',\n",
       "        'T', 'C', 'T', 'N', 'C', 'G', 'T', 'T', 'C', 'T', 'A', 'C', 'T',\n",
       "        'C', 'C', 'C', 'T', 'A', 'G', 'A', 'T', 'T', 'T', 'N'],\n",
       "       ['T', 'T', 'N', 'C', 'C', 'G', 'A', 'C', 'C', 'C', 'C', 'N', 'C',\n",
       "        'C', 'C', 'C', 'A', 'C', 'G', 'G', 'G', 'T', 'A', 'C', 'G', 'C',\n",
       "        'T', 'C', 'C', 'G', 'C', 'N', 'N', 'T', 'N', 'T', 'A', 'C', 'T',\n",
       "        'C', 'N', 'C', 'T', 'A', 'N', 'N', 'T', 'T', 'T', 'T'],\n",
       "       ['N', 'N', 'T', 'C', 'C', 'N', 'A', 'C', 'A', 'T', 'C', 'C', 'C',\n",
       "        'C', 'C', 'C', 'A', 'C', 'G', 'G', 'N', 'T', 'A', 'N', 'T', 'C',\n",
       "        'T', 'C', 'C', 'G', 'N', 'G', 'T', 'T', 'N', 'T', 'A', 'C', 'T',\n",
       "        'C', 'C', 'C', 'T', 'A', 'G', 'C', 'T', 'T', 'T', 'T'],\n",
       "       ['C', 'T', 'T', 'C', 'C', 'G', 'A', 'C', 'C', 'C', 'N', 'G', 'C',\n",
       "        'C', 'C', 'C', 'A', 'C', 'G', 'G', 'A', 'T', 'A', 'C', 'T', 'C',\n",
       "        'G', 'C', 'T', 'N', 'N', 'G', 'T', 'T', 'C', 'T', 'A', 'N', 'T',\n",
       "        'C', 'C', 'C', 'T', 'A', 'G', 'A', 'T', 'T', 'T', 'T'],\n",
       "       ['C', 'T', 'T', 'C', 'C', 'G', 'A', 'C', 'C', 'N', 'C', 'N', 'C',\n",
       "        'C', 'C', 'C', 'A', 'C', 'G', 'G', 'A', 'T', 'A', 'C', 'G', 'C',\n",
       "        'T', 'C', 'T', 'G', 'C', 'N', 'T', 'T', 'C', 'T', 'N', 'C', 'T',\n",
       "        'C', 'C', 'C', 'T', 'A', 'N', 'N', 'N', 'T', 'T', 'T'],\n",
       "       ['C', 'T', 'T', 'C', 'C', 'G', 'A', 'C', 'C', 'C', 'C', 'G', 'C',\n",
       "        'C', 'C', 'C', 'A', 'C', 'G', 'G', 'G', 'T', 'T', 'C', 'T', 'C',\n",
       "        'T', 'C', 'C', 'G', 'C', 'G', 'T', 'T', 'C', 'A', 'A', 'C', 'T',\n",
       "        'C', 'C', 'A', 'T', 'A', 'G', 'A', 'T', 'T', 'T', 'T'],\n",
       "       ['C', 'T', 'T', 'C', 'C', 'G', 'A', 'C', 'C', 'C', 'N', 'G', 'N',\n",
       "        'G', 'C', 'N', 'A', 'G', 'G', 'G', 'G', 'T', 'A', 'C', 'T', 'C',\n",
       "        'T', 'C', 'T', 'G', 'C', 'G', 'T', 'N', 'C', 'N', 'A', 'C', 'T',\n",
       "        'C', 'G', 'C', 'A', 'A', 'G', 'A', 'T', 'T', 'T', 'T'],\n",
       "       ['C', 'T', 'T', 'C', 'C', 'A', 'A', 'T', 'C', 'C', 'C', 'G', 'C',\n",
       "        'N', 'C', 'C', 'C', 'N', 'G', 'G', 'G', 'N', 'T', 'C', 'T', 'C',\n",
       "        'T', 'C', 'T', 'T', 'C', 'G', 'T', 'T', 'C', 'T', 'A', 'C', 'T',\n",
       "        'C', 'C', 'C', 'T', 'G', 'G', 'A', 'T', 'T', 'T', 'T'],\n",
       "       ['C', 'T', 'T', 'C', 'C', 'G', 'A', 'N', 'C', 'C', 'C', 'G', 'C',\n",
       "        'C', 'C', 'T', 'A', 'C', 'G', 'G', 'G', 'T', 'A', 'C', 'T', 'C',\n",
       "        'T', 'C', 'T', 'T', 'C', 'A', 'T', 'T', 'G', 'T', 'A', 'C', 'G',\n",
       "        'C', 'C', 'C', 'T', 'A', 'G', 'A', 'T', 'T', 'T', 'T'],\n",
       "       ['C', 'T', 'T', 'C', 'G', 'G', 'A', 'N', 'C', 'C', 'C', 'G', 'C',\n",
       "        'N', 'C', 'T', 'A', 'C', 'T', 'G', 'G', 'T', 'A', 'C', 'T', 'C',\n",
       "        'T', 'C', 'T', 'G', 'C', 'G', 'T', 'N', 'C', 'T', 'N', 'C', 'T',\n",
       "        'C', 'G', 'C', 'T', 'A', 'G', 'A', 'T', 'T', 'T', 'T']],\n",
       "      dtype='<U1')"
      ]
     },
     "execution_count": 3,
     "metadata": {},
     "output_type": "execute_result"
    }
   ],
   "source": [
    "# init a Seqlib Class object\n",
    "seqs = seqlib.Seqlib(10, 50)\n",
    "seqs.simulate()"
   ]
  },
  {
   "cell_type": "code",
   "execution_count": 4,
   "metadata": {},
   "outputs": [
    {
     "name": "stdout",
     "output_type": "stream",
     "text": [
      "10 50\n"
     ]
    }
   ],
   "source": [
    "# access attributes from the object\n",
    "print(seqs.ninds, seqs.nsites)"
   ]
  },
  {
   "cell_type": "code",
   "execution_count": 5,
   "metadata": {
    "scrolled": true
   },
   "outputs": [
    {
     "name": "stdout",
     "output_type": "stream",
     "text": [
      "[0.1 0.3 0.2 0.2 0.  0.1 0.1 0.1 0.4 0.1 0.  0.1 0.  0.2 0.4 0.1 0.1 0.1\n",
      " 0.1 0.1 0.  0.2 0.2 0.2 0.1 0.3 0.1 0.1 0.2 0.3 0.1 0.3 0.2 0.  0.1 0.2\n",
      " 0.  0.1 0.3 0.2 0.1 0.  0.  0.2 0.1 0.1 0.1 0.1 0.3 0.1]\n"
     ]
    }
   ],
   "source": [
    "# returns the MAF of the array as an array of floats\n",
    "seqs.maf()"
   ]
  },
  {
   "cell_type": "code",
   "execution_count": 6,
   "metadata": {},
   "outputs": [
    {
     "data": {
      "text/plain": [
       "array([['C', 'C', 'C', 'C', 'A', 'C', 'G', 'A', 'G', 'G', 'C', 'G', 'C',\n",
       "        'A', 'C', 'T', 'C', 'C', 'G', 'T'],\n",
       "       ['C', 'C', 'C', 'C', 'A', 'C', 'G', 'A', 'G', 'G', 'C', 'A', 'C',\n",
       "        'A', 'C', 'T', 'C', 'C', 'T', 'T'],\n",
       "       ['C', 'C', 'C', 'C', 'A', 'C', 'G', 'A', 'G', 'G', 'C', 'G', 'C',\n",
       "        'A', 'C', 'T', 'C', 'C', 'G', 'T'],\n",
       "       ['T', 'C', 'C', 'C', 'A', 'C', 'G', 'A', 'G', 'T', 'C', 'A', 'C',\n",
       "        'A', 'C', 'T', 'C', 'C', 'G', 'T'],\n",
       "       ['C', 'C', 'C', 'C', 'A', 'C', 'G', 'A', 'G', 'G', 'C', 'A', 'C',\n",
       "        'A', 'C', 'T', 'C', 'C', 'G', 'G'],\n",
       "       ['C', 'C', 'C', 'C', 'A', 'C', 'G', 'A', 'G', 'G', 'C', 'A', 'C',\n",
       "        'A', 'C', 'T', 'C', 'C', 'G', 'T'],\n",
       "       ['C', 'C', 'C', 'C', 'A', 'C', 'G', 'A', 'G', 'G', 'C', 'A', 'C',\n",
       "        'A', 'C', 'T', 'C', 'C', 'G', 'T'],\n",
       "       ['C', 'C', 'C', 'C', 'G', 'C', 'G', 'T', 'G', 'G', 'C', 'A', 'C',\n",
       "        'A', 'A', 'T', 'C', 'G', 'G', 'T'],\n",
       "       ['C', 'C', 'C', 'C', 'A', 'C', 'G', 'A', 'G', 'G', 'T', 'A', 'C',\n",
       "        'A', 'C', 'T', 'C', 'C', 'G', 'T'],\n",
       "       ['C', 'C', 'T', 'C', 'A', 'C', 'T', 'A', 'G', 'T', 'C', 'G', 'C',\n",
       "        'A', 'C', 'T', 'C', 'G', 'G', 'T']], dtype='<U1')"
      ]
     },
     "execution_count": 6,
     "metadata": {},
     "output_type": "execute_result"
    }
   ],
   "source": [
    "# return a view of the filtered sequence array by applying a new function \n",
    "# called `filter()` that applies both the maf and missing filter functions\n",
    "seqs.filter(minmaf=0.1, maxmissing=0.0)"
   ]
  },
  {
   "cell_type": "code",
   "execution_count": 7,
   "metadata": {},
   "outputs": [
    {
     "data": {
      "text/plain": [
       "invariant sites                42.0000\n",
       "mean minor allele frequency     0.2500\n",
       "mean nucleotide diversity       0.1114\n",
       "variable sites                  8.0000\n",
       "dtype: float64"
      ]
     },
     "execution_count": 7,
     "metadata": {},
     "output_type": "execute_result"
    }
   ],
   "source": [
    "# calculate statistics for an array with the results returned as a DataFrame\n",
    "seqs.calculate_statistics()"
   ]
  },
  {
   "cell_type": "code",
   "execution_count": null,
   "metadata": {},
   "outputs": [],
   "source": [
    "# calculate statistics for an array after filtering it\n",
    "seqs.filter(minmaf=0.1, maxmissing=0.0).statistic()"
   ]
  }
 ],
 "metadata": {
  "kernelspec": {
   "display_name": "Python 3",
   "language": "python",
   "name": "python3"
  },
  "language_info": {
   "codemirror_mode": {
    "name": "ipython",
    "version": 3
   },
   "file_extension": ".py",
   "mimetype": "text/x-python",
   "name": "python",
   "nbconvert_exporter": "python",
   "pygments_lexer": "ipython3",
   "version": "3.6.3"
  }
 },
 "nbformat": 4,
 "nbformat_minor": 2
}
