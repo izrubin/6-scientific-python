{
 "cells": [
  {
   "cell_type": "markdown",
   "metadata": {},
   "source": [
    "# Assignment\n",
    "\n",
    "-------------\n",
    "\n",
    "**1) Complete this notebook and make a pull request:** \n",
    "\n",
    "Answer questions (Q) in the space provided (A) in this notebook. When finished, copy your notebook to the `Assignment/` directory and name it `nb-6.5-<Github-username>.ipynb`. Then make a pull request to the upstream repo. The entered answers in this notebook will be simply Markdown text where I want you to interpret and describe a block of code to better understand what it is doing. Much of this code you will have seen already. \n",
    "\n",
    "\n",
    "**2) Write an importable Python package, save as a repo, and test it here.**\n",
    "\n",
    "The package should be written as we did in our last lession (`.py` files in a directory with a setup.py file so it can be installed with `pip`). Follow instructions at the end of this notebook for how to write your package. Test it here by importing the package and executing the code at the end. It should work and give correct answers, if not, continue working on it. When you have it completed save your package as a new Github repo named `seqlib`."
   ]
  },
  {
   "cell_type": "markdown",
   "metadata": {},
   "source": [
    "### The `seqlib` package\n",
    "\n",
    "Together we are going to write several functions here that will make up your new package called `seqlib`. It will be your job to copy these functions, organize them into a Class, save the code into a `.py` file (you can use SublimeText if you're comfortable with it for much of this, or any text editor including the one in jupyter), package the files so they can be imported as a library, and test the package so that it accomplishes the tasks which are defined at the end of this notebook. First things first, though, let's write the functions. "
   ]
  },
  {
   "cell_type": "code",
   "execution_count": 1,
   "metadata": {},
   "outputs": [],
   "source": [
    "import numpy as np\n",
    "import pandas as pd"
   ]
  },
  {
   "cell_type": "markdown",
   "metadata": {},
   "source": [
    "### Q.  Describe what the `mutate()` function below does:\n",
    "\n",
    "\n",
    "A. Remove the input base from the set of \"ACTG\" and then return a random base from the resulting set. This will return any base other than the one that was input."
   ]
  },
  {
   "cell_type": "code",
   "execution_count": 8,
   "metadata": {},
   "outputs": [],
   "source": [
    "def mutate(base):\n",
    "    diff = set(\"ACTG\") - set(base)\n",
    "    return np.random.choice(list(diff))"
   ]
  },
  {
   "cell_type": "code",
   "execution_count": 15,
   "metadata": {},
   "outputs": [
    {
     "data": {
      "text/plain": [
       "'G'"
      ]
     },
     "execution_count": 15,
     "metadata": {},
     "output_type": "execute_result"
    }
   ],
   "source": [
    "# test it\n",
    "mutate(\"A\")"
   ]
  },
  {
   "cell_type": "markdown",
   "metadata": {},
   "source": [
    "### Q. Describe how the `seqdata()` function below works:\n",
    "Annotate the code by inserting lines with comments as you read through the function to make sense of it. What is being created at each step and how is it used?\n",
    "\n",
    "\n",
    "A. See my lines with `#` below."
   ]
  },
  {
   "cell_type": "code",
   "execution_count": 16,
   "metadata": {},
   "outputs": [],
   "source": [
    "# create a function given two arguments (rows and columns) to simulate a DNA sequence\n",
    "def simulate(ninds, nsites):\n",
    "    \n",
    "    # define a random sequence of bases of nsites length\n",
    "    oseq = np.random.choice(list(\"ACGT\"), size=nsites)\n",
    "    \n",
    "    # create array with above-defined oseq by ninds number of columns\n",
    "    arr = np.array([oseq for i in range(ninds)])\n",
    "    \n",
    "    # create random mutation probabilities\n",
    "    muts = np.random.binomial(1, 0.1, (ninds, nsites))\n",
    "    \n",
    "    # iterate over each column\n",
    "    for col in range(nsites):\n",
    "        \n",
    "        # perform the mutate function\n",
    "        newbase = mutate(arr[0, col])\n",
    "        \n",
    "        # boolean mask to select by mutation probability\n",
    "        mask = muts[:, col].astype(bool)\n",
    "        \n",
    "        # assign the same mutation to successive iterations in the same column\n",
    "        arr[:, col][mask] = newbase\n",
    "        \n",
    "    # assign random probability for each point in the array\n",
    "    missing = np.random.binomial(1, 0.1, (ninds, nsites))\n",
    "    \n",
    "    # code \"missing\" data as \"N\"\n",
    "    arr[missing.astype(bool)] = \"N\"\n",
    "    \n",
    "    # return the array resulting from the above code\n",
    "    return arr"
   ]
  },
  {
   "cell_type": "code",
   "execution_count": 17,
   "metadata": {},
   "outputs": [
    {
     "name": "stdout",
     "output_type": "stream",
     "text": [
      "[['A' 'C' 'A' 'N' 'G' 'C' 'N' 'T' 'A' 'C' 'A' 'N' 'A' 'A' 'G']\n",
      " ['A' 'C' 'C' 'C' 'G' 'C' 'G' 'G' 'A' 'C' 'A' 'C' 'A' 'A' 'G']\n",
      " ['A' 'N' 'C' 'C' 'N' 'C' 'G' 'N' 'A' 'C' 'A' 'C' 'A' 'N' 'T']\n",
      " ['A' 'C' 'C' 'N' 'G' 'N' 'G' 'G' 'A' 'C' 'A' 'C' 'A' 'A' 'G']\n",
      " ['C' 'N' 'C' 'C' 'G' 'A' 'G' 'T' 'A' 'C' 'A' 'C' 'A' 'A' 'G']\n",
      " ['A' 'C' 'C' 'C' 'G' 'C' 'G' 'G' 'A' 'C' 'A' 'C' 'A' 'A' 'G']]\n"
     ]
    }
   ],
   "source": [
    "seqs = simulate(6, 15)\n",
    "print(seqs)"
   ]
  },
  {
   "cell_type": "markdown",
   "metadata": {},
   "source": [
    "### **Q: Describe how the `filter_missing` function works:**\n",
    "Annotate the code by inserting lines with comments as you read through the function to make sense of it. How does it find columns with missing (N) values in them? How might you mprove it?\n",
    "\n",
    "A. See my lines with `#` below."
   ]
  },
  {
   "cell_type": "code",
   "execution_count": 6,
   "metadata": {},
   "outputs": [],
   "source": [
    "# define a function given two arguments (an array and a maximum frequency)\n",
    "def filter_missing(arr, maxfreq):\n",
    "    \n",
    "    # define the frequency of missing values as the sum of the number of times that the array has \"N\" divided by the shape value\n",
    "    freqmissing = np.sum(arr == \"N\", axis=0) / arr.shape[0]\n",
    "    \n",
    "    # create an array with only the columns that have a frequency of missing values less than or equal to the input maximum frequency\n",
    "    # aka an array of only the columns with no missing data \n",
    "    return arr[:, freqmissing <= maxfreq]"
   ]
  },
  {
   "cell_type": "code",
   "execution_count": 7,
   "metadata": {},
   "outputs": [
    {
     "data": {
      "text/plain": [
       "array([['G', 'G', 'T', 'A', 'C', 'C', 'G', 'G'],\n",
       "       ['G', 'G', 'G', 'A', 'C', 'C', 'A', 'G'],\n",
       "       ['G', 'T', 'T', 'C', 'C', 'C', 'G', 'G'],\n",
       "       ['G', 'G', 'T', 'A', 'C', 'C', 'A', 'A'],\n",
       "       ['G', 'G', 'T', 'A', 'C', 'C', 'G', 'G'],\n",
       "       ['G', 'G', 'T', 'A', 'C', 'C', 'G', 'G']],\n",
       "      dtype='<U1')"
      ]
     },
     "execution_count": 7,
     "metadata": {},
     "output_type": "execute_result"
    }
   ],
   "source": [
    "filter_missing(seqs, 0.1)"
   ]
  },
  {
   "cell_type": "markdown",
   "metadata": {},
   "source": [
    "### **Q: Describe how the `filter_maf` function works:**\n",
    "Annotate the code by inserting lines with comments as you read through the function to make sense of it. How does it calculate minor allele frequencies? Why does it use copy?\n",
    "\n",
    "A. See my lines with `#` below."
   ]
  },
  {
   "cell_type": "code",
   "execution_count": 8,
   "metadata": {},
   "outputs": [],
   "source": [
    "# coming back to this...\n",
    "def filter_maf(arr, minfreq):\n",
    "    \n",
    "    #\n",
    "    freqs = np.sum(arr != arr[0], axis=0) / arr.shape[0]\n",
    "    \n",
    "    #\n",
    "    maf = freqs.copy()\n",
    "    \n",
    "    #\n",
    "    maf[maf > 0.5] = 1 - maf[maf > 0.5]\n",
    "    \n",
    "    #\n",
    "    return arr[:, maf > minfreq]"
   ]
  },
  {
   "cell_type": "code",
   "execution_count": 9,
   "metadata": {
    "scrolled": true
   },
   "outputs": [
    {
     "data": {
      "text/plain": [
       "array([['G', 'T', 'A', 'T', 'N', 'G', 'N', 'C', 'G', 'G', 'A', 'T'],\n",
       "       ['G', 'G', 'A', 'T', 'G', 'G', 'N', 'C', 'A', 'G', 'A', 'T'],\n",
       "       ['T', 'T', 'C', 'N', 'G', 'N', 'N', 'G', 'G', 'G', 'G', 'T'],\n",
       "       ['G', 'T', 'A', 'T', 'G', 'G', 'G', 'C', 'A', 'A', 'A', 'C'],\n",
       "       ['G', 'T', 'A', 'T', 'N', 'G', 'G', 'N', 'G', 'G', 'G', 'N'],\n",
       "       ['G', 'T', 'A', 'T', 'G', 'G', 'T', 'C', 'G', 'G', 'N', 'C']],\n",
       "      dtype='<U1')"
      ]
     },
     "execution_count": 9,
     "metadata": {},
     "output_type": "execute_result"
    }
   ],
   "source": [
    "filter_maf(seqs, 0.1)"
   ]
  },
  {
   "cell_type": "markdown",
   "metadata": {},
   "source": [
    "### Q: What order should these functions be applied, does it matter?\n",
    "\n",
    "A. The output is the same for both orders."
   ]
  },
  {
   "cell_type": "code",
   "execution_count": 10,
   "metadata": {},
   "outputs": [
    {
     "data": {
      "text/plain": [
       "array([['G', 'T', 'A', 'G', 'G'],\n",
       "       ['G', 'G', 'A', 'A', 'G'],\n",
       "       ['T', 'T', 'C', 'G', 'G'],\n",
       "       ['G', 'T', 'A', 'A', 'A'],\n",
       "       ['G', 'T', 'A', 'G', 'G'],\n",
       "       ['G', 'T', 'A', 'G', 'G']],\n",
       "      dtype='<U1')"
      ]
     },
     "execution_count": 10,
     "metadata": {},
     "output_type": "execute_result"
    }
   ],
   "source": [
    "filter_missing(filter_maf(seqs, 0.1), 0.1)"
   ]
  },
  {
   "cell_type": "code",
   "execution_count": 11,
   "metadata": {},
   "outputs": [
    {
     "data": {
      "text/plain": [
       "array([['G', 'T', 'A', 'G', 'G'],\n",
       "       ['G', 'G', 'A', 'A', 'G'],\n",
       "       ['T', 'T', 'C', 'G', 'G'],\n",
       "       ['G', 'T', 'A', 'A', 'A'],\n",
       "       ['G', 'T', 'A', 'G', 'G'],\n",
       "       ['G', 'T', 'A', 'G', 'G']],\n",
       "      dtype='<U1')"
      ]
     },
     "execution_count": 11,
     "metadata": {},
     "output_type": "execute_result"
    }
   ],
   "source": [
    "filter_maf(filter_missing(seqs, 0.1), 0.1)"
   ]
  },
  {
   "cell_type": "markdown",
   "metadata": {},
   "source": [
    "### Q: Describe how `calculate_statistics()` works\n",
    "\n",
    "\n",
    "A. `calculate_statistics()` uses numpy to generate statistical values and shape them into an array, and then uses panda to apply labels to display with the statistical values."
   ]
  },
  {
   "cell_type": "code",
   "execution_count": 12,
   "metadata": {},
   "outputs": [],
   "source": [
    "def calculcate_statistics(arr):\n",
    "    nd = np.var(arr == arr[0], axis=0).mean()\n",
    "    mf = np.mean(np.sum(arr != arr[0], axis=0) / arr.shape[0])\n",
    "    inv = np.any(arr != arr[0], axis=0).sum()\n",
    "    var = arr.shape[1] - inv\n",
    "    return pd.Series(\n",
    "        {\"mean nucleotide diversity\": nd,\n",
    "         \"mean minor allele frequency\": mf,\n",
    "         \"invariant sites\": inv,\n",
    "         \"variable sites\": var,\n",
    "        })"
   ]
  },
  {
   "cell_type": "code",
   "execution_count": 13,
   "metadata": {},
   "outputs": [
    {
     "data": {
      "text/plain": [
       "invariant sites                12.000000\n",
       "mean minor allele frequency     0.255556\n",
       "mean nucleotide diversity       0.150000\n",
       "variable sites                  3.000000\n",
       "dtype: float64"
      ]
     },
     "execution_count": 13,
     "metadata": {},
     "output_type": "execute_result"
    }
   ],
   "source": [
    "calculcate_statistics(seqs)"
   ]
  },
  {
   "cell_type": "markdown",
   "metadata": {},
   "source": [
    "### Instructions: Write a `seqlib` Class object\n",
    "\n",
    "I started writing the bare bones of it below. You should write it so that it can be executed as described below to perform all of the functions we defined above, and so that its attributes can be accessed. Save this class object in a `.py` file and make it into an importable package called `seqlib`. You can write and test your object in this notebook if you like, but it must be saved separately in a `.py` file and be imported. You cannot execute the code at the end using your object defined here in the notebook. When finished save your package to GitHub as a repo just like we did with the `helloworld` package. You do not need to write a CLI script like we did for the `helloworld` package, we will only be using the Python API here. See the examples below for **how you should write your Class object**. It should be able to run in the way written below, so look at that code and think about how you would write a Class object that can do that. \n",
    "\n",
    "While you can mostly copy the functions from above, you will need to modify them slightly to access information about the Class object using *self*. For example, the `simulate()` function below takes self as a first argument and can access `self.inds` and `self.nsites` from that, so we do not need to provide those as arguments to the `simulate` function like we did above. "
   ]
  },
  {
   "cell_type": "code",
   "execution_count": null,
   "metadata": {},
   "outputs": [],
   "source": [
    "# to be continued...\n",
    "class Seqlib:\n",
    "    def __init__(self, ninds, nsites):\n",
    "        self.ninds = ninds\n",
    "        self.nsites = nsites\n",
    "        self.seqs = self.simulate()\n",
    "        # ...\n",
    "        \n",
    "    def simulate(self):\n",
    "        pass\n",
    "        # ...\n",
    "        \n",
    "    # continue writing this full object..\n",
    "    "
   ]
  },
  {
   "cell_type": "markdown",
   "metadata": {},
   "source": [
    "## Test your package\n",
    "The package should be globally importable (you ran `pip install .` or `pip install -e .` to install it), and it should be able to execute the following code without error. "
   ]
  },
  {
   "cell_type": "code",
   "execution_count": null,
   "metadata": {},
   "outputs": [],
   "source": [
    "import seqlib"
   ]
  },
  {
   "cell_type": "code",
   "execution_count": null,
   "metadata": {},
   "outputs": [],
   "source": [
    "# init a Seqlib Class object\n",
    "seqs = seqlib.Seqlib(ninds=10, nsites=50)"
   ]
  },
  {
   "cell_type": "code",
   "execution_count": null,
   "metadata": {},
   "outputs": [],
   "source": [
    "# access attributes from the object\n",
    "print(seqs.ninds, seqs.nsites)"
   ]
  },
  {
   "cell_type": "code",
   "execution_count": null,
   "metadata": {},
   "outputs": [],
   "source": [
    "# returns the MAF of the array as an array of floats\n",
    "seqs.maf"
   ]
  },
  {
   "cell_type": "code",
   "execution_count": null,
   "metadata": {},
   "outputs": [],
   "source": [
    "# return a view of the filtered sequence array by applying a new function \n",
    "# called `filter()` that applies both the maf and missing filter functions\n",
    "seqs.filter(minmaf=0.1, maxmissing=0.0)"
   ]
  },
  {
   "cell_type": "code",
   "execution_count": null,
   "metadata": {},
   "outputs": [],
   "source": [
    "# calculate statistics for an array with the results returned as a DataFrame\n",
    "seqs.calculate_statistics()"
   ]
  },
  {
   "cell_type": "code",
   "execution_count": null,
   "metadata": {},
   "outputs": [],
   "source": [
    "# calculate statistics for an array after filtering it\n",
    "seqs.filter(minmaf=0.1, maxmissing=0.0).calculate_statistics()"
   ]
  }
 ],
 "metadata": {
  "kernelspec": {
   "display_name": "Python 3",
   "language": "python",
   "name": "python3"
  },
  "language_info": {
   "codemirror_mode": {
    "name": "ipython",
    "version": 3
   },
   "file_extension": ".py",
   "mimetype": "text/x-python",
   "name": "python",
   "nbconvert_exporter": "python",
   "pygments_lexer": "ipython3",
   "version": "3.6.3"
  }
 },
 "nbformat": 4,
 "nbformat_minor": 2
}
