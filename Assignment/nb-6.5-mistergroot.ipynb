{
 "cells": [
  {
   "cell_type": "markdown",
   "metadata": {},
   "source": [
    "# Assignment\n",
    "\n",
    "-------------\n",
    "\n",
    "**1) Complete this notebook and make a pull request:** \n",
    "\n",
    "Answer questions (Q) in the space provided (A) in this notebook. When finished, copy your notebook to the `Assignment/` directory and name it `nb-6.5-<Github-username>.ipynb`. Then make a pull request to the upstream repo. The entered answers in this notebook will be simply Markdown text where I want you to interpret and describe a block of code to better understand what it is doing. Much of this code you will have seen already. \n",
    "\n",
    "\n",
    "**2) Write an importable Python package, save as a repo, and test it here.**\n",
    "\n",
    "The package should be written as we did in our last lession (`.py` files in a directory with a setup.py file so it can be installed with `pip`). Follow instructions at the end of this notebook for how to write your package. Test it here by importing the package and executing the code at the end. It should work and give correct answers, if not, continue working on it. When you have it completed save your package as a new Github repo named `seqlib`."
   ]
  },
  {
   "cell_type": "markdown",
   "metadata": {},
   "source": [
    "### The `seqlib` package\n",
    "\n",
    "Together we are going to write several functions here that will make up your new package called `seqlib`. It will be your job to copy these functions, organize them into a Class, save the code into a `.py` file (you can use SublimeText if you're comfortable with it for much of this, or any text editor including the one in jupyter), package the files so they can be imported as a library, and test the package so that it accomplishes the tasks which are defined at the end of this notebook. First things first, though, let's write the functions. "
   ]
  },
  {
   "cell_type": "code",
   "execution_count": 12,
   "metadata": {},
   "outputs": [],
   "source": [
    "import numpy as np\n",
    "import pandas as pd"
   ]
  },
  {
   "cell_type": "markdown",
   "metadata": {},
   "source": [
    "### Q.  Describe what the `mutate()` function below does:\n",
    "\n",
    "\n",
    "A. A base is subtracted from the set `(\"ACTG\")` and `np.random.choice` is run using the remaining bases."
   ]
  },
  {
   "cell_type": "code",
   "execution_count": 13,
   "metadata": {},
   "outputs": [],
   "source": [
    "def mutate(base):\n",
    "    diff = set(\"ACTG\") - set(base)\n",
    "    return np.random.choice(list(diff))"
   ]
  },
  {
   "cell_type": "code",
   "execution_count": 111,
   "metadata": {},
   "outputs": [
    {
     "data": {
      "text/plain": [
       "'C'"
      ]
     },
     "execution_count": 111,
     "metadata": {},
     "output_type": "execute_result"
    }
   ],
   "source": [
    "# test it\n",
    "mutate(\"A\")"
   ]
  },
  {
   "cell_type": "markdown",
   "metadata": {},
   "source": [
    "### Q. Describe how the `seqdata()` function below works:\n",
    "Annotate the code by inserting lines with comments as you read through the function to make sense of it. What is being created at each step and how is it used?\n",
    "\n",
    "A. See annotations in code"
   ]
  },
  {
   "cell_type": "code",
   "execution_count": 10,
   "metadata": {},
   "outputs": [],
   "source": [
    "def simulate(ninds, nsites):\n",
    "    #Generating sequence data\n",
    "    oseq = np.random.choice(list(\"ACGT\"), size=nsites)\n",
    "    arr = np.array([oseq for i in range(ninds)])\n",
    "    #Adding mutations at a 0.1 frequency\n",
    "    muts = np.random.binomial(1, 0.1, (ninds, nsites))\n",
    "    for col in range(nsites):\n",
    "        newbase = mutate(arr[0, col])\n",
    "        mask = muts[:, col].astype(bool)\n",
    "        arr[:, col][mask] = newbase\n",
    "    #Adding missing data in the form of \"N\"\n",
    "    missing = np.random.binomial(1, 0.1, (ninds, nsites))\n",
    "    arr[missing.astype(bool)] = \"N\"\n",
    "    #Returning the generated sequence data that contains mutations and missing bases\n",
    "    return arr"
   ]
  },
  {
   "cell_type": "code",
   "execution_count": 113,
   "metadata": {},
   "outputs": [
    {
     "name": "stdout",
     "output_type": "stream",
     "text": [
      "[['N' 'C' 'C' 'G' 'A' 'N' 'T' 'N' 'G' 'C' 'A' 'T' 'N' 'G' 'T']\n",
      " ['C' 'C' 'N' 'A' 'A' 'G' 'T' 'G' 'C' 'T' 'N' 'T' 'T' 'G' 'T']\n",
      " ['N' 'C' 'C' 'N' 'A' 'G' 'T' 'N' 'C' 'C' 'A' 'T' 'T' 'G' 'T']\n",
      " ['C' 'A' 'C' 'G' 'A' 'G' 'T' 'G' 'G' 'C' 'A' 'T' 'G' 'G' 'C']\n",
      " ['C' 'C' 'N' 'G' 'A' 'G' 'T' 'T' 'G' 'C' 'A' 'T' 'T' 'G' 'T']\n",
      " ['C' 'N' 'C' 'G' 'A' 'G' 'T' 'G' 'G' 'C' 'A' 'T' 'T' 'G' 'C']]\n"
     ]
    }
   ],
   "source": [
    "seqs = simulate(6, 15)\n",
    "print(seqs)"
   ]
  },
  {
   "cell_type": "markdown",
   "metadata": {},
   "source": [
    "### **Q: Describe how the `filter_missing` function works:**\n",
    "Annotate the code by inserting lines with comments as you read through the function to make sense of it. How does it find columns with missing (N) values in them? How might you mprove it?\n",
    "\n",
    "A. See annotations in code below"
   ]
  },
  {
   "cell_type": "code",
   "execution_count": 12,
   "metadata": {},
   "outputs": [],
   "source": [
    "def filter_missing(arr, maxfreq):\n",
    "    #Creating a criteria to return a modified array that substracts columns that\n",
    "    #have a frequency of missing base pairs defined by the user\n",
    "    freqmissing = np.sum(arr == \"N\", axis=0) / arr.shape[0]\n",
    "    #Returning the modified array\n",
    "    return arr[:, freqmissing <= maxfreq]\n",
    "#The function could be improved by creating a copy of the array similar to what is done in filter_maf"
   ]
  },
  {
   "cell_type": "code",
   "execution_count": 115,
   "metadata": {},
   "outputs": [
    {
     "data": {
      "text/plain": [
       "array([['A', 'T', 'G', 'C', 'T', 'G', 'T'],\n",
       "       ['A', 'T', 'C', 'T', 'T', 'G', 'T'],\n",
       "       ['A', 'T', 'C', 'C', 'T', 'G', 'T'],\n",
       "       ['A', 'T', 'G', 'C', 'T', 'G', 'C'],\n",
       "       ['A', 'T', 'G', 'C', 'T', 'G', 'T'],\n",
       "       ['A', 'T', 'G', 'C', 'T', 'G', 'C']],\n",
       "      dtype='<U1')"
      ]
     },
     "execution_count": 115,
     "metadata": {},
     "output_type": "execute_result"
    }
   ],
   "source": [
    "filter_missing(seqs, 0.1)"
   ]
  },
  {
   "cell_type": "markdown",
   "metadata": {},
   "source": [
    "### **Q: Describe how the `filter_maf` function works:**\n",
    "Annotate the code by inserting lines with comments as you read through the function to make sense of it. How does it calculate minor allele frequencies? Why does it use copy?\n",
    "\n",
    "A. filter_maf creates a modified array that contains only columns with a user-defined minfreq"
   ]
  },
  {
   "cell_type": "code",
   "execution_count": 13,
   "metadata": {},
   "outputs": [],
   "source": [
    "def filter_maf(arr, minfreq):\n",
    "    #Summing true values and divide by len of columns (shape[0]) to get frequency and store as freqs\n",
    "    freqs = np.sum(arr != arr[0], axis=0) / arr.shape[0]\n",
    "    #We create a copy to that we don't overwrite the original array\n",
    "    maf = freqs.copy()\n",
    "    #Subselect sites with major freq (>0.5) and modify to be 1-value\n",
    "    maf[maf > 0.5] = 1 - maf[maf > 0.5]\n",
    "    #Returning the new array that is filtered by only columns that have a greater minor allele frequency\n",
    "    #than the user-defined minfreq\n",
    "    return arr[:, maf > minfreq]"
   ]
  },
  {
   "cell_type": "code",
   "execution_count": 117,
   "metadata": {},
   "outputs": [
    {
     "data": {
      "text/plain": [
       "array([['N', 'C', 'C', 'G', 'N', 'N', 'G', 'C', 'A', 'N', 'T'],\n",
       "       ['C', 'C', 'N', 'A', 'G', 'G', 'C', 'T', 'N', 'T', 'T'],\n",
       "       ['N', 'C', 'C', 'N', 'G', 'N', 'C', 'C', 'A', 'T', 'T'],\n",
       "       ['C', 'A', 'C', 'G', 'G', 'G', 'G', 'C', 'A', 'G', 'C'],\n",
       "       ['C', 'C', 'N', 'G', 'G', 'T', 'G', 'C', 'A', 'T', 'T'],\n",
       "       ['C', 'N', 'C', 'G', 'G', 'G', 'G', 'C', 'A', 'T', 'C']],\n",
       "      dtype='<U1')"
      ]
     },
     "execution_count": 117,
     "metadata": {},
     "output_type": "execute_result"
    }
   ],
   "source": [
    "filter_maf(seqs, 0.1)"
   ]
  },
  {
   "cell_type": "markdown",
   "metadata": {},
   "source": [
    "### Q: What order should these functions be applied, does it matter?\n",
    "\n",
    "A. I cannot see a reason why this would matter other than that filter_maf creates a freq.copy to not modify the original array but filter_missing does not. Thus, if we run filter_missing first, we are modifying the original array and then running filter_maf. If we run filter_maf first we will run both functions on a copy of the array."
   ]
  },
  {
   "cell_type": "code",
   "execution_count": 120,
   "metadata": {},
   "outputs": [
    {
     "data": {
      "text/plain": [
       "array([['G', 'C', 'T'],\n",
       "       ['C', 'T', 'T'],\n",
       "       ['C', 'C', 'T'],\n",
       "       ['G', 'C', 'C'],\n",
       "       ['G', 'C', 'T'],\n",
       "       ['G', 'C', 'C']],\n",
       "      dtype='<U1')"
      ]
     },
     "execution_count": 120,
     "metadata": {},
     "output_type": "execute_result"
    }
   ],
   "source": [
    "filter_missing(filter_maf(seqs, 0.1), 0.1)"
   ]
  },
  {
   "cell_type": "code",
   "execution_count": 121,
   "metadata": {},
   "outputs": [
    {
     "data": {
      "text/plain": [
       "array([['G', 'C', 'T'],\n",
       "       ['C', 'T', 'T'],\n",
       "       ['C', 'C', 'T'],\n",
       "       ['G', 'C', 'C'],\n",
       "       ['G', 'C', 'T'],\n",
       "       ['G', 'C', 'C']],\n",
       "      dtype='<U1')"
      ]
     },
     "execution_count": 121,
     "metadata": {},
     "output_type": "execute_result"
    }
   ],
   "source": [
    "filter_maf(filter_missing(seqs, 0.1), 0.1)\n"
   ]
  },
  {
   "cell_type": "markdown",
   "metadata": {},
   "source": [
    "### Q: Describe how `calculate_statistics()` works\n",
    "\n",
    "A. See below"
   ]
  },
  {
   "cell_type": "code",
   "execution_count": 16,
   "metadata": {},
   "outputs": [],
   "source": [
    "def calculate_statistics(arr):\n",
    "    #Calculating the mean nucleotide diversity of the arrays by calculating the variance\n",
    "    #and then dividing it by the mean\n",
    "    nd = np.var(arr == arr[0], axis=0).mean()\n",
    "    #Calculating mean minor allele frequency by finding mutated sites\n",
    "    #and dividing by the len of columns (shape[0])\n",
    "    mf = np.mean(np.sum(arr != arr[0], axis=0) / arr.shape[0])\n",
    "    #Calculating invariance\n",
    "    #The only issue I have is that since the != operator is used, it seems that this line is\n",
    "    #actually calculating variance, not invariance\n",
    "    inv = np.any(arr != arr[0], axis=0).sum()\n",
    "    #Calculating variance by subtracting the number of invariant sites\n",
    "    var = arr.shape[1] - inv\n",
    "    #Returning a pandas series\"\n",
    "    return pd.Series(\n",
    "        {\"mean nucleotide diversity\": nd,\n",
    "         \"mean minor allele frequency\": mf,\n",
    "         \"invariant sites\": inv,\n",
    "         \"variable sites\": var,\n",
    "        })"
   ]
  },
  {
   "cell_type": "code",
   "execution_count": 38,
   "metadata": {},
   "outputs": [
    {
     "data": {
      "text/plain": [
       "invariant sites                10.000000\n",
       "mean minor allele frequency     0.244444\n",
       "mean nucleotide diversity       0.103704\n",
       "variable sites                  5.000000\n",
       "dtype: float64"
      ]
     },
     "execution_count": 38,
     "metadata": {},
     "output_type": "execute_result"
    }
   ],
   "source": [
    "calculate_statistics(seqs)"
   ]
  },
  {
   "cell_type": "markdown",
   "metadata": {},
   "source": [
    "### Instructions: Write a `seqlib` Class object\n",
    "\n",
    "I started writing the bare bones of it below. You should write it so that it can be executed as described below to perform all of the functions we defined above, and so that its attributes can be accessed. Save this class object in a `.py` file and make it into an importable package called `seqlib`. You can write and test your object in this notebook if you like, but it must be saved separately in a `.py` file and be imported. You cannot execute the code at the end using your object defined here in the notebook. When finished save your package to GitHub as a repo just like we did with the `helloworld` package. You do not need to write a CLI script like we did for the `helloworld` package, we will only be using the Python API here. See the examples below for **how you should write your Class object**. It should be able to run in the way written below, so look at that code and think about how you would write a Class object that can do that. \n",
    "\n",
    "While you can mostly copy the functions from above, you will need to modify them slightly to access information about the Class object using *self*. For example, the `simulate()` function below takes self as a first argument and can access `self.inds` and `self.nsites` from that, so we do not need to provide those as arguments to the `simulate` function like we did above. "
   ]
  },
  {
   "cell_type": "code",
   "execution_count": 69,
   "metadata": {},
   "outputs": [],
   "source": [
    "class Seqlib:\n",
    "\n",
    "    def __init__(self, ninds, nsites):\n",
    "        self.ninds = ninds\n",
    "        self.nsites = nsites\n",
    "        self.seqs = self.simulate()\n",
    "\n",
    "    def simulate(self):\n",
    "        oseq = np.random.choice(list(\"ACGT\"), size=self.nsites)\n",
    "        arr = np.array([oseq for i in range(self.ninds)])\n",
    "        muts = np.random.binomial(1, 0.1, (self.ninds, self.nsites))\n",
    "        for col in range(self.nsites):\n",
    "            newbase = np.random.choice(list(set(\"ACTG\") - set(arr[0, col])))\n",
    "            mask = muts[:, col].astype(bool)\n",
    "            arr[:, col][mask] = newbase\n",
    "        missing = np.random.binomial(1, 0.1, (self.ninds, self.nsites))\n",
    "        arr[missing.astype(bool)] = \"N\"\n",
    "        return arr\n",
    "    \n",
    "    def maf(self):\n",
    "        freqs = np.sum(self.seqs != self.seqs[0], axis=0) / self.seqs.shape[0]\n",
    "        maf = freqs.copy()\n",
    "        maf[maf > 0.5] = 1 - maf[maf > 0.5]\n",
    "        print(maf)\n",
    "    \n",
    "    def filter(self, minmaf, maxmissing):\n",
    "        freqs = np.sum(self.seqs != self.seqs[0], axis=0) / self.seqs.shape[0]\n",
    "        maf = freqs.copy()\n",
    "        maf[maf > 0.5] = 1 - maf[maf > 0.5]\n",
    "        freqmissing = np.sum(self.seqs == \"N\", axis=0) / self.seqs.shape[0]\n",
    "        self.seqs[:, maf > minmaf]\n",
    "        return self.seqs[:, freqmissing <= maxmissing]\n",
    "        \n",
    "    def calculate_statistics(self):\n",
    "        nd = np.var(self.seqs == self.seqs[0], axis=0).mean()\n",
    "        mf = np.mean(np.sum(self.seqs != self.seqs[0], axis=0) / self.seqs.shape[0])\n",
    "        inv = np.any(self.seqs != self.seqs[0], axis=0).sum()\n",
    "        var = self.seqs.shape[1] - inv\n",
    "        return pd.Series(\n",
    "            {\"mean nucleotide diversity\": nd,\n",
    "             \"mean minor allele frequency\": mf,\n",
    "             \"invariant sites\": inv,\n",
    "             \"variable sites\": var,\n",
    "            })\n",
    "    "
   ]
  },
  {
   "cell_type": "markdown",
   "metadata": {},
   "source": [
    "## Test your package\n",
    "The package should be globally importable (you ran `pip install .` or `pip install -e .` to install it), and it should be able to execute the following code without error. "
   ]
  },
  {
   "cell_type": "code",
   "execution_count": 1,
   "metadata": {},
   "outputs": [],
   "source": [
    "import seqlib"
   ]
  },
  {
   "cell_type": "code",
   "execution_count": 15,
   "metadata": {},
   "outputs": [
    {
     "data": {
      "text/plain": [
       "array([['C', 'G', 'T', 'C', 'C', 'T', 'C', 'A', 'G', 'T'],\n",
       "       ['C', 'G', 'T', 'A', 'T', 'T', 'C', 'A', 'G', 'N'],\n",
       "       ['N', 'G', 'T', 'C', 'C', 'T', 'T', 'A', 'G', 'T'],\n",
       "       ['N', 'A', 'T', 'C', 'C', 'T', 'C', 'A', 'G', 'T'],\n",
       "       ['C', 'N', 'T', 'C', 'N', 'T', 'C', 'A', 'G', 'T'],\n",
       "       ['C', 'G', 'T', 'C', 'C', 'T', 'T', 'A', 'G', 'T']],\n",
       "      dtype='<U1')"
      ]
     },
     "execution_count": 15,
     "metadata": {},
     "output_type": "execute_result"
    }
   ],
   "source": [
    "# init a Seqlib Class object\n",
    "seqs = seqlib.Seqlib(ninds=6, nsites=10)\n",
    "seqs.simulate()"
   ]
  },
  {
   "cell_type": "code",
   "execution_count": 8,
   "metadata": {},
   "outputs": [
    {
     "name": "stdout",
     "output_type": "stream",
     "text": [
      "6 10\n"
     ]
    }
   ],
   "source": [
    "# access attributes from the object\n",
    "print(seqs.ninds, seqs.nsites)"
   ]
  },
  {
   "cell_type": "code",
   "execution_count": 4,
   "metadata": {},
   "outputs": [
    {
     "name": "stdout",
     "output_type": "stream",
     "text": [
      "[ 0.33333333  0.33333333  0.16666667  0.16666667  0.16666667  0.          0.\n",
      "  0.16666667  0.16666667  0.        ]\n"
     ]
    }
   ],
   "source": [
    "# returns the MAF of the array as an array of floats\n",
    "seqs.maf()"
   ]
  },
  {
   "cell_type": "code",
   "execution_count": 10,
   "metadata": {},
   "outputs": [
    {
     "data": {
      "text/plain": [
       "array([['A', 'C', 'A', 'C'],\n",
       "       ['A', 'C', 'A', 'G'],\n",
       "       ['C', 'C', 'A', 'G'],\n",
       "       ['A', 'C', 'A', 'C'],\n",
       "       ['A', 'C', 'A', 'C'],\n",
       "       ['A', 'C', 'A', 'C']],\n",
       "      dtype='<U1')"
      ]
     },
     "execution_count": 10,
     "metadata": {},
     "output_type": "execute_result"
    }
   ],
   "source": [
    "# return a view of the filtered sequence array by applying a new function \n",
    "# called `filter()` that applies both the maf and missing filter functions\n",
    "seqs.filter(minmaf=0.1, maxmissing=0.0)"
   ]
  },
  {
   "cell_type": "code",
   "execution_count": 5,
   "metadata": {},
   "outputs": [
    {
     "data": {
      "text/plain": [
       "invariant sites                7.000000\n",
       "mean minor allele frequency    0.216667\n",
       "mean nucleotide diversity      0.113889\n",
       "variable sites                 3.000000\n",
       "dtype: float64"
      ]
     },
     "execution_count": 5,
     "metadata": {},
     "output_type": "execute_result"
    }
   ],
   "source": [
    "# calculate statistics for an array with the results returned as a DataFrame\n",
    "seqs.calculate_statistics()"
   ]
  },
  {
   "cell_type": "code",
   "execution_count": null,
   "metadata": {},
   "outputs": [],
   "source": [
    "# calculate statistics for an array after filtering it\n",
    "seqs.filter(minmaf=0.1, maxmissing=0.0).calculate_statistics()"
   ]
  }
 ],
 "metadata": {
  "kernelspec": {
   "display_name": "Python 3",
   "language": "python",
   "name": "python3"
  },
  "language_info": {
   "codemirror_mode": {
    "name": "ipython",
    "version": 3
   },
   "file_extension": ".py",
   "mimetype": "text/x-python",
   "name": "python",
   "nbconvert_exporter": "python",
   "pygments_lexer": "ipython3",
   "version": "3.6.3"
  }
 },
 "nbformat": 4,
 "nbformat_minor": 2
}
